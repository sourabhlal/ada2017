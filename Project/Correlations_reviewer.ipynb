{
 "cells": [
  {
   "cell_type": "code",
   "execution_count": 1,
   "metadata": {
    "collapsed": true
   },
   "outputs": [],
   "source": [
    "#libraries \n",
    "import pandas as pd\n",
    "import gzip\n",
    "from tqdm import tqdm\n",
    "\n",
    "from datetime import datetime\n",
    "from datetime import date, time\n",
    "from dateutil.parser import parse\n",
    "import numpy as np\n",
    "\n",
    "\n",
    "\n",
    "from bokeh.plotting import figure, output_notebook, show,output_file,gridplot\n",
    "from bokeh.models import DatetimeTickFormatter,HoverTool,Span\n",
    "\n",
    "import json\n",
    "import matplotlib.pyplot as plt\n",
    "import pickle\n",
    "%matplotlib inline"
   ]
  },
  {
   "cell_type": "code",
   "execution_count": 41,
   "metadata": {
    "collapsed": true
   },
   "outputs": [],
   "source": [
    "def distribution (rev):\n",
    "    data=df.loc[rev]\n",
    "    print(len(data))\n",
    "    print(data.iloc[0,1:3])\n",
    "    plt.figure(figsize=(15,10))\n",
    "    \n",
    "    plt.subplot(4,2,1)\n",
    "    w= np.ones_like(data['overall'])/float(len(data['overall']))\n",
    "    plt.hist(data['overall'],weights=w)\n",
    "    plt.title('overall score')\n",
    "    plt.grid()\n",
    "    \n",
    "    plt.subplot(4,2,2)\n",
    "    w= np.ones_like(data.length_review)/float(len(data.length_review))\n",
    "    plt.hist(data['length_review'],weights=w)\n",
    "    plt.grid()\n",
    "    plt.title('length of reviews')\n",
    "    \n",
    "    plt.subplot(4,2,5)\n",
    "    w= np.ones_like(data.sentiment_pos)/float(len(data.sentiment_pos))\n",
    "    plt.hist(data['sentiment_pos'],weights=w)\n",
    "    plt.grid()\n",
    "    plt.title('positiveness')\n",
    "    \n",
    "    plt.subplot(4,2,6)\n",
    "    w= np.ones_like(data.sentiment_neg)/float(len(data.sentiment_neg))\n",
    "    plt.hist(data['sentiment_neg'],weights=w)\n",
    "    plt.grid()\n",
    "    plt.title('negativeness')\n",
    "    \n",
    "    plt.subplot(4,2,3)\n",
    "    w= np.ones_like(data.helpfulness.dropna())/float(len(data.helpfulness.dropna()))\n",
    "    plt.hist(data['helpfulness'].dropna(),weights=w)\n",
    "    plt.grid()\n",
    "    plt.title('helpfulness')\n",
    "    \n",
    "    plt.subplot(4,2,4)\n",
    "    w= np.ones_like(data.price)/float(len(data.price))\n",
    "    plt.hist(data['price'],weights=w)\n",
    "    plt.grid()\n",
    "    plt.title('price')\n",
    "    \n",
    "    plt.subplot(4,2,7)\n",
    "    plt.hist(data['year'],)\n",
    "    plt.grid()\n",
    "    plt.title('year')\n",
    "    \n",
    "\n",
    "    plt\n",
    "    \n",
    "import itertools\n",
    "def plot_correlation_matrix(cm, classes,title='Correlation matrix', cmap=plt.cm.RdBu):\n",
    "    normalize=False\n",
    "    plt.imshow(cm, interpolation='nearest', cmap=cmap)\n",
    "    plt.title(title)\n",
    "    plt.clim(-1,1)\n",
    "    plt.colorbar()\n",
    "\n",
    "    tick_marks = np.arange(len(classes))\n",
    "    plt.xticks(tick_marks, classes, rotation=45)\n",
    "    plt.yticks(tick_marks, classes)\n",
    "\n",
    "\n",
    "    plt.tight_layout()\n",
    "    plt.ylabel('True label')\n",
    "    plt.xlabel('Predicted label')\n",
    "\n",
    "             \n",
    "np.set_printoptions(precision=2)\n",
    "\n",
    "def corr (x,y,c):\n",
    "    p = figure(width=1000, height=500)\n",
    "    p.circle(X[x],X[y],color=c,alpha=0.5)\n",
    "    p.legend.location = \"top_left\"\n",
    "    p.grid.grid_line_alpha=0\n",
    "    p.xaxis.axis_label = x\n",
    "    p.yaxis.axis_label = y\n",
    "    return p\n"
   ]
  },
  {
   "cell_type": "code",
   "execution_count": 3,
   "metadata": {
    "collapsed": true
   },
   "outputs": [],
   "source": [
    "#load the dataframe for a given product only (is it possible?)\n",
    "pickle_off = open(\"electronics_meta_sentiment.pickle\",\"rb\")\n",
    "df = pickle.load(pickle_off)"
   ]
  },
  {
   "cell_type": "code",
   "execution_count": 4,
   "metadata": {
    "collapsed": true
   },
   "outputs": [],
   "source": [
    "df=df[df.year>2012]"
   ]
  },
  {
   "cell_type": "code",
   "execution_count": 5,
   "metadata": {
    "collapsed": true
   },
   "outputs": [],
   "source": [
    "l=[]\n",
    "for i in df.index:\n",
    "    if df.helpful[i][1]==0:\n",
    "        l.append(None)\n",
    "    else:\n",
    "        l.append(df.helpful[i][0]/df.helpful[i][1])\n",
    "df['helpfulness']=l\n",
    "del df['helpful']\n",
    "del df['unixReviewTime']\n",
    "df['sales_rank']=df['sales_rank'].replace(0, np.nan)"
   ]
  },
  {
   "cell_type": "code",
   "execution_count": 6,
   "metadata": {},
   "outputs": [
    {
     "data": {
      "text/plain": [
       "Index(['reviewerID', 'asin', 'reviewerName', 'reviewText', 'overall',\n",
       "       'summary', 'reviewTime', 'year', 'length_review', 'title', 'brand',\n",
       "       'price', 'sub_category_0', 'sub_category_1', 'sales_category',\n",
       "       'sales_rank', 'score', 'sentiment_com', 'sentiment_pos',\n",
       "       'sentiment_neg', 'sentiment_neu', 'helpfulness'],\n",
       "      dtype='object')"
      ]
     },
     "execution_count": 6,
     "metadata": {},
     "output_type": "execute_result"
    }
   ],
   "source": [
    "df.columns"
   ]
  },
  {
   "cell_type": "code",
   "execution_count": 7,
   "metadata": {
    "collapsed": true
   },
   "outputs": [],
   "source": [
    "df=df.set_index('reviewerID')"
   ]
  },
  {
   "cell_type": "code",
   "execution_count": 8,
   "metadata": {
    "scrolled": true
   },
   "outputs": [
    {
     "data": {
      "text/plain": [
       "Index(['AO94DHGC771SJ', 'A2JXAZZI9PHK9Z', 'A2P5U7BDKKT7FW', 'AAZ084UMH8VZ2',\n",
       "       'AEZ3CR6BKIROJ', 'A3BY5KCNQZXV5U', 'A7S2B0I67WNWB', 'A3HICVLF4PFFMN',\n",
       "       'ANSKSPEEAKY7S', 'A2QBZA4S1ROX9Q',\n",
       "       ...\n",
       "       'A229MLBHA0GQ36', 'A1FWGUYE67BBVG', 'AXT77ZZJ2XA63', 'AHNQX1408GB4E',\n",
       "       'A2ITGW4E6U909T', 'A1URLO1PTG3QZ3', 'A3NADOYIRYF1U4', 'A37HFB3GU0VIWN',\n",
       "       'A33K4B81CKW9P0', 'A1WX5534UX25AN'],\n",
       "      dtype='object', name='reviewerID', length=167644)"
      ]
     },
     "execution_count": 8,
     "metadata": {},
     "output_type": "execute_result"
    }
   ],
   "source": [
    "reviewers=df.index.unique()\n",
    "reviewers"
   ]
  },
  {
   "cell_type": "code",
   "execution_count": 29,
   "metadata": {},
   "outputs": [],
   "source": [
    "#n=list(map(lambda x:len(df.loc[x]),reviewers))\n",
    "n=df.groupby('reviewerID').count().asin\n",
    "count=pd.DataFrame(n)\n",
    "\n",
    "count=count.sort_values('asin',ascending=False)"
   ]
  },
  {
   "cell_type": "code",
   "execution_count": null,
   "metadata": {},
   "outputs": [],
   "source": []
  },
  {
   "cell_type": "code",
   "execution_count": 31,
   "metadata": {},
   "outputs": [
    {
     "data": {
      "text/plain": [
       "'A2NOW4U7W3F7RI'"
      ]
     },
     "execution_count": 31,
     "metadata": {},
     "output_type": "execute_result"
    }
   ],
   "source": [
    "p=count.index.values[0]\n",
    "p"
   ]
  },
  {
   "cell_type": "code",
   "execution_count": 38,
   "metadata": {
    "scrolled": false
   },
   "outputs": [
    {
     "data": {
      "text/html": [
       "<div>\n",
       "<style scoped>\n",
       "    .dataframe tbody tr th:only-of-type {\n",
       "        vertical-align: middle;\n",
       "    }\n",
       "\n",
       "    .dataframe tbody tr th {\n",
       "        vertical-align: top;\n",
       "    }\n",
       "\n",
       "    .dataframe thead th {\n",
       "        text-align: right;\n",
       "    }\n",
       "</style>\n",
       "<table border=\"1\" class=\"dataframe\">\n",
       "  <thead>\n",
       "    <tr style=\"text-align: right;\">\n",
       "      <th></th>\n",
       "      <th>price</th>\n",
       "      <th>overall</th>\n",
       "      <th>helpfulness</th>\n",
       "      <th>length_review</th>\n",
       "      <th>sentiment_pos</th>\n",
       "      <th>sentiment_neg</th>\n",
       "      <th>sentiment_com</th>\n",
       "    </tr>\n",
       "    <tr>\n",
       "      <th>reviewerID</th>\n",
       "      <th></th>\n",
       "      <th></th>\n",
       "      <th></th>\n",
       "      <th></th>\n",
       "      <th></th>\n",
       "      <th></th>\n",
       "      <th></th>\n",
       "    </tr>\n",
       "  </thead>\n",
       "  <tbody>\n",
       "    <tr>\n",
       "      <th>A2NOW4U7W3F7RI</th>\n",
       "      <td>689.00</td>\n",
       "      <td>5.0</td>\n",
       "      <td>1.0</td>\n",
       "      <td>115</td>\n",
       "      <td>0.147</td>\n",
       "      <td>0.220</td>\n",
       "      <td>-0.9157</td>\n",
       "    </tr>\n",
       "    <tr>\n",
       "      <th>A2NOW4U7W3F7RI</th>\n",
       "      <td>22.75</td>\n",
       "      <td>5.0</td>\n",
       "      <td>1.0</td>\n",
       "      <td>78</td>\n",
       "      <td>0.107</td>\n",
       "      <td>0.031</td>\n",
       "      <td>0.6588</td>\n",
       "    </tr>\n",
       "    <tr>\n",
       "      <th>A2NOW4U7W3F7RI</th>\n",
       "      <td>15.99</td>\n",
       "      <td>5.0</td>\n",
       "      <td>NaN</td>\n",
       "      <td>53</td>\n",
       "      <td>0.149</td>\n",
       "      <td>0.043</td>\n",
       "      <td>0.6588</td>\n",
       "    </tr>\n",
       "    <tr>\n",
       "      <th>A2NOW4U7W3F7RI</th>\n",
       "      <td>16.25</td>\n",
       "      <td>5.0</td>\n",
       "      <td>NaN</td>\n",
       "      <td>101</td>\n",
       "      <td>0.105</td>\n",
       "      <td>0.022</td>\n",
       "      <td>0.7958</td>\n",
       "    </tr>\n",
       "    <tr>\n",
       "      <th>A2NOW4U7W3F7RI</th>\n",
       "      <td>149.99</td>\n",
       "      <td>5.0</td>\n",
       "      <td>NaN</td>\n",
       "      <td>66</td>\n",
       "      <td>0.179</td>\n",
       "      <td>0.000</td>\n",
       "      <td>0.9230</td>\n",
       "    </tr>\n",
       "  </tbody>\n",
       "</table>\n",
       "</div>"
      ],
      "text/plain": [
       "                 price  overall  helpfulness  length_review  sentiment_pos  \\\n",
       "reviewerID                                                                   \n",
       "A2NOW4U7W3F7RI  689.00      5.0          1.0            115          0.147   \n",
       "A2NOW4U7W3F7RI   22.75      5.0          1.0             78          0.107   \n",
       "A2NOW4U7W3F7RI   15.99      5.0          NaN             53          0.149   \n",
       "A2NOW4U7W3F7RI   16.25      5.0          NaN            101          0.105   \n",
       "A2NOW4U7W3F7RI  149.99      5.0          NaN             66          0.179   \n",
       "\n",
       "                sentiment_neg  sentiment_com  \n",
       "reviewerID                                    \n",
       "A2NOW4U7W3F7RI          0.220        -0.9157  \n",
       "A2NOW4U7W3F7RI          0.031         0.6588  \n",
       "A2NOW4U7W3F7RI          0.043         0.6588  \n",
       "A2NOW4U7W3F7RI          0.022         0.7958  \n",
       "A2NOW4U7W3F7RI          0.000         0.9230  "
      ]
     },
     "execution_count": 38,
     "metadata": {},
     "output_type": "execute_result"
    }
   ],
   "source": [
    "X=df.loc[p,['price','overall','helpfulness','length_review','sentiment_pos','sentiment_neg','sentiment_com']]\n",
    "X.head()"
   ]
  },
  {
   "cell_type": "code",
   "execution_count": 42,
   "metadata": {},
   "outputs": [
    {
     "name": "stdout",
     "output_type": "stream",
     "text": [
      "154\n",
      "reviewerName                                                  rpv\n",
      "reviewText      I had chance to use these lens and they are ab...\n",
      "Name: A2NOW4U7W3F7RI, dtype: object\n"
     ]
    },
    {
     "data": {
      "image/png": "[encoded data removed]",
      "text/plain": [
       "<matplotlib.figure.Figure at 0x11e989668>"
      ]
     },
     "metadata": {},
     "output_type": "display_data"
    }
   ],
   "source": [
    "distribution(p)"
   ]
  },
  {
   "cell_type": "code",
   "execution_count": null,
   "metadata": {
    "collapsed": true
   },
   "outputs": [],
   "source": []
  },
  {
   "cell_type": "code",
   "execution_count": 36,
   "metadata": {},
   "outputs": [
    {
     "data": {
      "text/html": [
       "<div>\n",
       "<style scoped>\n",
       "    .dataframe tbody tr th:only-of-type {\n",
       "        vertical-align: middle;\n",
       "    }\n",
       "\n",
       "    .dataframe tbody tr th {\n",
       "        vertical-align: top;\n",
       "    }\n",
       "\n",
       "    .dataframe thead th {\n",
       "        text-align: right;\n",
       "    }\n",
       "</style>\n",
       "<table border=\"1\" class=\"dataframe\">\n",
       "  <thead>\n",
       "    <tr style=\"text-align: right;\">\n",
       "      <th></th>\n",
       "      <th>price</th>\n",
       "      <th>overall</th>\n",
       "      <th>helpfulness</th>\n",
       "      <th>length_review</th>\n",
       "      <th>sentiment_pos</th>\n",
       "      <th>sentiment_neg</th>\n",
       "      <th>sentiment_com</th>\n",
       "    </tr>\n",
       "  </thead>\n",
       "  <tbody>\n",
       "    <tr>\n",
       "      <th>price</th>\n",
       "      <td>1.000000</td>\n",
       "      <td>-0.339303</td>\n",
       "      <td>-0.005206</td>\n",
       "      <td>0.660383</td>\n",
       "      <td>-0.292467</td>\n",
       "      <td>0.201177</td>\n",
       "      <td>-0.093686</td>\n",
       "    </tr>\n",
       "    <tr>\n",
       "      <th>overall</th>\n",
       "      <td>-0.339303</td>\n",
       "      <td>1.000000</td>\n",
       "      <td>0.224266</td>\n",
       "      <td>-0.194585</td>\n",
       "      <td>0.321138</td>\n",
       "      <td>-0.263323</td>\n",
       "      <td>0.406084</td>\n",
       "    </tr>\n",
       "    <tr>\n",
       "      <th>helpfulness</th>\n",
       "      <td>-0.005206</td>\n",
       "      <td>0.224266</td>\n",
       "      <td>1.000000</td>\n",
       "      <td>0.055259</td>\n",
       "      <td>-0.020868</td>\n",
       "      <td>-0.098593</td>\n",
       "      <td>0.186058</td>\n",
       "    </tr>\n",
       "    <tr>\n",
       "      <th>length_review</th>\n",
       "      <td>0.660383</td>\n",
       "      <td>-0.194585</td>\n",
       "      <td>0.055259</td>\n",
       "      <td>1.000000</td>\n",
       "      <td>-0.341795</td>\n",
       "      <td>-0.079672</td>\n",
       "      <td>0.177999</td>\n",
       "    </tr>\n",
       "    <tr>\n",
       "      <th>sentiment_pos</th>\n",
       "      <td>-0.292467</td>\n",
       "      <td>0.321138</td>\n",
       "      <td>-0.020868</td>\n",
       "      <td>-0.341795</td>\n",
       "      <td>1.000000</td>\n",
       "      <td>-0.255381</td>\n",
       "      <td>0.384441</td>\n",
       "    </tr>\n",
       "    <tr>\n",
       "      <th>sentiment_neg</th>\n",
       "      <td>0.201177</td>\n",
       "      <td>-0.263323</td>\n",
       "      <td>-0.098593</td>\n",
       "      <td>-0.079672</td>\n",
       "      <td>-0.255381</td>\n",
       "      <td>1.000000</td>\n",
       "      <td>-0.731871</td>\n",
       "    </tr>\n",
       "    <tr>\n",
       "      <th>sentiment_com</th>\n",
       "      <td>-0.093686</td>\n",
       "      <td>0.406084</td>\n",
       "      <td>0.186058</td>\n",
       "      <td>0.177999</td>\n",
       "      <td>0.384441</td>\n",
       "      <td>-0.731871</td>\n",
       "      <td>1.000000</td>\n",
       "    </tr>\n",
       "  </tbody>\n",
       "</table>\n",
       "</div>"
      ],
      "text/plain": [
       "                  price   overall  helpfulness  length_review  sentiment_pos  \\\n",
       "price          1.000000 -0.339303    -0.005206       0.660383      -0.292467   \n",
       "overall       -0.339303  1.000000     0.224266      -0.194585       0.321138   \n",
       "helpfulness   -0.005206  0.224266     1.000000       0.055259      -0.020868   \n",
       "length_review  0.660383 -0.194585     0.055259       1.000000      -0.341795   \n",
       "sentiment_pos -0.292467  0.321138    -0.020868      -0.341795       1.000000   \n",
       "sentiment_neg  0.201177 -0.263323    -0.098593      -0.079672      -0.255381   \n",
       "sentiment_com -0.093686  0.406084     0.186058       0.177999       0.384441   \n",
       "\n",
       "               sentiment_neg  sentiment_com  \n",
       "price               0.201177      -0.093686  \n",
       "overall            -0.263323       0.406084  \n",
       "helpfulness        -0.098593       0.186058  \n",
       "length_review      -0.079672       0.177999  \n",
       "sentiment_pos      -0.255381       0.384441  \n",
       "sentiment_neg       1.000000      -0.731871  \n",
       "sentiment_com      -0.731871       1.000000  "
      ]
     },
     "execution_count": 36,
     "metadata": {},
     "output_type": "execute_result"
    }
   ],
   "source": [
    "cm=X.corr()\n",
    "cm"
   ]
  },
  {
   "cell_type": "code",
   "execution_count": 37,
   "metadata": {},
   "outputs": [
    {
     "data": {
      "image/png": "[encoded data removed]",
      "text/plain": [
       "<matplotlib.figure.Figure at 0x1110109e8>"
      ]
     },
     "metadata": {},
     "output_type": "display_data"
    }
   ],
   "source": [
    "\n",
    "plt.figure(figsize=(10,10))\n",
    "plot_correlation_matrix(cm, classes=X.columns,title='Correlation Matrix')\n",
    "plt.show()              "
   ]
  },
  {
   "cell_type": "code",
   "execution_count": null,
   "metadata": {
    "collapsed": true
   },
   "outputs": [],
   "source": []
  },
  {
   "cell_type": "code",
   "execution_count": 43,
   "metadata": {
    "collapsed": true
   },
   "outputs": [],
   "source": [
    "\n",
    "p=corr('length_review','sentiment_pos','navy')\n",
    "p=corr('length_review','sentiment_neg','red')\n",
    "show(p)"
   ]
  },
  {
   "cell_type": "code",
   "execution_count": null,
   "metadata": {
    "collapsed": true
   },
   "outputs": [],
   "source": []
  }
 ],
 "metadata": {
  "kernelspec": {
   "display_name": "Python 3",
   "language": "python",
   "name": "python3"
  },
  "language_info": {
   "codemirror_mode": {
    "name": "ipython",
    "version": 3
   },
   "file_extension": ".py",
   "mimetype": "text/x-python",
   "name": "python",
   "nbconvert_exporter": "python",
   "pygments_lexer": "ipython3",
   "version": "3.6.1"
  }
 },
 "nbformat": 4,
 "nbformat_minor": 2
}
