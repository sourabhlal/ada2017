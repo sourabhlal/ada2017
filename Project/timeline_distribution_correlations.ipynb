{
 "cells": [
  {
   "cell_type": "code",
   "execution_count": 1,
   "metadata": {
    "collapsed": true
   },
   "outputs": [],
   "source": [
    "#libraries \n",
    "import pandas as pd\n",
    "import gzip\n",
    "from tqdm import tqdm\n",
    "\n",
    "from datetime import datetime\n",
    "from datetime import date, time\n",
    "from dateutil.parser import parse\n",
    "import numpy as np\n",
    "\n",
    "\n",
    "\n",
    "from bokeh.plotting import figure, output_notebook, show,output_file,gridplot\n",
    "from bokeh.models import DatetimeTickFormatter,HoverTool,Span\n",
    "\n",
    "import json\n",
    "import matplotlib.pyplot as plt\n",
    "import pickle\n",
    "%matplotlib inline\n"
   ]
  },
  {
   "cell_type": "code",
   "execution_count": null,
   "metadata": {
    "collapsed": true
   },
   "outputs": [],
   "source": []
  },
  {
   "cell_type": "code",
   "execution_count": 2,
   "metadata": {
    "collapsed": true,
    "scrolled": false
   },
   "outputs": [],
   "source": [
    "#load the dataframe for a given product only (is it possible?)\n",
    "pickle_off = open(\"electronics_meta_sentiment.pickle\",\"rb\")\n",
    "df = pickle.load(pickle_off)\n"
   ]
  },
  {
   "cell_type": "code",
   "execution_count": 8,
   "metadata": {},
   "outputs": [
    {
     "data": {
      "text/plain": [
       "Index(['reviewerID', 'asin', 'reviewerName', 'reviewText', 'overall',\n",
       "       'summary', 'reviewTime', 'year', 'length_review', 'title', 'brand',\n",
       "       'price', 'sub_category_0', 'sub_category_1', 'sales_category',\n",
       "       'sales_rank', 'score', 'sentiment_com', 'sentiment_pos',\n",
       "       'sentiment_neg', 'sentiment_neu', 'helpfulness'],\n",
       "      dtype='object')"
      ]
     },
     "execution_count": 8,
     "metadata": {},
     "output_type": "execute_result"
    }
   ],
   "source": [
    "df.columns"
   ]
  },
  {
   "cell_type": "code",
   "execution_count": 4,
   "metadata": {
    "collapsed": true
   },
   "outputs": [],
   "source": [
    "l=[]\n",
    "for i in df.index:\n",
    "    if df.helpful[i][1]==0:\n",
    "        l.append(None)\n",
    "    else:\n",
    "        l.append(df.helpful[i][0]/df.helpful[i][1])\n",
    "df['helpfulness']=l\n",
    "del df['helpful']\n",
    "del df['unixReviewTime']"
   ]
  },
  {
   "cell_type": "code",
   "execution_count": null,
   "metadata": {
    "collapsed": true
   },
   "outputs": [],
   "source": []
  },
  {
   "cell_type": "code",
   "execution_count": 42,
   "metadata": {
    "collapsed": true
   },
   "outputs": [],
   "source": [
    "df['classification']=list(map(lambda x:2*(x>0)-1,df.sentiment_com))"
   ]
  },
  {
   "cell_type": "code",
   "execution_count": 73,
   "metadata": {},
   "outputs": [
    {
     "name": "stdout",
     "output_type": "stream",
     "text": [
      "I have been listening to this speaker for well over a year (I own two of these). I set up a surround system in my classroom. I wanted my students to enjoy film as it was intended. I purchased this center channel because it was priced reasonably ($100.00) and sounds fantastic.As an English teacher, I do show films to reinforce the literature I present to my students. One of the films I show in my class is Superman (1978). I would argue that this film truly started the super hero genre in film! I wonder if films such as Spiderman, The X-men, Batman Begins and The Dark Knight would even have been made if it wasn't for Superman.Still, this review isn't about the film....back to the BIC Center Channel (DV-62CLR-S. The speaker performs well at any volume level. I have turned it up to reference levels in my classroom and it sounds crystal clear! My students have commented that the system in my classroom sounds as good as a movie theater.While the speaker sounds great with films, it also shines with music. I also use the surround system to play music from different time periods related to the subject matter. Classical, jazz, and rock music are faithfully reproduced by this speaker.I do admit that I have a frankenspeaker setup in my classroom. I built the towers I use (three way speakers) as the front left and right. The BIC sits in the middle with two Radio Schack bookshelf speakers uaed as surrounds. I have for better word brought equipment that I used at home into my classroom. I must admit to upgrading my home audio frequently. My students benefit....lucky kids!I really don't know of a better value in a center channel speaker. The drivers are high quality (a soft dome tweeter and 2 6\" midbass drivers in a ported enclosure). The sound is clean and life-like. At $100.00 dollars, it is an exceptional product. I couldn't build a better speaker for less (believe me I tried). Buying this speaker was much easier on my wallet and my nerves.One more thing, BIC offers a 7 year warranty on all of their speakers! I don't know of any other speaker company - save Aperion - that offers a better warranty on their products! It is obvious that BIC believes in the products they offer to the consumer.Do yourself a favor, this center channel speaker needs to be on your short list for becoming a part of your home theater experience. Are there better center channel speakers out there? I suppose so...but at $100.00...I honestly don't think so. In the end, the choice is yours. I personally feel like my money was well spent on a product and company that make me feel like a winner every time I fire up my theater in my classroom. My students do too!\n",
      "score             {'neg': 0.01, 'neu': 0.826, 'pos': 0.164, 'com...\n",
      "sentiment_com                                                0.9969\n",
      "sentiment_pos                                                 0.164\n",
      "sentiment_neg                                                  0.01\n",
      "sentiment_neu                                                 0.826\n",
      "helpfulness                                                     0.8\n",
      "classification                                                    1\n",
      "Name: 70458, dtype: object\n"
     ]
    }
   ],
   "source": [
    "n=70458\n",
    "print(df.iloc[n,3])\n",
    "print(df.iloc[n,16:])"
   ]
  },
  {
   "cell_type": "markdown",
   "metadata": {},
   "source": [
    "# I- Timeline"
   ]
  },
  {
   "cell_type": "markdown",
   "metadata": {},
   "source": [
    "## a) From 1996 to 2014 :\n",
    "We are interested in the evolution of certain variables through the years. These variables are :\n",
    "- number of reviews\n",
    "- number of reviewers\n",
    "- length of reviews\n",
    "- helpfulness of reviews\n",
    "- overall score\n",
    "\n",
    "We are going to compute the daily median/mean value for each category."
   ]
  },
  {
   "cell_type": "code",
   "execution_count": 44,
   "metadata": {
    "collapsed": true
   },
   "outputs": [],
   "source": [
    "evolution= df.groupby(['sub_category_1','reviewTime']).median()\n",
    "evolution['number_reviews']=df.groupby(['sub_category_1','reviewTime']).count().asin\n",
    "evolution.year=list(map(lambda x:int(x) , evolution.year))"
   ]
  },
  {
   "cell_type": "code",
   "execution_count": 45,
   "metadata": {},
   "outputs": [
    {
     "data": {
      "text/html": [
       "<div>\n",
       "<style scoped>\n",
       "    .dataframe tbody tr th:only-of-type {\n",
       "        vertical-align: middle;\n",
       "    }\n",
       "\n",
       "    .dataframe tbody tr th {\n",
       "        vertical-align: top;\n",
       "    }\n",
       "\n",
       "    .dataframe thead th {\n",
       "        text-align: right;\n",
       "    }\n",
       "</style>\n",
       "<table border=\"1\" class=\"dataframe\">\n",
       "  <thead>\n",
       "    <tr style=\"text-align: right;\">\n",
       "      <th></th>\n",
       "      <th></th>\n",
       "      <th>overall</th>\n",
       "      <th>year</th>\n",
       "      <th>length_review</th>\n",
       "      <th>price</th>\n",
       "      <th>sales_rank</th>\n",
       "      <th>sentiment_com</th>\n",
       "      <th>sentiment_pos</th>\n",
       "      <th>sentiment_neg</th>\n",
       "      <th>sentiment_neu</th>\n",
       "      <th>helpfulness</th>\n",
       "      <th>classification</th>\n",
       "      <th>number_reviews</th>\n",
       "    </tr>\n",
       "    <tr>\n",
       "      <th>sub_category_1</th>\n",
       "      <th>reviewTime</th>\n",
       "      <th></th>\n",
       "      <th></th>\n",
       "      <th></th>\n",
       "      <th></th>\n",
       "      <th></th>\n",
       "      <th></th>\n",
       "      <th></th>\n",
       "      <th></th>\n",
       "      <th></th>\n",
       "      <th></th>\n",
       "      <th></th>\n",
       "      <th></th>\n",
       "    </tr>\n",
       "  </thead>\n",
       "  <tbody>\n",
       "    <tr>\n",
       "      <th rowspan=\"5\" valign=\"top\">Accessories</th>\n",
       "      <th>2000-04-27</th>\n",
       "      <td>5.0</td>\n",
       "      <td>2000</td>\n",
       "      <td>87.0</td>\n",
       "      <td>27.99</td>\n",
       "      <td>8755.0</td>\n",
       "      <td>0.9110</td>\n",
       "      <td>0.164</td>\n",
       "      <td>0.024</td>\n",
       "      <td>0.811</td>\n",
       "      <td>0.891892</td>\n",
       "      <td>1.0</td>\n",
       "      <td>1</td>\n",
       "    </tr>\n",
       "    <tr>\n",
       "      <th>2001-01-08</th>\n",
       "      <td>5.0</td>\n",
       "      <td>2001</td>\n",
       "      <td>106.0</td>\n",
       "      <td>27.99</td>\n",
       "      <td>8755.0</td>\n",
       "      <td>0.9190</td>\n",
       "      <td>0.176</td>\n",
       "      <td>0.042</td>\n",
       "      <td>0.783</td>\n",
       "      <td>0.500000</td>\n",
       "      <td>1.0</td>\n",
       "      <td>1</td>\n",
       "    </tr>\n",
       "    <tr>\n",
       "      <th>2002-06-30</th>\n",
       "      <td>5.0</td>\n",
       "      <td>2002</td>\n",
       "      <td>78.0</td>\n",
       "      <td>27.99</td>\n",
       "      <td>8755.0</td>\n",
       "      <td>0.9843</td>\n",
       "      <td>0.342</td>\n",
       "      <td>0.015</td>\n",
       "      <td>0.643</td>\n",
       "      <td>1.000000</td>\n",
       "      <td>1.0</td>\n",
       "      <td>1</td>\n",
       "    </tr>\n",
       "    <tr>\n",
       "      <th>2002-10-31</th>\n",
       "      <td>5.0</td>\n",
       "      <td>2002</td>\n",
       "      <td>81.0</td>\n",
       "      <td>27.99</td>\n",
       "      <td>8755.0</td>\n",
       "      <td>0.4927</td>\n",
       "      <td>0.127</td>\n",
       "      <td>0.090</td>\n",
       "      <td>0.783</td>\n",
       "      <td>1.000000</td>\n",
       "      <td>1.0</td>\n",
       "      <td>1</td>\n",
       "    </tr>\n",
       "    <tr>\n",
       "      <th>2004-01-02</th>\n",
       "      <td>5.0</td>\n",
       "      <td>2004</td>\n",
       "      <td>163.0</td>\n",
       "      <td>27.99</td>\n",
       "      <td>8755.0</td>\n",
       "      <td>0.8914</td>\n",
       "      <td>0.108</td>\n",
       "      <td>0.035</td>\n",
       "      <td>0.857</td>\n",
       "      <td>0.875000</td>\n",
       "      <td>1.0</td>\n",
       "      <td>1</td>\n",
       "    </tr>\n",
       "  </tbody>\n",
       "</table>\n",
       "</div>"
      ],
      "text/plain": [
       "                           overall  year  length_review  price  sales_rank  \\\n",
       "sub_category_1 reviewTime                                                    \n",
       "Accessories    2000-04-27      5.0  2000           87.0  27.99      8755.0   \n",
       "               2001-01-08      5.0  2001          106.0  27.99      8755.0   \n",
       "               2002-06-30      5.0  2002           78.0  27.99      8755.0   \n",
       "               2002-10-31      5.0  2002           81.0  27.99      8755.0   \n",
       "               2004-01-02      5.0  2004          163.0  27.99      8755.0   \n",
       "\n",
       "                           sentiment_com  sentiment_pos  sentiment_neg  \\\n",
       "sub_category_1 reviewTime                                                \n",
       "Accessories    2000-04-27         0.9110          0.164          0.024   \n",
       "               2001-01-08         0.9190          0.176          0.042   \n",
       "               2002-06-30         0.9843          0.342          0.015   \n",
       "               2002-10-31         0.4927          0.127          0.090   \n",
       "               2004-01-02         0.8914          0.108          0.035   \n",
       "\n",
       "                           sentiment_neu  helpfulness  classification  \\\n",
       "sub_category_1 reviewTime                                               \n",
       "Accessories    2000-04-27          0.811     0.891892             1.0   \n",
       "               2001-01-08          0.783     0.500000             1.0   \n",
       "               2002-06-30          0.643     1.000000             1.0   \n",
       "               2002-10-31          0.783     1.000000             1.0   \n",
       "               2004-01-02          0.857     0.875000             1.0   \n",
       "\n",
       "                           number_reviews  \n",
       "sub_category_1 reviewTime                  \n",
       "Accessories    2000-04-27               1  \n",
       "               2001-01-08               1  \n",
       "               2002-06-30               1  \n",
       "               2002-10-31               1  \n",
       "               2004-01-02               1  "
      ]
     },
     "execution_count": 45,
     "metadata": {},
     "output_type": "execute_result"
    }
   ],
   "source": [
    "evolution.head()"
   ]
  },
  {
   "cell_type": "code",
   "execution_count": 46,
   "metadata": {},
   "outputs": [
    {
     "data": {
      "text/plain": [
       "['Connected Devices',\n",
       " 'Portable Audio & Video',\n",
       " 'Interior Accessories',\n",
       " 'Accessories',\n",
       " 'Tools & Equipment',\n",
       " 'eBook Readers & Accessories',\n",
       " 'Security & Surveillance',\n",
       " 'Electronics Warranties',\n",
       " 'Service & Replacement Plans',\n",
       " 'Television & Video',\n",
       " 'Luggage & Travel Gear',\n",
       " 'Cell Phones',\n",
       " 'GPS & Navigation',\n",
       " 'Home Audio',\n",
       " 'Accessories & Supplies',\n",
       " 'Camera & Photo',\n",
       " 'Car & Vehicle Electronics',\n",
       " 'Cases',\n",
       " 'Car Care',\n",
       " 'Computers & Accessories']"
      ]
     },
     "execution_count": 46,
     "metadata": {},
     "output_type": "execute_result"
    }
   ],
   "source": [
    "categories=list(set(df.sub_category_1))\n",
    "categories"
   ]
  },
  {
   "cell_type": "code",
   "execution_count": 47,
   "metadata": {},
   "outputs": [
    {
     "data": {
      "text/plain": [
       "5"
      ]
     },
     "execution_count": 47,
     "metadata": {},
     "output_type": "execute_result"
    }
   ],
   "source": [
    "categories=['Computers & Accessories','Portable Audio & Video','eBook Readers & Accessories','Camera & Photo','Cell Phones']\n",
    "colors=['#a6cee3','#1f78b4','#b2df8a','#33a02c','#fb9a99','#e31a1c','#fdbf6f','#ff7f00','#cab2d6','#6a3d9a','#ffff99','#b15928']\n",
    "len(categories)"
   ]
  },
  {
   "cell_type": "code",
   "execution_count": 74,
   "metadata": {
    "collapsed": true
   },
   "outputs": [],
   "source": [
    "def compare_timeline(p,variable,category,c='navy'):\n",
    "    data=evolution.loc[category,variable]\n",
    "    avg=data.rolling(15,center=True).median()\n",
    "    #hover=HoverTool(tooltips=[( 'Year',   '@year'),( category,  '@'+str(variable) ),],)\n",
    "    p.line(data.index.values,avg,color=c,legend=str(category))\n",
    "    p.xaxis[0].formatter = DatetimeTickFormatter(days='%m/%d',years='%Y',months='%B')\n",
    "    return p\n",
    "\n",
    "\n",
    "i=0\n",
    "p = figure(width=1000, height=500, x_axis_type=\"datetime\",tools=['pan','wheel_zoom','box_zoom','reset'])\n",
    "for cat in categories:\n",
    "    p=compare_timeline(p,'number_reviews',str(cat),colors[i])\n",
    "    i=i+1\n",
    "    p.title.text='evolution of the median daily number of reviews for'+str(cat)\n",
    "    p.legend.location = \"top_left\"\n",
    "    p.grid.grid_line_alpha=0\n",
    "    p.xaxis.axis_label = 'Date'\n",
    "show(p)"
   ]
  },
  {
   "cell_type": "code",
   "execution_count": 75,
   "metadata": {
    "collapsed": true
   },
   "outputs": [],
   "source": [
    "i=0\n",
    "for cat in categories:\n",
    "    p = figure(width=1000, height=500, x_axis_type=\"datetime\",tools=['pan','wheel_zoom','box_zoom','reset'])\n",
    "    p=compare_timeline(p,'length_review',str(cat),colors[i])\n",
    "    i=i+1\n",
    "    p.title.text='evolution of the median daily value of length of the reviews for'+str(cat)\n",
    "    p.legend.location = \"top_left\"\n",
    "    p.grid.grid_line_alpha=0\n",
    "    p.xaxis.axis_label = 'Date'\n",
    "    show(p)"
   ]
  },
  {
   "cell_type": "code",
   "execution_count": 51,
   "metadata": {
    "collapsed": true
   },
   "outputs": [],
   "source": [
    "i=0\n",
    "for cat in categories:\n",
    "    p = figure(width=1000, height=500, x_axis_type=\"datetime\",tools=['pan','wheel_zoom','box_zoom','reset'])\n",
    "    p=compare_timeline(p,'sentiment_com',str(cat),colors[i])\n",
    "    i=i+1\n",
    "    p.title.text='evolution of the median daily value of sentiment score for'+str(cat)\n",
    "    p.legend.location = \"top_left\"\n",
    "    p.grid.grid_line_alpha=0\n",
    "    p.xaxis.axis_label = 'Date'\n",
    "    show(p)"
   ]
  },
  {
   "cell_type": "code",
   "execution_count": 52,
   "metadata": {},
   "outputs": [
    {
     "name": "stderr",
     "output_type": "stream",
     "text": [
      "/Users/sonia/anaconda/lib/python3.6/site-packages/ipykernel_launcher.py:1: FutureWarning: The pandas.core.datetools module is deprecated and will be removed in a future version. Please use the pandas.tseries module instead.\n",
      "  \"\"\"Entry point for launching an IPython kernel.\n"
     ]
    }
   ],
   "source": [
    "from pandas.core import datetools"
   ]
  },
  {
   "cell_type": "code",
   "execution_count": 53,
   "metadata": {
    "collapsed": true
   },
   "outputs": [],
   "source": [
    "#monthly average \n",
    "def monthly_mean(category):\n",
    "    r =evolution.loc[category].resample('M')\n",
    "    monthly_mean =r.median()\n",
    "    return monthly_mean\n",
    "\n",
    "def monthly_std(category):\n",
    "    r =evolution.loc[category].resample('M')\n",
    "    monthly_std=r.std()\n",
    "    return monthly_std\n"
   ]
  },
  {
   "cell_type": "code",
   "execution_count": 54,
   "metadata": {
    "collapsed": true,
    "scrolled": false
   },
   "outputs": [],
   "source": [
    "def monthly_timeline(category,variable):\n",
    "    mean=monthly_mean(category)\n",
    "    std=monthly_std(category)\n",
    "    moving_avg = mean[variable].rolling(6,center=True).median()\n",
    "    p = figure(width=1000, height=500, x_axis_type=\"datetime\")\n",
    "    p.title.text=str(category)\n",
    "    p.circle(mean.index,mean[variable],alpha=0.7)\n",
    "    p.line(mean.index,moving_avg, color='#e34a33')\n",
    "    p.line(mean.index,mean[variable]+std[variable], color='#7fcdbb')\n",
    "    p.line(mean.index,mean[variable]-std[variable], color='#7fcdbb')\n",
    "    return p\n",
    "\n",
    "for cat in categories:\n",
    "    p=monthly_timeline(str(cat),'length_review')\n",
    "    show(p)\n",
    "\n"
   ]
  },
  {
   "cell_type": "code",
   "execution_count": 60,
   "metadata": {
    "collapsed": true,
    "scrolled": false
   },
   "outputs": [],
   "source": [
    "#special sentiment scores \n",
    "def variation_year (category,year):\n",
    "    data=evolution.loc[str(category)]\n",
    "    data=data.loc[round(data.year)==year,'classification']\n",
    "    M=2\n",
    "    m=-2\n",
    "    plot = figure(plot_width=1000, plot_height=500,y_range=[m,M],x_axis_type=\"datetime\")\n",
    "    plot.vbar(x=data.index, width=1, bottom=0, top=data, color=\"navy\")\n",
    "    #plot.vbar(x=data.index, width=1, bottom=0, top=data_neg, color=\"red\")\n",
    "    average = Span(location=0,dimension='width', line_color='green', line_width=1)\n",
    "    plot.title.text='number of positive/negative reviews for '+str(category)+' - '+str(year)\n",
    "    plot.legend.location = \"top_left\"\n",
    "    plot.grid.grid_line_alpha=0.6\n",
    "    plot.xaxis.axis_label = 'Date'\n",
    "    plot.xaxis[0].formatter = DatetimeTickFormatter(months='%d%B')\n",
    "    plot.renderers.extend([average])\n",
    "    return plot\n",
    "\n",
    "for cat in categories:\n",
    "    p=variation_year(str(cat),2013)\n",
    "    show(p)\n"
   ]
  },
  {
   "cell_type": "code",
   "execution_count": null,
   "metadata": {
    "collapsed": true
   },
   "outputs": [],
   "source": []
  },
  {
   "cell_type": "markdown",
   "metadata": {},
   "source": [
    "# II-Distributions "
   ]
  },
  {
   "cell_type": "code",
   "execution_count": null,
   "metadata": {
    "collapsed": true
   },
   "outputs": [],
   "source": []
  },
  {
   "cell_type": "code",
   "execution_count": 35,
   "metadata": {
    "collapsed": true
   },
   "outputs": [],
   "source": [
    "def distribution (category):\n",
    "    data=df[df.sub_category_1==str(category)]\n",
    "    w= np.ones_like(data['overall'])/float(len(data['overall']))\n",
    "    plt.figure(figsize=(15,7))\n",
    "    plt.subplot(2,2,1)\n",
    "    plt.hist(data['overall'],weights=w)\n",
    "    plt.title('overall score')\n",
    "    plt.grid()\n",
    "    plt.subplot(2,2,2)\n",
    "    w= np.ones_like(data.length_review)/float(len(data.length_review))\n",
    "    plt.hist(data['length_review'],weights=w)\n",
    "    plt.grid()\n",
    "    plt.title('length of reviews')\n",
    "    plt.subplot(2,2,3)\n",
    "    w= np.ones_like(data.helpfulness.dropna())/float(len(data.helpfulness.dropna()))\n",
    "    plt.hist(data['helpfulness'].dropna(),weights=w)\n",
    "    plt.grid()\n",
    "    plt.title('helpfulness')\n",
    "    plt.subplot(2,2,4)\n",
    "    w= np.ones_like(data.sentiment_pos)/float(len(data.sentiment_pos))\n",
    "    plt.hist(data['sentiment_pos'],weights=w)\n",
    "    plt.grid()\n",
    "    plt.title('positiveness')\n",
    "    \n",
    "    plt\n"
   ]
  },
  {
   "cell_type": "code",
   "execution_count": 49,
   "metadata": {
    "scrolled": false
   },
   "outputs": [
    {
     "name": "stdout",
     "output_type": "stream",
     "text": [
      "Computers & Accessories\n",
      "Portable Audio & Video\n",
      "eBook Readers & Accessories\n",
      "Camera & Photo\n",
      "Cell Phones\n"
     ]
    },
    {
     "data": {
      "image/png": "[encoded data removed]",
      "text/plain": [
       "<matplotlib.figure.Figure at 0x130bbffd0>"
      ]
     },
     "metadata": {},
     "output_type": "display_data"
    },
    {
     "data": {
      "image/png": "[encoded data removed]",
      "text/plain": [
       "<matplotlib.figure.Figure at 0x12d200908>"
      ]
     },
     "metadata": {},
     "output_type": "display_data"
    },
    {
     "data": {
      "image/png": "[encoded data removed]",
      "text/plain": [
       "<matplotlib.figure.Figure at 0x12d200940>"
      ]
     },
     "metadata": {},
     "output_type": "display_data"
    },
    {
     "data": {
      "image/png": "[encoded data removed]",
      "text/plain": [
       "<matplotlib.figure.Figure at 0x117f30080>"
      ]
     },
     "metadata": {},
     "output_type": "display_data"
    },
    {
     "data": {
      "image/png": "[encoded data removed]",
      "text/plain": [
       "<matplotlib.figure.Figure at 0x11ebe0a20>"
      ]
     },
     "metadata": {},
     "output_type": "display_data"
    }
   ],
   "source": [
    "for n in categories:\n",
    "    print(n)\n",
    "    distribution(n)\n"
   ]
  },
  {
   "cell_type": "code",
   "execution_count": 83,
   "metadata": {},
   "outputs": [
    {
     "data": {
      "text/plain": [
       "(8, 8)"
      ]
     },
     "execution_count": 83,
     "metadata": {},
     "output_type": "execute_result"
    }
   ],
   "source": [
    "# 2014 data + 2013 \n",
    "# stratify the data according to rating / category \n",
    "df_2014.shape"
   ]
  },
  {
   "cell_type": "code",
   "execution_count": 88,
   "metadata": {
    "collapsed": true
   },
   "outputs": [],
   "source": [
    "df_2014=df.loc[df.year==2014,['overall','length_review','price','sales_rank','helpfulness','sentiment_pos','sentiment_neg','sentiment_com']].corr()"
   ]
  },
  {
   "cell_type": "code",
   "execution_count": 91,
   "metadata": {
    "scrolled": false
   },
   "outputs": [
    {
     "data": {
      "image/png": "[encoded data removed]",
      "text/plain": [
       "<matplotlib.figure.Figure at 0x119151fd0>"
      ]
     },
     "metadata": {},
     "output_type": "display_data"
    }
   ],
   "source": [
    "\n",
    "import itertools\n",
    "def plot_confusion_matrix(cm, classes,title='Confusion matrix', cmap=plt.cm.RdBu):\n",
    "    normalize=False\n",
    "    plt.imshow(cm, interpolation='nearest', cmap=cmap)\n",
    "    plt.title(title)\n",
    "    plt.clim(-1,1)\n",
    "    plt.colorbar()\n",
    "\n",
    "    tick_marks = np.arange(len(classes))\n",
    "    plt.xticks(tick_marks, classes, rotation=45)\n",
    "    plt.yticks(tick_marks, classes)\n",
    "\n",
    "\n",
    "    plt.tight_layout()\n",
    "    plt.ylabel('True label')\n",
    "    plt.xlabel('Predicted label')\n",
    "\n",
    "             \n",
    "np.set_printoptions(precision=2)\n",
    "\n",
    "\n",
    "# Plot non-normalized confusion matrix\n",
    "plt.figure(figsize=(20,10))\n",
    "plot_confusion_matrix(df_2014, classes=df_2014.columns,title='Confusion matrix, without normalization')\n",
    "\n",
    "# Plot normalized confusion matrix\n",
    "#plt.figure(figsize=(20,10))\n",
    "#plot_confusion_matrix(normalized_confustion_matrix, classes=newsgroups20.target_names,title='Normalized confusion matrix')\n",
    "\n",
    "plt.show()               \n",
    "               \n"
   ]
  },
  {
   "cell_type": "markdown",
   "metadata": {},
   "source": [
    "## b) Correlations between different characteristics of the product :"
   ]
  },
  {
   "cell_type": "code",
   "execution_count": null,
   "metadata": {
    "collapsed": true
   },
   "outputs": [],
   "source": [
    "def corr (x,y,c):\n",
    "    p = figure(width=1000, height=500)\n",
    "    p.circle(df_2014[x],df_2014[y],color=c,alpha=0.5)\n",
    "    p.legend.location = \"top_left\"\n",
    "    p.grid.grid_line_alpha=0\n",
    "    p.xaxis.axis_label = x\n",
    "    p.yaxis.axis_label = y\n",
    "    return p\n"
   ]
  },
  {
   "cell_type": "code",
   "execution_count": null,
   "metadata": {
    "collapsed": true
   },
   "outputs": [],
   "source": [
    "p=corr('overall','helpfulness','#1f78b4')\n",
    "show(p)"
   ]
  },
  {
   "cell_type": "markdown",
   "metadata": {
    "collapsed": true
   },
   "source": [
    "## V- Extra Info "
   ]
  },
  {
   "cell_type": "code",
   "execution_count": null,
   "metadata": {
    "collapsed": true
   },
   "outputs": [],
   "source": [
    "\n",
    "def information_category(df,category,info):\n",
    "    info.loc[category,'number_products']=len(set(df.asin))\n",
    "    info.loc[category,'number_of_reviews']=len(df.asin)\n",
    "    info.loc[category,'number_of_reviewers']=len(set(df.reviewerID)) \n",
    "    info.loc[category,'first_review']=min(df.reviewTime)\n",
    "    info.loc[category,'last_review']=max(df.reviewTime)\n",
    "    return info \n",
    "    "
   ]
  },
  {
   "cell_type": "code",
   "execution_count": null,
   "metadata": {
    "collapsed": true,
    "scrolled": true
   },
   "outputs": [],
   "source": [
    "info=pd.DataFrame([])\n",
    "info=information_category(df_com,'Computers',info)\n",
    "info=information_category(df_cam,'Cameras',info)\n",
    "info=information_category(df_TV,'Televisions',info)\n",
    "info=information_category(df_ebook,'Ebook readers',info)\n",
    "info=information_category(df_AudioVid,'Portable Audio Video',info)\n",
    "\n",
    "info"
   ]
  },
  {
   "cell_type": "code",
   "execution_count": null,
   "metadata": {
    "collapsed": true
   },
   "outputs": [],
   "source": [
    "def create_variables_byProduct (df):\n",
    "    count=df.groupby('asin').count()\n",
    "    count=count['overall']\n",
    "\n",
    "    prod = df.groupby('asin').mean()\n",
    "    prod.year=list(map(lambda x:int(x) , prod.year))\n",
    "    del prod['unixReviewTime']\n",
    "\n",
    "    #add count\n",
    "    prod=pd.concat([prod,count],axis=1)\n",
    "    \n",
    "     \n",
    "    prod['first_review']=list(map(lambda x:min(df.loc[df.asin==x,'reviewTime']),prod.index))\n",
    "    prod['last_review']=list(map(lambda x:max(df.loc[df.asin==x,'reviewTime']),prod.index))\n",
    "    prod['number_of_reviewers']=list(map(lambda x:len(set(df.loc[df.asin==x,'reviewerID'])),prod.index))\n",
    "\n",
    "#helpfulness:\n",
    "    tab=pd.DataFrame([],index=df.asin.unique())\n",
    "    l=[]\n",
    "    for Id in tab.index:\n",
    "        data=df[df.asin==Id].helpful\n",
    "        helpful=sum(map(lambda x:x[0],data))\n",
    "        total=sum(map(lambda x:x[1],data))\n",
    "        if total == 0 :\n",
    "            l.append(0)\n",
    "        else:\n",
    "            l.append(round(helpful/total,2))\n",
    "\n",
    "    tab['helpfulness']=l\n",
    "    prod=pd.concat([prod,tab],axis=1)\n",
    "    \n",
    "    return prod\n",
    "\n"
   ]
  }
 ],
 "metadata": {
  "kernelspec": {
   "display_name": "Python 3",
   "language": "python",
   "name": "python3"
  },
  "language_info": {
   "codemirror_mode": {
    "name": "ipython",
    "version": 3
   },
   "file_extension": ".py",
   "mimetype": "text/x-python",
   "name": "python",
   "nbconvert_exporter": "python",
   "pygments_lexer": "ipython3",
   "version": "3.6.1"
  }
 },
 "nbformat": 4,
 "nbformat_minor": 2
}
