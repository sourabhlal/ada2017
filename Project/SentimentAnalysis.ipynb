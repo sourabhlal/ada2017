{
 "cells": [
  {
   "cell_type": "markdown",
   "metadata": {},
   "source": [
    "# Sentiment Analysis Pipeline"
   ]
  },
  {
   "cell_type": "markdown",
   "metadata": {},
   "source": [
    "### Part 1: Subcategory Sentiment Analysis"
   ]
  },
  {
   "cell_type": "markdown",
   "metadata": {},
   "source": [
    "Import required libraries:"
   ]
  },
  {
   "cell_type": "code",
   "execution_count": 1,
   "metadata": {
    "collapsed": true
   },
   "outputs": [],
   "source": [
    "import pandas as pd\n",
    "import numpy as np\n",
    "import matplotlib.pyplot as plt\n",
    "\n",
    "import datetime\n",
    "from datetime import datetime\n",
    "from datetime import date, time\n",
    "from dateutil.parser import parse\n",
    "\n",
    "import json\n",
    "import pickle\n",
    "%matplotlib inline"
   ]
  },
  {
   "cell_type": "markdown",
   "metadata": {},
   "source": [
    "Import IBM Watson Libraries, and add API credentials. Note: Real credentials not included here as this is a public repository."
   ]
  },
  {
   "cell_type": "code",
   "execution_count": 2,
   "metadata": {
    "collapsed": true
   },
   "outputs": [],
   "source": [
    "from watson_developer_cloud import NaturalLanguageUnderstandingV1\n",
    "from watson_developer_cloud.natural_language_understanding_v1 import Features, KeywordsOptions, EntitiesOptions, EmotionOptions, SentimentOptions\n",
    "\n",
    "ibm_pass = \"x\"\n",
    "ibm_user = \"x\"\n",
    "ibm = {'u':ibm_user, 'p':ibm_pass}"
   ]
  },
  {
   "cell_type": "markdown",
   "metadata": {},
   "source": [
    "`getSentiment` is a function to make API requests and parse the responses.\n",
    "\n",
    "`getNLU` is a function to compute the number of credits being used for a request"
   ]
  },
  {
   "cell_type": "code",
   "execution_count": 3,
   "metadata": {
    "collapsed": true
   },
   "outputs": [],
   "source": [
    "def getSentiment(text):\n",
    "    if len(text) > 20:\n",
    "        natural_language_understanding = NaturalLanguageUnderstandingV1(\n",
    "          username=ibm['u'],\n",
    "          password=ibm['p'],\n",
    "          version=\"2017-02-27\")\n",
    "        try:\n",
    "            response = natural_language_understanding.analyze(text=text,features=Features(sentiment=SentimentOptions(document=True)))\n",
    "            report = response[\"sentiment\"][\"document\"][\"score\"]\n",
    "        except WatsonApiException:\n",
    "            report = \"Error\"       \n",
    "    else:\n",
    "        report = NaN\n",
    "    return(report)\n",
    "\n",
    "def getNLU(x):\n",
    "    return (x if x % 10000 == 0 else x + 10000 - x % 10000)/10000"
   ]
  },
  {
   "cell_type": "markdown",
   "metadata": {},
   "source": [
    "Testing to see if the `getSentiment` function worked."
   ]
  },
  {
   "cell_type": "code",
   "execution_count": 4,
   "metadata": {},
   "outputs": [
    {
     "data": {
      "text/plain": [
       "0.953814"
      ]
     },
     "execution_count": 4,
     "metadata": {},
     "output_type": "execute_result"
    }
   ],
   "source": [
    "combined = getSentiment(\"This camera worked qute well, I am really happy with its image quality and eas-of-use.\")\n",
    "combined"
   ]
  },
  {
   "cell_type": "markdown",
   "metadata": {},
   "source": [
    "Loading our data"
   ]
  },
  {
   "cell_type": "code",
   "execution_count": 5,
   "metadata": {},
   "outputs": [
    {
     "data": {
      "text/html": [
       "<div>\n",
       "<style>\n",
       "    .dataframe thead tr:only-child th {\n",
       "        text-align: right;\n",
       "    }\n",
       "\n",
       "    .dataframe thead th {\n",
       "        text-align: left;\n",
       "    }\n",
       "\n",
       "    .dataframe tbody tr th {\n",
       "        vertical-align: top;\n",
       "    }\n",
       "</style>\n",
       "<table border=\"1\" class=\"dataframe\">\n",
       "  <thead>\n",
       "    <tr style=\"text-align: right;\">\n",
       "      <th></th>\n",
       "      <th>reviewerID</th>\n",
       "      <th>asin</th>\n",
       "      <th>reviewerName</th>\n",
       "      <th>helpful</th>\n",
       "      <th>reviewText</th>\n",
       "      <th>overall</th>\n",
       "      <th>summary</th>\n",
       "      <th>unixReviewTime</th>\n",
       "      <th>reviewTime</th>\n",
       "      <th>year</th>\n",
       "      <th>length_review</th>\n",
       "      <th>title</th>\n",
       "      <th>brand</th>\n",
       "      <th>price</th>\n",
       "      <th>sub_category_0</th>\n",
       "      <th>sub_category_1</th>\n",
       "      <th>sales_category</th>\n",
       "      <th>sales_rank</th>\n",
       "    </tr>\n",
       "  </thead>\n",
       "  <tbody>\n",
       "    <tr>\n",
       "      <th>0</th>\n",
       "      <td>AO94DHGC771SJ</td>\n",
       "      <td>0528881469</td>\n",
       "      <td>amazdnu</td>\n",
       "      <td>[0, 0]</td>\n",
       "      <td>We got this GPS for my husband who is an (OTR)...</td>\n",
       "      <td>5.0</td>\n",
       "      <td>Gotta have GPS!</td>\n",
       "      <td>1370131200</td>\n",
       "      <td>2013-06-02</td>\n",
       "      <td>2013</td>\n",
       "      <td>156</td>\n",
       "      <td>Rand McNally 528881469 7-inch Intelliroute TND...</td>\n",
       "      <td>NaN</td>\n",
       "      <td>299.99</td>\n",
       "      <td>Electronics</td>\n",
       "      <td>GPS &amp; Navigation</td>\n",
       "      <td>unkown</td>\n",
       "      <td>0</td>\n",
       "    </tr>\n",
       "  </tbody>\n",
       "</table>\n",
       "</div>"
      ],
      "text/plain": [
       "      reviewerID        asin reviewerName helpful  \\\n",
       "0  AO94DHGC771SJ  0528881469      amazdnu  [0, 0]   \n",
       "\n",
       "                                          reviewText  overall  \\\n",
       "0  We got this GPS for my husband who is an (OTR)...      5.0   \n",
       "\n",
       "           summary  unixReviewTime reviewTime  year  length_review  \\\n",
       "0  Gotta have GPS!      1370131200 2013-06-02  2013            156   \n",
       "\n",
       "                                               title brand   price  \\\n",
       "0  Rand McNally 528881469 7-inch Intelliroute TND...   NaN  299.99   \n",
       "\n",
       "  sub_category_0    sub_category_1 sales_category  sales_rank  \n",
       "0    Electronics  GPS & Navigation         unkown           0  "
      ]
     },
     "execution_count": 5,
     "metadata": {},
     "output_type": "execute_result"
    }
   ],
   "source": [
    "df = pd.read_pickle(\"Electronics_meta.pickle\")\n",
    "df.head(1)"
   ]
  },
  {
   "cell_type": "markdown",
   "metadata": {},
   "source": [
    "Processing the data to collect by subcategory and date. I.e. we want to see what are the reviews made for products in a particular subcategory on each day."
   ]
  },
  {
   "cell_type": "code",
   "execution_count": 6,
   "metadata": {},
   "outputs": [
    {
     "data": {
      "text/html": [
       "<div>\n",
       "<style>\n",
       "    .dataframe thead tr:only-child th {\n",
       "        text-align: right;\n",
       "    }\n",
       "\n",
       "    .dataframe thead th {\n",
       "        text-align: left;\n",
       "    }\n",
       "\n",
       "    .dataframe tbody tr th {\n",
       "        vertical-align: top;\n",
       "    }\n",
       "</style>\n",
       "<table border=\"1\" class=\"dataframe\">\n",
       "  <thead>\n",
       "    <tr style=\"text-align: right;\">\n",
       "      <th></th>\n",
       "      <th></th>\n",
       "      <th>reviewText</th>\n",
       "      <th>charlen</th>\n",
       "    </tr>\n",
       "    <tr>\n",
       "      <th>reviewTime</th>\n",
       "      <th>sub_category_1</th>\n",
       "      <th></th>\n",
       "      <th></th>\n",
       "    </tr>\n",
       "  </thead>\n",
       "  <tbody>\n",
       "    <tr>\n",
       "      <th>1999-06-13</th>\n",
       "      <th>Portable Audio &amp; Video</th>\n",
       "      <td>The RIO rocks! It is so great that Diamond Mul...</td>\n",
       "      <td>507</td>\n",
       "    </tr>\n",
       "  </tbody>\n",
       "</table>\n",
       "</div>"
      ],
      "text/plain": [
       "                                                                          reviewText  \\\n",
       "reviewTime sub_category_1                                                              \n",
       "1999-06-13 Portable Audio & Video  The RIO rocks! It is so great that Diamond Mul...   \n",
       "\n",
       "                                   charlen  \n",
       "reviewTime sub_category_1                   \n",
       "1999-06-13 Portable Audio & Video      507  "
      ]
     },
     "execution_count": 6,
     "metadata": {},
     "output_type": "execute_result"
    }
   ],
   "source": [
    "df = df[['sub_category_1','reviewTime','reviewText']]\n",
    "df = df.groupby(['reviewTime','sub_category_1']).agg(lambda x: \". \".join(x.tolist()))\n",
    "df['charlen']=list(map(lambda x:len(x),df.reviewText))\n",
    "df = df[df.charlen>20]\n",
    "df.head(1)"
   ]
  },
  {
   "cell_type": "code",
   "execution_count": 7,
   "metadata": {},
   "outputs": [
    {
     "data": {
      "text/html": [
       "<div>\n",
       "<style>\n",
       "    .dataframe thead tr:only-child th {\n",
       "        text-align: right;\n",
       "    }\n",
       "\n",
       "    .dataframe thead th {\n",
       "        text-align: left;\n",
       "    }\n",
       "\n",
       "    .dataframe tbody tr th {\n",
       "        vertical-align: top;\n",
       "    }\n",
       "</style>\n",
       "<table border=\"1\" class=\"dataframe\">\n",
       "  <thead>\n",
       "    <tr style=\"text-align: right;\">\n",
       "      <th></th>\n",
       "      <th></th>\n",
       "      <th>reviewText</th>\n",
       "      <th>charlen</th>\n",
       "      <th>NLU</th>\n",
       "    </tr>\n",
       "    <tr>\n",
       "      <th>reviewTime</th>\n",
       "      <th>sub_category_1</th>\n",
       "      <th></th>\n",
       "      <th></th>\n",
       "      <th></th>\n",
       "    </tr>\n",
       "  </thead>\n",
       "  <tbody>\n",
       "    <tr>\n",
       "      <th>2014-07-03</th>\n",
       "      <th>Luggage &amp; Travel Gear</th>\n",
       "      <td>This works good for my Kindle</td>\n",
       "      <td>29</td>\n",
       "      <td>1.0</td>\n",
       "    </tr>\n",
       "    <tr>\n",
       "      <th>2007-06-14</th>\n",
       "      <th>Cases</th>\n",
       "      <td>Looks great, fits like a glove. Nice feel.</td>\n",
       "      <td>42</td>\n",
       "      <td>1.0</td>\n",
       "    </tr>\n",
       "    <tr>\n",
       "      <th>2009-05-02</th>\n",
       "      <th>eBook Readers &amp; Accessories</th>\n",
       "      <td>This is a must have for the DS of course.  [...]</td>\n",
       "      <td>48</td>\n",
       "      <td>1.0</td>\n",
       "    </tr>\n",
       "    <tr>\n",
       "      <th>2014-07-02</th>\n",
       "      <th>Car Care</th>\n",
       "      <td>work great, many uses for them i would recomme...</td>\n",
       "      <td>53</td>\n",
       "      <td>1.0</td>\n",
       "    </tr>\n",
       "    <tr>\n",
       "      <th>2000-08-26</th>\n",
       "      <th>Computers &amp; Accessories</th>\n",
       "      <td>No problems, worked under 98, NT, 2K and Linux...</td>\n",
       "      <td>55</td>\n",
       "      <td>1.0</td>\n",
       "    </tr>\n",
       "  </tbody>\n",
       "</table>\n",
       "</div>"
      ],
      "text/plain": [
       "                                                                               reviewText  \\\n",
       "reviewTime sub_category_1                                                                   \n",
       "2014-07-03 Luggage & Travel Gear                            This works good for my Kindle   \n",
       "2007-06-14 Cases                               Looks great, fits like a glove. Nice feel.   \n",
       "2009-05-02 eBook Readers & Accessories   This is a must have for the DS of course.  [...]   \n",
       "2014-07-02 Car Care                     work great, many uses for them i would recomme...   \n",
       "2000-08-26 Computers & Accessories      No problems, worked under 98, NT, 2K and Linux...   \n",
       "\n",
       "                                        charlen  NLU  \n",
       "reviewTime sub_category_1                             \n",
       "2014-07-03 Luggage & Travel Gear             29  1.0  \n",
       "2007-06-14 Cases                             42  1.0  \n",
       "2009-05-02 eBook Readers & Accessories       48  1.0  \n",
       "2014-07-02 Car Care                          53  1.0  \n",
       "2000-08-26 Computers & Accessories           55  1.0  "
      ]
     },
     "execution_count": 7,
     "metadata": {},
     "output_type": "execute_result"
    }
   ],
   "source": [
    "senti_cat = df\n",
    "senti_cat['NLU'] = list(map(lambda x:getNLU(x),senti_cat.charlen))\n",
    "senti_cat = senti_cat.sort_values(['NLU', 'charlen'], ascending=[1, 1])\n",
    "senti_cat.head(5)"
   ]
  },
  {
   "cell_type": "markdown",
   "metadata": {},
   "source": [
    "Parse through our data, and store the results in a new column. Store the data in .pickle files for future reference. Here we decided to store many small pickles as we made Sentiment Analysis requests in smaller batches to ensure API credits were not wasted in case of server errors."
   ]
  },
  {
   "cell_type": "code",
   "execution_count": null,
   "metadata": {
    "collapsed": true
   },
   "outputs": [],
   "source": [
    "import datetime\n",
    "\n",
    "for x in range(0,40000,1000):\n",
    "    batchN = senti_cat.iloc[x:x+1000, :]\n",
    "    t = datetime.datetime.now()\n",
    "    print (\"Start: \"+ t.strftime('%H:%M:%S'))\n",
    "    batchN['sentScore'] = list(map(lambda x:getSentiment(x),batchN.reviewText))\n",
    "    filename = \"catDate_sentScores_\"+str(int(x/1000))+\"k_\"+str(int((x+1000)/1000))+\"k.pickle\"\n",
    "    pickling_on = open(filename,\"wb\")\n",
    "    pickle.dump(batchN[['sentScore']], pickling_on)\n",
    "    pickling_on.close()\n",
    "    print(filename + \" complete\")\n",
    "\n",
    "batchN = senti_cat.iloc[40000:, :]\n",
    "t = datetime.datetime.now()\n",
    "print (\"Start: \"+ t.strftime('%H:%M:%S'))\n",
    "batchN['sentScore'] = list(map(lambda x:getSentiment(x),batchN.reviewText))\n",
    "filename = \"catDate_sentScores_\"+str(int(x/1000))+\"k_end.pickle\"\n",
    "pickling_on = open(filename,\"wb\")\n",
    "pickle.dump(batchN[['sentScore']], pickling_on)\n",
    "pickling_on.close()\n",
    "print(filename + \" complete\")"
   ]
  },
  {
   "cell_type": "markdown",
   "metadata": {},
   "source": [
    "### Part 2: Product Sentiment Analysis"
   ]
  },
  {
   "cell_type": "markdown",
   "metadata": {},
   "source": [
    "Include required libraries"
   ]
  },
  {
   "cell_type": "code",
   "execution_count": null,
   "metadata": {},
   "outputs": [],
   "source": [
    "from nltk.sentiment.vader import SentimentIntensityAnalyzer"
   ]
  },
  {
   "cell_type": "markdown",
   "metadata": {},
   "source": [
    "Initialize NLTK Vader Sentiment Analyzer, and do a quick test to see it works"
   ]
  },
  {
   "cell_type": "code",
   "execution_count": 9,
   "metadata": {},
   "outputs": [
    {
     "data": {
      "text/plain": [
       "{'compound': 0.7264, 'neg': 0.0, 'neu': 0.663, 'pos': 0.337}"
      ]
     },
     "execution_count": 9,
     "metadata": {},
     "output_type": "execute_result"
    }
   ],
   "source": [
    "sentimentAnalyzer = SentimentIntensityAnalyzer()\n",
    "sentence = \"This camera worked qute well, I am really happy with its image quality and ease-of-use.\"\n",
    "sentimentAnalyzer.polarity_scores(sentence)"
   ]
  },
  {
   "cell_type": "markdown",
   "metadata": {},
   "source": [
    "Loading our data"
   ]
  },
  {
   "cell_type": "code",
   "execution_count": 10,
   "metadata": {},
   "outputs": [
    {
     "data": {
      "text/plain": [
       "(1689188, 18)"
      ]
     },
     "execution_count": 10,
     "metadata": {},
     "output_type": "execute_result"
    }
   ],
   "source": [
    "df = pd.read_pickle(\"Electronics_meta.pickle\")\n",
    "df.shape"
   ]
  },
  {
   "cell_type": "markdown",
   "metadata": {},
   "source": [
    "Calculate sentiment score for each review"
   ]
  },
  {
   "cell_type": "code",
   "execution_count": 51,
   "metadata": {},
   "outputs": [
    {
     "name": "stdout",
     "output_type": "stream",
     "text": [
      "Start: 20:39:50\n",
      "End  : 21:18:13\n"
     ]
    }
   ],
   "source": [
    "import datetime\n",
    "\n",
    "test = df\n",
    "\n",
    "t = datetime.datetime.now()\n",
    "print (\"Start: \"+ t.strftime('%H:%M:%S'))\n",
    "\n",
    "test['score']=list(map(lambda x:sentimentAnalyzer.polarity_scores(x),test.reviewText))\n",
    "test['sentiment_com']= list(map(lambda x:x['compound'],test.score))\n",
    "test['sentiment_pos'] = list(map(lambda x:x['pos'],test.score))\n",
    "test['sentiment_neg']= list(map(lambda x:x['neg'],test.score))\n",
    "test['sentiment_neu']= list(map(lambda x:x['neu'],test.score))\n",
    "\n",
    "t = datetime.datetime.now()\n",
    "print (\"End  : \"+ t.strftime('%H:%M:%S'))\n"
   ]
  },
  {
   "cell_type": "markdown",
   "metadata": {},
   "source": [
    "See updated dataframe"
   ]
  },
  {
   "cell_type": "code",
   "execution_count": 55,
   "metadata": {},
   "outputs": [
    {
     "data": {
      "text/html": [
       "<div>\n",
       "<style>\n",
       "    .dataframe thead tr:only-child th {\n",
       "        text-align: right;\n",
       "    }\n",
       "\n",
       "    .dataframe thead th {\n",
       "        text-align: left;\n",
       "    }\n",
       "\n",
       "    .dataframe tbody tr th {\n",
       "        vertical-align: top;\n",
       "    }\n",
       "</style>\n",
       "<table border=\"1\" class=\"dataframe\">\n",
       "  <thead>\n",
       "    <tr style=\"text-align: right;\">\n",
       "      <th></th>\n",
       "      <th>reviewerID</th>\n",
       "      <th>asin</th>\n",
       "      <th>reviewerName</th>\n",
       "      <th>helpful</th>\n",
       "      <th>reviewText</th>\n",
       "      <th>overall</th>\n",
       "      <th>summary</th>\n",
       "      <th>unixReviewTime</th>\n",
       "      <th>reviewTime</th>\n",
       "      <th>year</th>\n",
       "      <th>...</th>\n",
       "      <th>price</th>\n",
       "      <th>sub_category_0</th>\n",
       "      <th>sub_category_1</th>\n",
       "      <th>sales_category</th>\n",
       "      <th>sales_rank</th>\n",
       "      <th>score</th>\n",
       "      <th>sentiment_com</th>\n",
       "      <th>sentiment_pos</th>\n",
       "      <th>sentiment_neg</th>\n",
       "      <th>sentiment_neu</th>\n",
       "    </tr>\n",
       "  </thead>\n",
       "  <tbody>\n",
       "    <tr>\n",
       "      <th>0</th>\n",
       "      <td>AO94DHGC771SJ</td>\n",
       "      <td>0528881469</td>\n",
       "      <td>amazdnu</td>\n",
       "      <td>[0, 0]</td>\n",
       "      <td>We got this GPS for my husband who is an (OTR)...</td>\n",
       "      <td>5.0</td>\n",
       "      <td>Gotta have GPS!</td>\n",
       "      <td>1370131200</td>\n",
       "      <td>2013-06-02</td>\n",
       "      <td>2013</td>\n",
       "      <td>...</td>\n",
       "      <td>299.99</td>\n",
       "      <td>Electronics</td>\n",
       "      <td>GPS &amp; Navigation</td>\n",
       "      <td>unkown</td>\n",
       "      <td>0</td>\n",
       "      <td>{'neg': 0.048, 'neu': 0.763, 'pos': 0.189, 'co...</td>\n",
       "      <td>0.9769</td>\n",
       "      <td>0.189</td>\n",
       "      <td>0.048</td>\n",
       "      <td>0.763</td>\n",
       "    </tr>\n",
       "    <tr>\n",
       "      <th>1</th>\n",
       "      <td>AMO214LNFCEI4</td>\n",
       "      <td>0528881469</td>\n",
       "      <td>Amazon Customer</td>\n",
       "      <td>[12, 15]</td>\n",
       "      <td>I'm a professional OTR truck driver, and I bou...</td>\n",
       "      <td>1.0</td>\n",
       "      <td>Very Disappointed</td>\n",
       "      <td>1290643200</td>\n",
       "      <td>2010-11-25</td>\n",
       "      <td>2010</td>\n",
       "      <td>...</td>\n",
       "      <td>299.99</td>\n",
       "      <td>Electronics</td>\n",
       "      <td>GPS &amp; Navigation</td>\n",
       "      <td>unkown</td>\n",
       "      <td>0</td>\n",
       "      <td>{'neg': 0.054, 'neu': 0.894, 'pos': 0.052, 'co...</td>\n",
       "      <td>0.4359</td>\n",
       "      <td>0.052</td>\n",
       "      <td>0.054</td>\n",
       "      <td>0.894</td>\n",
       "    </tr>\n",
       "    <tr>\n",
       "      <th>2</th>\n",
       "      <td>A3N7T0DY83Y4IG</td>\n",
       "      <td>0528881469</td>\n",
       "      <td>C. A. Freeman</td>\n",
       "      <td>[43, 45]</td>\n",
       "      <td>Well, what can I say.  I've had this unit in m...</td>\n",
       "      <td>3.0</td>\n",
       "      <td>1st impression</td>\n",
       "      <td>1283990400</td>\n",
       "      <td>2010-09-09</td>\n",
       "      <td>2010</td>\n",
       "      <td>...</td>\n",
       "      <td>299.99</td>\n",
       "      <td>Electronics</td>\n",
       "      <td>GPS &amp; Navigation</td>\n",
       "      <td>unkown</td>\n",
       "      <td>0</td>\n",
       "      <td>{'neg': 0.041, 'neu': 0.879, 'pos': 0.08, 'com...</td>\n",
       "      <td>0.9858</td>\n",
       "      <td>0.080</td>\n",
       "      <td>0.041</td>\n",
       "      <td>0.879</td>\n",
       "    </tr>\n",
       "    <tr>\n",
       "      <th>3</th>\n",
       "      <td>A1H8PY3QHMQQA0</td>\n",
       "      <td>0528881469</td>\n",
       "      <td>Dave M. Shaw \"mack dave\"</td>\n",
       "      <td>[9, 10]</td>\n",
       "      <td>Not going to write a long review, even thought...</td>\n",
       "      <td>2.0</td>\n",
       "      <td>Great grafics, POOR GPS</td>\n",
       "      <td>1290556800</td>\n",
       "      <td>2010-11-24</td>\n",
       "      <td>2010</td>\n",
       "      <td>...</td>\n",
       "      <td>299.99</td>\n",
       "      <td>Electronics</td>\n",
       "      <td>GPS &amp; Navigation</td>\n",
       "      <td>unkown</td>\n",
       "      <td>0</td>\n",
       "      <td>{'neg': 0.061, 'neu': 0.875, 'pos': 0.063, 'co...</td>\n",
       "      <td>-0.2307</td>\n",
       "      <td>0.063</td>\n",
       "      <td>0.061</td>\n",
       "      <td>0.875</td>\n",
       "    </tr>\n",
       "    <tr>\n",
       "      <th>4</th>\n",
       "      <td>A24EV6RXELQZ63</td>\n",
       "      <td>0528881469</td>\n",
       "      <td>Wayne Smith</td>\n",
       "      <td>[0, 0]</td>\n",
       "      <td>I've had mine for a year and here's what we go...</td>\n",
       "      <td>1.0</td>\n",
       "      <td>Major issues, only excuses for support</td>\n",
       "      <td>1317254400</td>\n",
       "      <td>2011-09-29</td>\n",
       "      <td>2011</td>\n",
       "      <td>...</td>\n",
       "      <td>299.99</td>\n",
       "      <td>Electronics</td>\n",
       "      <td>GPS &amp; Navigation</td>\n",
       "      <td>unkown</td>\n",
       "      <td>0</td>\n",
       "      <td>{'neg': 0.064, 'neu': 0.902, 'pos': 0.034, 'co...</td>\n",
       "      <td>-0.7845</td>\n",
       "      <td>0.034</td>\n",
       "      <td>0.064</td>\n",
       "      <td>0.902</td>\n",
       "    </tr>\n",
       "  </tbody>\n",
       "</table>\n",
       "<p>5 rows × 23 columns</p>\n",
       "</div>"
      ],
      "text/plain": [
       "       reviewerID        asin              reviewerName   helpful  \\\n",
       "0   AO94DHGC771SJ  0528881469                   amazdnu    [0, 0]   \n",
       "1   AMO214LNFCEI4  0528881469           Amazon Customer  [12, 15]   \n",
       "2  A3N7T0DY83Y4IG  0528881469             C. A. Freeman  [43, 45]   \n",
       "3  A1H8PY3QHMQQA0  0528881469  Dave M. Shaw \"mack dave\"   [9, 10]   \n",
       "4  A24EV6RXELQZ63  0528881469               Wayne Smith    [0, 0]   \n",
       "\n",
       "                                          reviewText  overall  \\\n",
       "0  We got this GPS for my husband who is an (OTR)...      5.0   \n",
       "1  I'm a professional OTR truck driver, and I bou...      1.0   \n",
       "2  Well, what can I say.  I've had this unit in m...      3.0   \n",
       "3  Not going to write a long review, even thought...      2.0   \n",
       "4  I've had mine for a year and here's what we go...      1.0   \n",
       "\n",
       "                                  summary  unixReviewTime reviewTime  year  \\\n",
       "0                         Gotta have GPS!      1370131200 2013-06-02  2013   \n",
       "1                       Very Disappointed      1290643200 2010-11-25  2010   \n",
       "2                          1st impression      1283990400 2010-09-09  2010   \n",
       "3                 Great grafics, POOR GPS      1290556800 2010-11-24  2010   \n",
       "4  Major issues, only excuses for support      1317254400 2011-09-29  2011   \n",
       "\n",
       "       ...         price sub_category_0    sub_category_1  sales_category  \\\n",
       "0      ...        299.99    Electronics  GPS & Navigation          unkown   \n",
       "1      ...        299.99    Electronics  GPS & Navigation          unkown   \n",
       "2      ...        299.99    Electronics  GPS & Navigation          unkown   \n",
       "3      ...        299.99    Electronics  GPS & Navigation          unkown   \n",
       "4      ...        299.99    Electronics  GPS & Navigation          unkown   \n",
       "\n",
       "  sales_rank                                              score sentiment_com  \\\n",
       "0          0  {'neg': 0.048, 'neu': 0.763, 'pos': 0.189, 'co...        0.9769   \n",
       "1          0  {'neg': 0.054, 'neu': 0.894, 'pos': 0.052, 'co...        0.4359   \n",
       "2          0  {'neg': 0.041, 'neu': 0.879, 'pos': 0.08, 'com...        0.9858   \n",
       "3          0  {'neg': 0.061, 'neu': 0.875, 'pos': 0.063, 'co...       -0.2307   \n",
       "4          0  {'neg': 0.064, 'neu': 0.902, 'pos': 0.034, 'co...       -0.7845   \n",
       "\n",
       "   sentiment_pos sentiment_neg  sentiment_neu  \n",
       "0          0.189         0.048          0.763  \n",
       "1          0.052         0.054          0.894  \n",
       "2          0.080         0.041          0.879  \n",
       "3          0.063         0.061          0.875  \n",
       "4          0.034         0.064          0.902  \n",
       "\n",
       "[5 rows x 23 columns]"
      ]
     },
     "execution_count": 55,
     "metadata": {},
     "output_type": "execute_result"
    }
   ],
   "source": [
    "test.head()"
   ]
  },
  {
   "cell_type": "markdown",
   "metadata": {},
   "source": [
    "Save data in a pickle."
   ]
  },
  {
   "cell_type": "code",
   "execution_count": 56,
   "metadata": {
    "collapsed": true
   },
   "outputs": [],
   "source": [
    "pickling_on = open(\"electronics_meta_sentiment.pickle\",\"wb\")\n",
    "pickle.dump(test, pickling_on)\n",
    "pickling_on.close()"
   ]
  }
 ],
 "metadata": {
  "kernelspec": {
   "display_name": "Python 3",
   "language": "python",
   "name": "python3"
  },
  "language_info": {
   "codemirror_mode": {
    "name": "ipython",
    "version": 3
   },
   "file_extension": ".py",
   "mimetype": "text/x-python",
   "name": "python",
   "nbconvert_exporter": "python",
   "pygments_lexer": "ipython3",
   "version": "3.6.0"
  }
 },
 "nbformat": 4,
 "nbformat_minor": 2
}
