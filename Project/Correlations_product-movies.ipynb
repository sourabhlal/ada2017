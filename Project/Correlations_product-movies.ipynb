{
 "cells": [
  {
   "cell_type": "code",
   "execution_count": 1,
   "metadata": {
    "collapsed": true
   },
   "outputs": [],
   "source": [
    "#libraries \n",
    "import pandas as pd\n",
    "import gzip\n",
    "from tqdm import tqdm\n",
    "\n",
    "from datetime import datetime\n",
    "from datetime import date, time\n",
    "from dateutil.parser import parse\n",
    "import numpy as np\n",
    "\n",
    "\n",
    "\n",
    "from bokeh.plotting import figure, output_notebook, show,output_file,gridplot\n",
    "from bokeh.models import DatetimeTickFormatter,HoverTool,Span\n",
    "\n",
    "import json\n",
    "import matplotlib.pyplot as plt\n",
    "import pickle\n",
    "%matplotlib inline"
   ]
  },
  {
   "cell_type": "code",
   "execution_count": 17,
   "metadata": {},
   "outputs": [],
   "source": [
    "def distribution (rev):\n",
    "    data=df.loc[rev]\n",
    "    print(len(data))\n",
    "    print(data.iloc[0,9:12])\n",
    "    plt.figure(figsize=(15,10))\n",
    "    \n",
    "    plt.subplot(3,2,1)\n",
    "    w= np.ones_like(data['overall'])/float(len(data['overall']))\n",
    "    plt.hist(data['overall'],weights=w)\n",
    "    plt.title('overall score')\n",
    "    plt.grid()\n",
    "    \n",
    "    plt.subplot(3,2,2)\n",
    "    w= np.ones_like(data.length_review)/float(len(data.length_review))\n",
    "    plt.hist(data['length_review'],weights=w)\n",
    "    plt.grid()\n",
    "    plt.title('length of reviews')\n",
    "    \n",
    "    plt.subplot(3,2,5)\n",
    "    w= np.ones_like(data.sentiment_review)/float(len(data.sentiment_review))\n",
    "    plt.hist(data['sentiment_review'],weights=w)\n",
    "    plt.grid()\n",
    "    plt.title('sentiment review')\n",
    "    \n",
    "    plt.subplot(3,2,6)\n",
    "    w= np.ones_like(data.sentiment_summary)/float(len(data.sentiment_summary))\n",
    "    plt.hist(data['sentiment_summary'],weights=w)\n",
    "    plt.grid()\n",
    "    plt.title('sentiment summary')\n",
    "    \n",
    "    plt.subplot(3,2,3)\n",
    "    w= np.ones_like(data.helpfulness.dropna())/float(len(data.helpfulness.dropna()))\n",
    "    plt.hist(data['helpfulness'].dropna(),weights=w)\n",
    "    plt.grid()\n",
    "    plt.title('helpfulness')\n",
    "    \n",
    "    plt.subplot(3,2,4)\n",
    "    w= np.ones_like(data.year)/float(len(data.year))\n",
    "    plt.hist(data['year'],weights=w)\n",
    "    plt.grid()\n",
    "    plt.title('year')\n",
    "    \n",
    "    plt\n",
    "\n",
    "import itertools\n",
    "def plot_correlation_matrix(cm, classes,title='Correlation matrix', cmap=plt.cm.RdBu):\n",
    "    normalize=False\n",
    "    plt.imshow(cm, interpolation='nearest', cmap=cmap)\n",
    "    plt.title(title)\n",
    "    plt.clim(-1,1)\n",
    "    plt.colorbar()\n",
    "\n",
    "    tick_marks = np.arange(len(classes))\n",
    "    plt.xticks(tick_marks, classes, rotation=45)\n",
    "    plt.yticks(tick_marks, classes)\n",
    "\n",
    "\n",
    "    plt.tight_layout()\n",
    "    plt.ylabel('True label')\n",
    "    plt.xlabel('Predicted label')\n",
    "\n",
    "             \n",
    "np.set_printoptions(precision=2)\n",
    "\n",
    "def corr (x,y,c):\n",
    "    p.circle(X[x],X[y],color=c,alpha=0.5)\n",
    "    p.legend.location = \"top_left\"\n",
    "    p.grid.grid_line_alpha=0\n",
    "    p.xaxis.axis_label = x\n",
    "    p.yaxis.axis_label = y\n",
    "    return p\n"
   ]
  },
  {
   "cell_type": "code",
   "execution_count": 3,
   "metadata": {
    "collapsed": true
   },
   "outputs": [],
   "source": [
    "#load the dataframe for a given product only (is it possible?)\n",
    "pickle_off = open(\"Movies_and_and_merged.pickle\",\"rb\")\n",
    "df = pickle.load(pickle_off)\n"
   ]
  },
  {
   "cell_type": "code",
   "execution_count": 4,
   "metadata": {},
   "outputs": [
    {
     "data": {
      "text/plain": [
       "Index(['reviewerID', 'asin', 'reviewerName', 'helpful', 'reviewText',\n",
       "       'overall', 'summary', 'unixReviewTime', 'reviewTime', 'year',\n",
       "       'length_review', 'length_title_reviews', 'title', 'price',\n",
       "       'sales_category', 'sales_rank', 'sentiment_review',\n",
       "       'sentiment_summary'],\n",
       "      dtype='object')"
      ]
     },
     "execution_count": 4,
     "metadata": {},
     "output_type": "execute_result"
    }
   ],
   "source": [
    "df=df[df.year>2012]\n",
    "df.columns"
   ]
  },
  {
   "cell_type": "code",
   "execution_count": 5,
   "metadata": {
    "collapsed": true
   },
   "outputs": [],
   "source": [
    "l=[]\n",
    "for i in df.index:\n",
    "    if df.helpful[i][1]==0:\n",
    "        l.append(None)\n",
    "    else:\n",
    "        l.append(df.helpful[i][0]/df.helpful[i][1])\n",
    "df['helpfulness']=l\n",
    "del df['helpful']\n",
    "del df['unixReviewTime']\n",
    "df['sales_rank']=df['sales_rank'].replace(0, np.nan)"
   ]
  },
  {
   "cell_type": "code",
   "execution_count": 6,
   "metadata": {
    "collapsed": true
   },
   "outputs": [],
   "source": [
    "df=df.set_index('asin')"
   ]
  },
  {
   "cell_type": "code",
   "execution_count": 7,
   "metadata": {},
   "outputs": [
    {
     "data": {
      "text/plain": [
       "Index(['reviewerID', 'reviewerName', 'reviewText', 'overall', 'summary',\n",
       "       'reviewTime', 'year', 'length_review', 'length_title_reviews', 'title',\n",
       "       'price', 'sales_category', 'sales_rank', 'sentiment_review',\n",
       "       'sentiment_summary', 'helpfulness'],\n",
       "      dtype='object')"
      ]
     },
     "execution_count": 7,
     "metadata": {},
     "output_type": "execute_result"
    }
   ],
   "source": [
    "df.columns"
   ]
  },
  {
   "cell_type": "code",
   "execution_count": 8,
   "metadata": {},
   "outputs": [
    {
     "data": {
      "text/plain": [
       "43500"
      ]
     },
     "execution_count": 8,
     "metadata": {},
     "output_type": "execute_result"
    }
   ],
   "source": [
    "products=df.index.unique()\n",
    "len(products)"
   ]
  },
  {
   "cell_type": "code",
   "execution_count": 9,
   "metadata": {
    "collapsed": true
   },
   "outputs": [],
   "source": [
    "n=list(map(lambda x:len(df.loc[x]),products))"
   ]
  },
  {
   "cell_type": "code",
   "execution_count": 10,
   "metadata": {
    "collapsed": true
   },
   "outputs": [],
   "source": [
    "count=pd.DataFrame(n)\n",
    "count.index=products\n",
    "count.columns=['n']\n",
    "count=count.sort_values('n',ascending=False)"
   ]
  },
  {
   "cell_type": "code",
   "execution_count": 11,
   "metadata": {},
   "outputs": [
    {
     "data": {
      "text/html": [
       "<div>\n",
       "<style scoped>\n",
       "    .dataframe tbody tr th:only-of-type {\n",
       "        vertical-align: middle;\n",
       "    }\n",
       "\n",
       "    .dataframe tbody tr th {\n",
       "        vertical-align: top;\n",
       "    }\n",
       "\n",
       "    .dataframe thead th {\n",
       "        text-align: right;\n",
       "    }\n",
       "</style>\n",
       "<table border=\"1\" class=\"dataframe\">\n",
       "  <thead>\n",
       "    <tr style=\"text-align: right;\">\n",
       "      <th></th>\n",
       "      <th>n</th>\n",
       "    </tr>\n",
       "    <tr>\n",
       "      <th>asin</th>\n",
       "      <th></th>\n",
       "    </tr>\n",
       "  </thead>\n",
       "  <tbody>\n",
       "    <tr>\n",
       "      <th>B009934S5M</th>\n",
       "      <td>1974</td>\n",
       "    </tr>\n",
       "    <tr>\n",
       "      <th>B0059XTU1S</th>\n",
       "      <td>1696</td>\n",
       "    </tr>\n",
       "    <tr>\n",
       "      <th>B005LAIIMG</th>\n",
       "      <td>1584</td>\n",
       "    </tr>\n",
       "    <tr>\n",
       "      <th>B00AF6B22E</th>\n",
       "      <td>1525</td>\n",
       "    </tr>\n",
       "    <tr>\n",
       "      <th>B00FZM8Z7I</th>\n",
       "      <td>1517</td>\n",
       "    </tr>\n",
       "    <tr>\n",
       "      <th>B00H83EUL2</th>\n",
       "      <td>1494</td>\n",
       "    </tr>\n",
       "    <tr>\n",
       "      <th>B003EYVXV4</th>\n",
       "      <td>1396</td>\n",
       "    </tr>\n",
       "    <tr>\n",
       "      <th>1608838137</th>\n",
       "      <td>1346</td>\n",
       "    </tr>\n",
       "    <tr>\n",
       "      <th>B008JFUPFI</th>\n",
       "      <td>1281</td>\n",
       "    </tr>\n",
       "    <tr>\n",
       "      <th>B001KVZ6HK</th>\n",
       "      <td>1255</td>\n",
       "    </tr>\n",
       "  </tbody>\n",
       "</table>\n",
       "</div>"
      ],
      "text/plain": [
       "               n\n",
       "asin            \n",
       "B009934S5M  1974\n",
       "B0059XTU1S  1696\n",
       "B005LAIIMG  1584\n",
       "B00AF6B22E  1525\n",
       "B00FZM8Z7I  1517\n",
       "B00H83EUL2  1494\n",
       "B003EYVXV4  1396\n",
       "1608838137  1346\n",
       "B008JFUPFI  1281\n",
       "B001KVZ6HK  1255"
      ]
     },
     "execution_count": 11,
     "metadata": {},
     "output_type": "execute_result"
    }
   ],
   "source": [
    "count.head(10)"
   ]
  },
  {
   "cell_type": "code",
   "execution_count": 42,
   "metadata": {},
   "outputs": [
    {
     "data": {
      "text/html": [
       "<div>\n",
       "<style scoped>\n",
       "    .dataframe tbody tr th:only-of-type {\n",
       "        vertical-align: middle;\n",
       "    }\n",
       "\n",
       "    .dataframe tbody tr th {\n",
       "        vertical-align: top;\n",
       "    }\n",
       "\n",
       "    .dataframe thead th {\n",
       "        text-align: right;\n",
       "    }\n",
       "</style>\n",
       "<table border=\"1\" class=\"dataframe\">\n",
       "  <thead>\n",
       "    <tr style=\"text-align: right;\">\n",
       "      <th></th>\n",
       "      <th>overall</th>\n",
       "      <th>helpfulness</th>\n",
       "      <th>length_review</th>\n",
       "      <th>length_title_reviews</th>\n",
       "      <th>sentiment_review</th>\n",
       "      <th>sentiment_summary</th>\n",
       "    </tr>\n",
       "    <tr>\n",
       "      <th>asin</th>\n",
       "      <th></th>\n",
       "      <th></th>\n",
       "      <th></th>\n",
       "      <th></th>\n",
       "      <th></th>\n",
       "      <th></th>\n",
       "    </tr>\n",
       "  </thead>\n",
       "  <tbody>\n",
       "    <tr>\n",
       "      <th>B00FZM8Z7I</th>\n",
       "      <td>5.0</td>\n",
       "      <td>1.0</td>\n",
       "      <td>459</td>\n",
       "      <td>9</td>\n",
       "      <td>0.471111</td>\n",
       "      <td>0.4</td>\n",
       "    </tr>\n",
       "    <tr>\n",
       "      <th>B00FZM8Z7I</th>\n",
       "      <td>5.0</td>\n",
       "      <td>NaN</td>\n",
       "      <td>155</td>\n",
       "      <td>31</td>\n",
       "      <td>0.400000</td>\n",
       "      <td>1.0</td>\n",
       "    </tr>\n",
       "    <tr>\n",
       "      <th>B00FZM8Z7I</th>\n",
       "      <td>4.0</td>\n",
       "      <td>NaN</td>\n",
       "      <td>1634</td>\n",
       "      <td>53</td>\n",
       "      <td>0.184664</td>\n",
       "      <td>0.5</td>\n",
       "    </tr>\n",
       "    <tr>\n",
       "      <th>B00FZM8Z7I</th>\n",
       "      <td>5.0</td>\n",
       "      <td>NaN</td>\n",
       "      <td>156</td>\n",
       "      <td>11</td>\n",
       "      <td>0.237500</td>\n",
       "      <td>0.8</td>\n",
       "    </tr>\n",
       "    <tr>\n",
       "      <th>B00FZM8Z7I</th>\n",
       "      <td>4.0</td>\n",
       "      <td>NaN</td>\n",
       "      <td>154</td>\n",
       "      <td>31</td>\n",
       "      <td>0.600000</td>\n",
       "      <td>0.5</td>\n",
       "    </tr>\n",
       "  </tbody>\n",
       "</table>\n",
       "</div>"
      ],
      "text/plain": [
       "            overall  helpfulness  length_review  length_title_reviews  \\\n",
       "asin                                                                    \n",
       "B00FZM8Z7I      5.0          1.0            459                     9   \n",
       "B00FZM8Z7I      5.0          NaN            155                    31   \n",
       "B00FZM8Z7I      4.0          NaN           1634                    53   \n",
       "B00FZM8Z7I      5.0          NaN            156                    11   \n",
       "B00FZM8Z7I      4.0          NaN            154                    31   \n",
       "\n",
       "            sentiment_review  sentiment_summary  \n",
       "asin                                             \n",
       "B00FZM8Z7I          0.471111                0.4  \n",
       "B00FZM8Z7I          0.400000                1.0  \n",
       "B00FZM8Z7I          0.184664                0.5  \n",
       "B00FZM8Z7I          0.237500                0.8  \n",
       "B00FZM8Z7I          0.600000                0.5  "
      ]
     },
     "execution_count": 42,
     "metadata": {},
     "output_type": "execute_result"
    }
   ],
   "source": [
    "p=count.index.values[4]\n",
    "X=df.loc[p,['overall','helpfulness','length_review','length_title_reviews','sentiment_review','sentiment_summary']]\n",
    "X.head()"
   ]
  },
  {
   "cell_type": "code",
   "execution_count": 43,
   "metadata": {},
   "outputs": [
    {
     "name": "stdout",
     "output_type": "stream",
     "text": [
      "1517\n",
      "title                     NaN\n",
      "price                   59.93\n",
      "sales_category    Movies & TV\n",
      "Name: B00FZM8Z7I, dtype: object\n"
     ]
    },
    {
     "data": {
      "image/png": "[encoded data removed]",
      "text/plain": [
       "<matplotlib.figure.Figure at 0x1277eaac8>"
      ]
     },
     "metadata": {},
     "output_type": "display_data"
    }
   ],
   "source": [
    "distribution(p)"
   ]
  },
  {
   "cell_type": "code",
   "execution_count": null,
   "metadata": {
    "collapsed": true
   },
   "outputs": [],
   "source": []
  },
  {
   "cell_type": "code",
   "execution_count": 44,
   "metadata": {},
   "outputs": [
    {
     "data": {
      "text/html": [
       "<div>\n",
       "<style scoped>\n",
       "    .dataframe tbody tr th:only-of-type {\n",
       "        vertical-align: middle;\n",
       "    }\n",
       "\n",
       "    .dataframe tbody tr th {\n",
       "        vertical-align: top;\n",
       "    }\n",
       "\n",
       "    .dataframe thead th {\n",
       "        text-align: right;\n",
       "    }\n",
       "</style>\n",
       "<table border=\"1\" class=\"dataframe\">\n",
       "  <thead>\n",
       "    <tr style=\"text-align: right;\">\n",
       "      <th></th>\n",
       "      <th>overall</th>\n",
       "      <th>helpfulness</th>\n",
       "      <th>length_review</th>\n",
       "      <th>length_title_reviews</th>\n",
       "      <th>sentiment_review</th>\n",
       "      <th>sentiment_summary</th>\n",
       "    </tr>\n",
       "  </thead>\n",
       "  <tbody>\n",
       "    <tr>\n",
       "      <th>overall</th>\n",
       "      <td>1.000000</td>\n",
       "      <td>0.463204</td>\n",
       "      <td>-0.135599</td>\n",
       "      <td>-0.123294</td>\n",
       "      <td>0.386913</td>\n",
       "      <td>0.307145</td>\n",
       "    </tr>\n",
       "    <tr>\n",
       "      <th>helpfulness</th>\n",
       "      <td>0.463204</td>\n",
       "      <td>1.000000</td>\n",
       "      <td>0.102810</td>\n",
       "      <td>0.061764</td>\n",
       "      <td>0.136420</td>\n",
       "      <td>0.241118</td>\n",
       "    </tr>\n",
       "    <tr>\n",
       "      <th>length_review</th>\n",
       "      <td>-0.135599</td>\n",
       "      <td>0.102810</td>\n",
       "      <td>1.000000</td>\n",
       "      <td>0.330084</td>\n",
       "      <td>-0.211808</td>\n",
       "      <td>-0.081816</td>\n",
       "    </tr>\n",
       "    <tr>\n",
       "      <th>length_title_reviews</th>\n",
       "      <td>-0.123294</td>\n",
       "      <td>0.061764</td>\n",
       "      <td>0.330084</td>\n",
       "      <td>1.000000</td>\n",
       "      <td>-0.224879</td>\n",
       "      <td>-0.070210</td>\n",
       "    </tr>\n",
       "    <tr>\n",
       "      <th>sentiment_review</th>\n",
       "      <td>0.386913</td>\n",
       "      <td>0.136420</td>\n",
       "      <td>-0.211808</td>\n",
       "      <td>-0.224879</td>\n",
       "      <td>1.000000</td>\n",
       "      <td>0.204463</td>\n",
       "    </tr>\n",
       "    <tr>\n",
       "      <th>sentiment_summary</th>\n",
       "      <td>0.307145</td>\n",
       "      <td>0.241118</td>\n",
       "      <td>-0.081816</td>\n",
       "      <td>-0.070210</td>\n",
       "      <td>0.204463</td>\n",
       "      <td>1.000000</td>\n",
       "    </tr>\n",
       "  </tbody>\n",
       "</table>\n",
       "</div>"
      ],
      "text/plain": [
       "                       overall  helpfulness  length_review  \\\n",
       "overall               1.000000     0.463204      -0.135599   \n",
       "helpfulness           0.463204     1.000000       0.102810   \n",
       "length_review        -0.135599     0.102810       1.000000   \n",
       "length_title_reviews -0.123294     0.061764       0.330084   \n",
       "sentiment_review      0.386913     0.136420      -0.211808   \n",
       "sentiment_summary     0.307145     0.241118      -0.081816   \n",
       "\n",
       "                      length_title_reviews  sentiment_review  \\\n",
       "overall                          -0.123294          0.386913   \n",
       "helpfulness                       0.061764          0.136420   \n",
       "length_review                     0.330084         -0.211808   \n",
       "length_title_reviews              1.000000         -0.224879   \n",
       "sentiment_review                 -0.224879          1.000000   \n",
       "sentiment_summary                -0.070210          0.204463   \n",
       "\n",
       "                      sentiment_summary  \n",
       "overall                        0.307145  \n",
       "helpfulness                    0.241118  \n",
       "length_review                 -0.081816  \n",
       "length_title_reviews          -0.070210  \n",
       "sentiment_review               0.204463  \n",
       "sentiment_summary              1.000000  "
      ]
     },
     "execution_count": 44,
     "metadata": {},
     "output_type": "execute_result"
    }
   ],
   "source": [
    "cm=X.corr()\n",
    "cm"
   ]
  },
  {
   "cell_type": "code",
   "execution_count": 45,
   "metadata": {},
   "outputs": [
    {
     "data": {
      "image/png": "[encoded data removed]",
      "text/plain": [
       "<matplotlib.figure.Figure at 0x142fe9be0>"
      ]
     },
     "metadata": {},
     "output_type": "display_data"
    }
   ],
   "source": [
    "# Plot correlation matrix\n",
    "plt.figure(figsize=(10,10))\n",
    "plot_correlation_matrix(cm, classes=X.columns,title='Correlation Matrix')\n",
    "plt.show()              "
   ]
  },
  {
   "cell_type": "code",
   "execution_count": 46,
   "metadata": {},
   "outputs": [
    {
     "data": {
      "text/html": [
       "\n",
       "    <div class=\"bk-root\">\n",
       "        <a href=\"http://bokeh.pydata.org\" target=\"_blank\" class=\"bk-logo bk-logo-small bk-logo-notebook\"></a>\n",
       "        <span id=\"e3178f7c-e14d-47d0-a03b-fbce461b8b85\">Loading BokehJS ...</span>\n",
       "    </div>"
      ]
     },
     "metadata": {},
     "output_type": "display_data"
    },
    {
     "data": {
      "application/javascript": [
       "\n",
       "(function(global) {\n",
       "  function now() {\n",
       "    return new Date();\n",
       "  }\n",
       "\n",
       "  var force = true;\n",
       "\n",
       "  if (typeof (window._bokeh_onload_callbacks) === \"undefined\" || force === true) {\n",
       "    window._bokeh_onload_callbacks = [];\n",
       "    window._bokeh_is_loading = undefined;\n",
       "  }\n",
       "\n",
       "\n",
       "  \n",
       "  if (typeof (window._bokeh_timeout) === \"undefined\" || force === true) {\n",
       "    window._bokeh_timeout = Date.now() + 5000;\n",
       "    window._bokeh_failed_load = false;\n",
       "  }\n",
       "\n",
       "  var NB_LOAD_WARNING = {'data': {'text/html':\n",
       "     \"<div style='background-color: #fdd'>\\n\"+\n",
       "     \"<p>\\n\"+\n",
       "     \"BokehJS does not appear to have successfully loaded. If loading BokehJS from CDN, this \\n\"+\n",
       "     \"may be due to a slow or bad network connection. Possible fixes:\\n\"+\n",
       "     \"</p>\\n\"+\n",
       "     \"<ul>\\n\"+\n",
       "     \"<li>re-rerun `output_notebook()` to attempt to load from CDN again, or</li>\\n\"+\n",
       "     \"<li>use INLINE resources instead, as so:</li>\\n\"+\n",
       "     \"</ul>\\n\"+\n",
       "     \"<code>\\n\"+\n",
       "     \"from bokeh.resources import INLINE\\n\"+\n",
       "     \"output_notebook(resources=INLINE)\\n\"+\n",
       "     \"</code>\\n\"+\n",
       "     \"</div>\"}};\n",
       "\n",
       "  function display_loaded() {\n",
       "    if (window.Bokeh !== undefined) {\n",
       "      var el = document.getElementById(\"e3178f7c-e14d-47d0-a03b-fbce461b8b85\");\n",
       "      el.textContent = \"BokehJS \" + Bokeh.version + \" successfully loaded.\";\n",
       "    } else if (Date.now() < window._bokeh_timeout) {\n",
       "      setTimeout(display_loaded, 100)\n",
       "    }\n",
       "  }\n",
       "\n",
       "  function run_callbacks() {\n",
       "    window._bokeh_onload_callbacks.forEach(function(callback) { callback() });\n",
       "    delete window._bokeh_onload_callbacks\n",
       "    console.info(\"Bokeh: all callbacks have finished\");\n",
       "  }\n",
       "\n",
       "  function load_libs(js_urls, callback) {\n",
       "    window._bokeh_onload_callbacks.push(callback);\n",
       "    if (window._bokeh_is_loading > 0) {\n",
       "      console.log(\"Bokeh: BokehJS is being loaded, scheduling callback at\", now());\n",
       "      return null;\n",
       "    }\n",
       "    if (js_urls == null || js_urls.length === 0) {\n",
       "      run_callbacks();\n",
       "      return null;\n",
       "    }\n",
       "    console.log(\"Bokeh: BokehJS not loaded, scheduling load and callback at\", now());\n",
       "    window._bokeh_is_loading = js_urls.length;\n",
       "    for (var i = 0; i < js_urls.length; i++) {\n",
       "      var url = js_urls[i];\n",
       "      var s = document.createElement('script');\n",
       "      s.src = url;\n",
       "      s.async = false;\n",
       "      s.onreadystatechange = s.onload = function() {\n",
       "        window._bokeh_is_loading--;\n",
       "        if (window._bokeh_is_loading === 0) {\n",
       "          console.log(\"Bokeh: all BokehJS libraries loaded\");\n",
       "          run_callbacks()\n",
       "        }\n",
       "      };\n",
       "      s.onerror = function() {\n",
       "        console.warn(\"failed to load library \" + url);\n",
       "      };\n",
       "      console.log(\"Bokeh: injecting script tag for BokehJS library: \", url);\n",
       "      document.getElementsByTagName(\"head\")[0].appendChild(s);\n",
       "    }\n",
       "  };var element = document.getElementById(\"e3178f7c-e14d-47d0-a03b-fbce461b8b85\");\n",
       "  if (element == null) {\n",
       "    console.log(\"Bokeh: ERROR: autoload.js configured with elementid 'e3178f7c-e14d-47d0-a03b-fbce461b8b85' but no matching script tag was found. \")\n",
       "    return false;\n",
       "  }\n",
       "\n",
       "  var js_urls = [\"https://cdn.pydata.org/bokeh/release/bokeh-0.12.5.min.js\", \"https://cdn.pydata.org/bokeh/release/bokeh-widgets-0.12.5.min.js\"];\n",
       "\n",
       "  var inline_js = [\n",
       "    function(Bokeh) {\n",
       "      Bokeh.set_log_level(\"info\");\n",
       "    },\n",
       "    \n",
       "    function(Bokeh) {\n",
       "      \n",
       "    },\n",
       "    \n",
       "    function(Bokeh) {\n",
       "      \n",
       "      document.getElementById(\"e3178f7c-e14d-47d0-a03b-fbce461b8b85\").textContent = \"BokehJS is loading...\";\n",
       "    },\n",
       "    function(Bokeh) {\n",
       "      console.log(\"Bokeh: injecting CSS: https://cdn.pydata.org/bokeh/release/bokeh-0.12.5.min.css\");\n",
       "      Bokeh.embed.inject_css(\"https://cdn.pydata.org/bokeh/release/bokeh-0.12.5.min.css\");\n",
       "      console.log(\"Bokeh: injecting CSS: https://cdn.pydata.org/bokeh/release/bokeh-widgets-0.12.5.min.css\");\n",
       "      Bokeh.embed.inject_css(\"https://cdn.pydata.org/bokeh/release/bokeh-widgets-0.12.5.min.css\");\n",
       "    }\n",
       "  ];\n",
       "\n",
       "  function run_inline_js() {\n",
       "    \n",
       "    if ((window.Bokeh !== undefined) || (force === true)) {\n",
       "      for (var i = 0; i < inline_js.length; i++) {\n",
       "        inline_js[i](window.Bokeh);\n",
       "      }if (force === true) {\n",
       "        display_loaded();\n",
       "      }} else if (Date.now() < window._bokeh_timeout) {\n",
       "      setTimeout(run_inline_js, 100);\n",
       "    } else if (!window._bokeh_failed_load) {\n",
       "      console.log(\"Bokeh: BokehJS failed to load within specified timeout.\");\n",
       "      window._bokeh_failed_load = true;\n",
       "    } else if (force !== true) {\n",
       "      var cell = $(document.getElementById(\"e3178f7c-e14d-47d0-a03b-fbce461b8b85\")).parents('.cell').data().cell;\n",
       "      cell.output_area.append_execute_result(NB_LOAD_WARNING)\n",
       "    }\n",
       "\n",
       "  }\n",
       "\n",
       "  if (window._bokeh_is_loading === 0) {\n",
       "    console.log(\"Bokeh: BokehJS loaded, going straight to plotting\");\n",
       "    run_inline_js();\n",
       "  } else {\n",
       "    load_libs(js_urls, function() {\n",
       "      console.log(\"Bokeh: BokehJS plotting callback run at\", now());\n",
       "      run_inline_js();\n",
       "    });\n",
       "  }\n",
       "}(this));"
      ]
     },
     "metadata": {},
     "output_type": "display_data"
    },
    {
     "data": {
      "text/html": [
       "\n",
       "\n",
       "    <div class=\"bk-root\">\n",
       "        <div class=\"bk-plotdiv\" id=\"03bd823b-615e-4be5-a1fd-78875b24cd68\"></div>\n",
       "    </div>\n",
       "<script type=\"text/javascript\">\n",
       "  \n",
       "  (function(global) {\n",
       "    function now() {\n",
       "      return new Date();\n",
       "    }\n",
       "  \n",
       "    var force = false;\n",
       "  \n",
       "    if (typeof (window._bokeh_onload_callbacks) === \"undefined\" || force === true) {\n",
       "      window._bokeh_onload_callbacks = [];\n",
       "      window._bokeh_is_loading = undefined;\n",
       "    }\n",
       "  \n",
       "  \n",
       "    \n",
       "    if (typeof (window._bokeh_timeout) === \"undefined\" || force === true) {\n",
       "      window._bokeh_timeout = Date.now() + 0;\n",
       "      window._bokeh_failed_load = false;\n",
       "    }\n",
       "  \n",
       "    var NB_LOAD_WARNING = {'data': {'text/html':\n",
       "       \"<div style='background-color: #fdd'>\\n\"+\n",
       "       \"<p>\\n\"+\n",
       "       \"BokehJS does not appear to have successfully loaded. If loading BokehJS from CDN, this \\n\"+\n",
       "       \"may be due to a slow or bad network connection. Possible fixes:\\n\"+\n",
       "       \"</p>\\n\"+\n",
       "       \"<ul>\\n\"+\n",
       "       \"<li>re-rerun `output_notebook()` to attempt to load from CDN again, or</li>\\n\"+\n",
       "       \"<li>use INLINE resources instead, as so:</li>\\n\"+\n",
       "       \"</ul>\\n\"+\n",
       "       \"<code>\\n\"+\n",
       "       \"from bokeh.resources import INLINE\\n\"+\n",
       "       \"output_notebook(resources=INLINE)\\n\"+\n",
       "       \"</code>\\n\"+\n",
       "       \"</div>\"}};\n",
       "  \n",
       "    function display_loaded() {\n",
       "      if (window.Bokeh !== undefined) {\n",
       "        var el = document.getElementById(\"03bd823b-615e-4be5-a1fd-78875b24cd68\");\n",
       "        el.textContent = \"BokehJS \" + Bokeh.version + \" successfully loaded.\";\n",
       "      } else if (Date.now() < window._bokeh_timeout) {\n",
       "        setTimeout(display_loaded, 100)\n",
       "      }\n",
       "    }\n",
       "  \n",
       "    function run_callbacks() {\n",
       "      window._bokeh_onload_callbacks.forEach(function(callback) { callback() });\n",
       "      delete window._bokeh_onload_callbacks\n",
       "      console.info(\"Bokeh: all callbacks have finished\");\n",
       "    }\n",
       "  \n",
       "    function load_libs(js_urls, callback) {\n",
       "      window._bokeh_onload_callbacks.push(callback);\n",
       "      if (window._bokeh_is_loading > 0) {\n",
       "        console.log(\"Bokeh: BokehJS is being loaded, scheduling callback at\", now());\n",
       "        return null;\n",
       "      }\n",
       "      if (js_urls == null || js_urls.length === 0) {\n",
       "        run_callbacks();\n",
       "        return null;\n",
       "      }\n",
       "      console.log(\"Bokeh: BokehJS not loaded, scheduling load and callback at\", now());\n",
       "      window._bokeh_is_loading = js_urls.length;\n",
       "      for (var i = 0; i < js_urls.length; i++) {\n",
       "        var url = js_urls[i];\n",
       "        var s = document.createElement('script');\n",
       "        s.src = url;\n",
       "        s.async = false;\n",
       "        s.onreadystatechange = s.onload = function() {\n",
       "          window._bokeh_is_loading--;\n",
       "          if (window._bokeh_is_loading === 0) {\n",
       "            console.log(\"Bokeh: all BokehJS libraries loaded\");\n",
       "            run_callbacks()\n",
       "          }\n",
       "        };\n",
       "        s.onerror = function() {\n",
       "          console.warn(\"failed to load library \" + url);\n",
       "        };\n",
       "        console.log(\"Bokeh: injecting script tag for BokehJS library: \", url);\n",
       "        document.getElementsByTagName(\"head\")[0].appendChild(s);\n",
       "      }\n",
       "    };var element = document.getElementById(\"03bd823b-615e-4be5-a1fd-78875b24cd68\");\n",
       "    if (element == null) {\n",
       "      console.log(\"Bokeh: ERROR: autoload.js configured with elementid '03bd823b-615e-4be5-a1fd-78875b24cd68' but no matching script tag was found. \")\n",
       "      return false;\n",
       "    }\n",
       "  \n",
       "    var js_urls = [];\n",
       "  \n",
       "    var inline_js = [\n",
       "      function(Bokeh) {\n",
       "        (function() {\n",
       "          var fn = function() {\n",
       "            var docs_json = {\"c36a72f7-22ba-4659-a20e-cb7dd7d279e1\":{\"roots\":{\"references\":[{\"attributes\":{\"grid_line_alpha\":{\"value\":0},\"plot\":{\"id\":\"08a23d7d-b0eb-47a5-991b-e33c7e691985\",\"subtype\":\"Figure\",\"type\":\"Plot\"},\"ticker\":{\"id\":\"170b957f-ea64-4a93-bd78-4295773fadb8\",\"type\":\"BasicTicker\"}},\"id\":\"557bab36-5923-4445-a897-4591fb1899e8\",\"type\":\"Grid\"},{\"attributes\":{\"plot\":{\"id\":\"08a23d7d-b0eb-47a5-991b-e33c7e691985\",\"subtype\":\"Figure\",\"type\":\"Plot\"}},\"id\":\"97f83763-8bf7-4acb-ad68-406fffe31a2d\",\"type\":\"ResetTool\"},{\"attributes\":{\"fill_alpha\":{\"value\":0.1},\"fill_color\":{\"value\":\"#1f77b4\"},\"line_alpha\":{\"value\":0.1},\"line_color\":{\"value\":\"#1f77b4\"},\"x\":{\"field\":\"x\"},\"y\":{\"field\":\"y\"}},\"id\":\"239ae7cb-2062-4715-8a74-adf67fbb9cab\",\"type\":\"Circle\"},{\"attributes\":{},\"id\":\"c90bde8f-72c7-44cd-b312-7adf05c8be05\",\"type\":\"BasicTickFormatter\"},{\"attributes\":{\"axis_label\":\"length_review\",\"formatter\":{\"id\":\"c90bde8f-72c7-44cd-b312-7adf05c8be05\",\"type\":\"BasicTickFormatter\"},\"plot\":{\"id\":\"08a23d7d-b0eb-47a5-991b-e33c7e691985\",\"subtype\":\"Figure\",\"type\":\"Plot\"},\"ticker\":{\"id\":\"170b957f-ea64-4a93-bd78-4295773fadb8\",\"type\":\"BasicTicker\"}},\"id\":\"8b6c8e9f-70ab-4a9a-b59b-7595c38c0de8\",\"type\":\"LinearAxis\"},{\"attributes\":{\"plot\":{\"id\":\"08a23d7d-b0eb-47a5-991b-e33c7e691985\",\"subtype\":\"Figure\",\"type\":\"Plot\"}},\"id\":\"84ae9f29-f7d9-4c97-82d9-5f984534768b\",\"type\":\"HelpTool\"},{\"attributes\":{\"callback\":null},\"id\":\"ac17d003-1dfd-4822-aed8-46c0ef2b4f9b\",\"type\":\"DataRange1d\"},{\"attributes\":{\"bottom_units\":\"screen\",\"fill_alpha\":{\"value\":0.5},\"fill_color\":{\"value\":\"lightgrey\"},\"left_units\":\"screen\",\"level\":\"overlay\",\"line_alpha\":{\"value\":1.0},\"line_color\":{\"value\":\"black\"},\"line_dash\":[4,4],\"line_width\":{\"value\":2},\"plot\":null,\"render_mode\":\"css\",\"right_units\":\"screen\",\"top_units\":\"screen\"},\"id\":\"dce2b27d-d267-40e5-8dd8-31461ee94dda\",\"type\":\"BoxAnnotation\"},{\"attributes\":{},\"id\":\"29868bed-ec8b-49ce-8a89-a0c6920ebcc0\",\"type\":\"BasicTickFormatter\"},{\"attributes\":{\"plot\":{\"id\":\"08a23d7d-b0eb-47a5-991b-e33c7e691985\",\"subtype\":\"Figure\",\"type\":\"Plot\"}},\"id\":\"fb74fdfb-c6bb-4d77-86b4-880d52fcb323\",\"type\":\"WheelZoomTool\"},{\"attributes\":{\"callback\":null},\"id\":\"18830d8e-310f-4a35-ba6f-e30819934ed4\",\"type\":\"DataRange1d\"},{\"attributes\":{\"data_source\":{\"id\":\"a77aeadb-04ec-4e6b-8aec-61f86dbec847\",\"type\":\"ColumnDataSource\"},\"glyph\":{\"id\":\"2a239333-c604-435f-a7c1-0595c28df5a2\",\"type\":\"Circle\"},\"hover_glyph\":null,\"muted_glyph\":null,\"nonselection_glyph\":{\"id\":\"8f2cc68e-6d2d-47ef-b1c9-2c67c6e87dc8\",\"type\":\"Circle\"},\"selection_glyph\":null},\"id\":\"4d678d5a-0c99-4c07-9267-f9285a151098\",\"type\":\"GlyphRenderer\"},{\"attributes\":{\"data_source\":{\"id\":\"de736438-811d-4fed-a51f-0de15fc30d75\",\"type\":\"ColumnDataSource\"},\"glyph\":{\"id\":\"bfc566d6-0ad5-451a-9f6d-fec6b730506a\",\"type\":\"Circle\"},\"hover_glyph\":null,\"muted_glyph\":null,\"nonselection_glyph\":{\"id\":\"239ae7cb-2062-4715-8a74-adf67fbb9cab\",\"type\":\"Circle\"},\"selection_glyph\":null},\"id\":\"4adf7eab-4ebb-46d4-80b4-d1d03de6826a\",\"type\":\"GlyphRenderer\"},{\"attributes\":{\"callback\":null,\"column_names\":[\"x\",\"y\"],\"data\":{\"x\":[459,155,1634,156,154,134,109,180,386,155,126,112,735,712,1145,296,150,144,382,14,126,312,156,480,308,47,60,120,166,225,324,187,260,240,972,168,123,142,139,183,561,731,159,154,186,250,109,295,253,84,162,157,342,123,98,111,296,261,149,201,458,361,175,2998,548,428,333,307,559,174,143,218,216,378,147,216,169,109,352,1301,92,241,22600,146,115,249,255,215,193,583,31,12507,5162,142,131,134,236,140,192,1371,1316,106,128,152,106,854,114,184,40,109,332,130,103,1211,1656,568,583,289,236,267,1609,145,105,801,239,595,140,150,216,177,1261,157,906,141,172,134,157,117,464,1501,129,152,53,406,146,483,1026,296,166,352,127,151,75,333,128,1154,476,2702,136,95,131,626,61,209,227,626,147,306,124,135,1326,594,894,131,143,104,138,1208,205,343,133,159,160,123,4568,309,148,125,209,164,115,548,146,231,383,158,105,627,133,142,109,416,244,107,403,381,139,211,191,477,101,150,433,107,543,110,115,194,1039,1245,153,115,1416,121,308,241,113,101,367,471,669,171,91,147,820,216,237,116,142,138,175,259,115,104,425,454,190,158,128,122,274,31,214,132,229,114,175,130,352,199,204,143,1015,505,193,95,2319,300,215,324,185,132,1582,1178,246,384,187,2267,122,105,141,111,248,319,675,171,104,3530,381,142,116,10,370,846,424,1622,29,111,28,546,261,137,206,125,118,106,122,159,34,402,467,61,155,296,186,625,188,2330,3115,140,168,191,473,101,204,404,113,114,164,812,122,298,121,291,185,127,466,25,331,41,212,121,192,2727,3199,983,255,709,138,99,151,587,412,2982,418,215,127,6372,554,420,161,268,223,136,129,264,1175,511,148,589,266,442,4736,258,535,233,164,202,121,231,41,211,281,1034,219,530,121,153,126,135,149,163,1032,118,111,899,439,248,26,124,159,203,841,13,112,112,119,150,146,528,343,311,2331,104,106,423,152,128,68,129,138,707,120,352,150,160,290,121,584,495,113,113,220,441,538,1319,373,486,647,1616,537,560,370,149,265,119,293,270,115,4199,379,388,161,238,117,238,216,140,139,145,175,6339,252,113,125,264,1195,34,286,198,156,1299,351,219,3070,109,226,272,166,121,102,602,159,226,169,64,6312,316,385,196,245,2354,653,286,1164,134,306,166,549,37,413,56,179,122,117,147,202,253,769,4394,286,1604,463,141,583,103,131,471,218,122,529,73,139,119,170,175,2486,1074,149,2697,118,228,123,338,1228,275,844,775,385,106,177,197,120,153,2233,247,105,82,345,146,574,190,278,366,134,538,449,127,141,152,693,233,961,191,119,12,112,408,315,187,862,207,130,165,153,143,187,1897,1186,406,200,111,423,503,194,1376,122,276,244,445,123,319,4974,260,111,144,176,315,111,226,73,431,160,35,122,126,529,141,124,228,131,167,1049,211,797,201,275,171,285,445,242,182,1628,154,580,196,435,156,129,357,106,99,25,152,112,623,112,109,113,136,119,102,120,277,192,374,296,121,120,118,119,114,171,128,95,117,437,151,147,455,166,409,194,894,500,487,643,135,317,196,500,313,141,195,466,369,84,161,105,117,149,1269,307,123,411,100,136,123,198,194,113,122,3369,223,1175,2756,614,234,2814,166,139,240,361,124,392,154,213,636,100,115,1169,100,154,256,226,164,136,120,4245,85,107,2890,166,143,125,194,136,108,418,147,530,158,47,205,199,509,36,181,134,308,137,169,105,157,1179,124,476,111,129,283,246,212,275,144,206,110,123,133,141,1296,810,210,595,140,117,122,227,7,184,118,5071,189,155,414,1649,155,1828,183,267,174,113,95,132,285,225,114,465,355,144,235,311,202,234,1237,130,759,133,52,359,170,151,296,416,240,181,174,128,180,251,447,367,123,117,108,153,129,124,128,538,374,195,216,198,233,117,132,109,207,178,171,180,575,352,146,258,217,542,323,1144,163,122,1511,67,117,297,147,191,631,150,187,110,740,101,479,103,197,216,148,173,157,121,357,161,105,550,240,703,4149,262,194,255,162,123,156,165,126,183,106,281,113,187,1386,447,164,1265,113,175,106,478,138,1748,2983,274,22,99,104,105,151,235,173,120,170,182,114,227,117,949,570,204,139,143,140,1764,149,142,353,896,130,247,374,148,222,405,202,118,746,290,89,207,253,157,336,285,145,122,189,356,146,418,1434,374,200,293,221,317,844,402,37,153,191,381,18,223,122,105,140,338,705,290,476,820,108,127,144,261,135,23,366,125,213,118,214,1049,245,885,921,124,2770,17,89,104,164,154,120,348,316,66,245,47,180,115,134,3078,121,143,158,107,371,348,200,132,476,209,3573,736,323,5605,215,345,134,509,156,132,268,1305,3439,135,127,582,272,188,258,326,214,232,233,7079,323,239,289,316,112,98,476,80,137,169,151,134,163,232,923,264,202,109,255,9,327,88,109,120,100,124,126,799,87,296,190,110,817,134,105,263,127,199,448,246,97,131,533,114,1332,299,176,107,261,122,263,173,188,91,112,497,274,412,416,152,363,817,42,546,118,157,330,109,162,248,121,102,1061,244,229,115,188,213,209,937,494,164,234,108,575,11,152,230,286,116,308,200,457,214,170,2117,109,182,178,256,183,514,121,538,84,132,247,218,149,169,599,352,246,1209,138,1052,144,551,182,117,114,230,104,163,524,780,272,2291,396,352,190,457,126,643,460,164,915,176,116,619,132,309,118,26,220,143,215,859,809,116,234,383,137,594,51,102,177,114,271,143,248,176,121,130,257,378,140,212,133,1694,125,1000,339,502,328,151,102,379,1399,111,3812,146,119,640,1487,96,119,2745,125,449,157,111,116,127,1600,133,123,333,130,153,17,244,218,970,845,326,280,231,120,388,234,811,254,118,271,1950,120,9,171,118,303,159,795,264,896,97,86,155,105,122,370,136,246,104,6889,1337,121,38,120,188,191,238,308,149,39,139,684,207,4921,526,169,171,110,2558,2090,338,497,164,62,188,114,222,877,218,564,284,133,111,110,118,66,123,235,600,144,137,209,424,437,125,208,201,118,142,122,206,218,137,113,105,143,1666,401,710,108,196,549,1731,409,194,118,112,354,114,129,1436,225,222,362,418,146,133,373,2274,169,119,151,170,517,139,112,206,21,621,701,635,107,2468,118,143,529,3439,6147,254,2556,558,198,109,853,315,440,401,755,57,1834,142,175,1284,10,458,207,120,163,171,256,207,125,250,205,341,313,145,173,143,157,167,142,336,235,139,664,109,2265,1799,126,1699,131,162,445,112,1094,684,129,282,129,467,468,291,168,17,1505,107,3595,314,346,97,4078,22,187,124,382,243,192,230,642,137,158,146,175,474,115,133,121,702,86,171,137,224,283,395,274,191,1514,3740,5121,169,541,1957,2039,1839,644,719,334,197,615,237,274,137,316,207,46,240,92,124,168,145,164,31,17,102,700,98,125,1474,140,129,102,149,1171,621,216,394,101,259,924,339,114,837,432,160,254,145,549,145,151,114,486,756,229,255,334,138,1792,448,1104,97,295,509,159,119],\"y\":{\"__ndarray__\":\"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\",\"dtype\":\"float64\",\"shape\":[1517]}}},\"id\":\"a77aeadb-04ec-4e6b-8aec-61f86dbec847\",\"type\":\"ColumnDataSource\"},{\"attributes\":{},\"id\":\"170b957f-ea64-4a93-bd78-4295773fadb8\",\"type\":\"BasicTicker\"},{\"attributes\":{\"fill_alpha\":{\"value\":0.5},\"fill_color\":{\"value\":\"navy\"},\"line_alpha\":{\"value\":0.5},\"line_color\":{\"value\":\"navy\"},\"x\":{\"field\":\"x\"},\"y\":{\"field\":\"y\"}},\"id\":\"2a239333-c604-435f-a7c1-0595c28df5a2\",\"type\":\"Circle\"},{\"attributes\":{\"active_drag\":\"auto\",\"active_scroll\":\"auto\",\"active_tap\":\"auto\",\"tools\":[{\"id\":\"38db2f89-a4fa-4429-a1d5-005dc14645e3\",\"type\":\"PanTool\"},{\"id\":\"fb74fdfb-c6bb-4d77-86b4-880d52fcb323\",\"type\":\"WheelZoomTool\"},{\"id\":\"93d21432-5895-4654-b19e-65b27dd26ac9\",\"type\":\"BoxZoomTool\"},{\"id\":\"799dad2c-4348-4ac5-a08a-c64105354d94\",\"type\":\"SaveTool\"},{\"id\":\"97f83763-8bf7-4acb-ad68-406fffe31a2d\",\"type\":\"ResetTool\"},{\"id\":\"84ae9f29-f7d9-4c97-82d9-5f984534768b\",\"type\":\"HelpTool\"}]},\"id\":\"39027caa-52d8-4f64-a629-3308c48d9b57\",\"type\":\"Toolbar\"},{\"attributes\":{\"overlay\":{\"id\":\"dce2b27d-d267-40e5-8dd8-31461ee94dda\",\"type\":\"BoxAnnotation\"},\"plot\":{\"id\":\"08a23d7d-b0eb-47a5-991b-e33c7e691985\",\"subtype\":\"Figure\",\"type\":\"Plot\"}},\"id\":\"93d21432-5895-4654-b19e-65b27dd26ac9\",\"type\":\"BoxZoomTool\"},{\"attributes\":{\"fill_alpha\":{\"value\":0.1},\"fill_color\":{\"value\":\"#1f77b4\"},\"line_alpha\":{\"value\":0.1},\"line_color\":{\"value\":\"#1f77b4\"},\"x\":{\"field\":\"x\"},\"y\":{\"field\":\"y\"}},\"id\":\"8f2cc68e-6d2d-47ef-b1c9-2c67c6e87dc8\",\"type\":\"Circle\"},{\"attributes\":{\"plot\":{\"id\":\"08a23d7d-b0eb-47a5-991b-e33c7e691985\",\"subtype\":\"Figure\",\"type\":\"Plot\"}},\"id\":\"799dad2c-4348-4ac5-a08a-c64105354d94\",\"type\":\"SaveTool\"},{\"attributes\":{\"dimension\":1,\"grid_line_alpha\":{\"value\":0},\"plot\":{\"id\":\"08a23d7d-b0eb-47a5-991b-e33c7e691985\",\"subtype\":\"Figure\",\"type\":\"Plot\"},\"ticker\":{\"id\":\"c7ff8a50-eb12-4227-9ef1-73383b420ff4\",\"type\":\"BasicTicker\"}},\"id\":\"f2093245-473f-4c57-a31e-318eddae208f\",\"type\":\"Grid\"},{\"attributes\":{\"plot\":null,\"text\":\"\"},\"id\":\"06b0147e-10e3-4980-9e44-8ff21a21f96d\",\"type\":\"Title\"},{\"attributes\":{\"plot\":{\"id\":\"08a23d7d-b0eb-47a5-991b-e33c7e691985\",\"subtype\":\"Figure\",\"type\":\"Plot\"}},\"id\":\"38db2f89-a4fa-4429-a1d5-005dc14645e3\",\"type\":\"PanTool\"},{\"attributes\":{\"fill_alpha\":{\"value\":0.5},\"fill_color\":{\"value\":\"red\"},\"line_alpha\":{\"value\":0.5},\"line_color\":{\"value\":\"red\"},\"x\":{\"field\":\"x\"},\"y\":{\"field\":\"y\"}},\"id\":\"bfc566d6-0ad5-451a-9f6d-fec6b730506a\",\"type\":\"Circle\"},{\"attributes\":{},\"id\":\"5a6a3808-739c-4c0e-a616-28364daa8128\",\"type\":\"ToolEvents\"},{\"attributes\":{\"below\":[{\"id\":\"8b6c8e9f-70ab-4a9a-b59b-7595c38c0de8\",\"type\":\"LinearAxis\"}],\"left\":[{\"id\":\"0ecb1c26-a1fe-4dd6-9de6-3f810fe3dfdb\",\"type\":\"LinearAxis\"}],\"plot_height\":500,\"plot_width\":1000,\"renderers\":[{\"id\":\"8b6c8e9f-70ab-4a9a-b59b-7595c38c0de8\",\"type\":\"LinearAxis\"},{\"id\":\"557bab36-5923-4445-a897-4591fb1899e8\",\"type\":\"Grid\"},{\"id\":\"0ecb1c26-a1fe-4dd6-9de6-3f810fe3dfdb\",\"type\":\"LinearAxis\"},{\"id\":\"f2093245-473f-4c57-a31e-318eddae208f\",\"type\":\"Grid\"},{\"id\":\"dce2b27d-d267-40e5-8dd8-31461ee94dda\",\"type\":\"BoxAnnotation\"},{\"id\":\"4d678d5a-0c99-4c07-9267-f9285a151098\",\"type\":\"GlyphRenderer\"},{\"id\":\"4adf7eab-4ebb-46d4-80b4-d1d03de6826a\",\"type\":\"GlyphRenderer\"}],\"title\":{\"id\":\"06b0147e-10e3-4980-9e44-8ff21a21f96d\",\"type\":\"Title\"},\"tool_events\":{\"id\":\"5a6a3808-739c-4c0e-a616-28364daa8128\",\"type\":\"ToolEvents\"},\"toolbar\":{\"id\":\"39027caa-52d8-4f64-a629-3308c48d9b57\",\"type\":\"Toolbar\"},\"x_range\":{\"id\":\"ac17d003-1dfd-4822-aed8-46c0ef2b4f9b\",\"type\":\"DataRange1d\"},\"y_range\":{\"id\":\"18830d8e-310f-4a35-ba6f-e30819934ed4\",\"type\":\"DataRange1d\"}},\"id\":\"08a23d7d-b0eb-47a5-991b-e33c7e691985\",\"subtype\":\"Figure\",\"type\":\"Plot\"},{\"attributes\":{\"axis_label\":\"sentiment_summary\",\"formatter\":{\"id\":\"29868bed-ec8b-49ce-8a89-a0c6920ebcc0\",\"type\":\"BasicTickFormatter\"},\"plot\":{\"id\":\"08a23d7d-b0eb-47a5-991b-e33c7e691985\",\"subtype\":\"Figure\",\"type\":\"Plot\"},\"ticker\":{\"id\":\"c7ff8a50-eb12-4227-9ef1-73383b420ff4\",\"type\":\"BasicTicker\"}},\"id\":\"0ecb1c26-a1fe-4dd6-9de6-3f810fe3dfdb\",\"type\":\"LinearAxis\"},{\"attributes\":{\"callback\":null,\"column_names\":[\"x\",\"y\"],\"data\":{\"x\":[459,155,1634,156,154,134,109,180,386,155,126,112,735,712,1145,296,150,144,382,14,126,312,156,480,308,47,60,120,166,225,324,187,260,240,972,168,123,142,139,183,561,731,159,154,186,250,109,295,253,84,162,157,342,123,98,111,296,261,149,201,458,361,175,2998,548,428,333,307,559,174,143,218,216,378,147,216,169,109,352,1301,92,241,22600,146,115,249,255,215,193,583,31,12507,5162,142,131,134,236,140,192,1371,1316,106,128,152,106,854,114,184,40,109,332,130,103,1211,1656,568,583,289,236,267,1609,145,105,801,239,595,140,150,216,177,1261,157,906,141,172,134,157,117,464,1501,129,152,53,406,146,483,1026,296,166,352,127,151,75,333,128,1154,476,2702,136,95,131,626,61,209,227,626,147,306,124,135,1326,594,894,131,143,104,138,1208,205,343,133,159,160,123,4568,309,148,125,209,164,115,548,146,231,383,158,105,627,133,142,109,416,244,107,403,381,139,211,191,477,101,150,433,107,543,110,115,194,1039,1245,153,115,1416,121,308,241,113,101,367,471,669,171,91,147,820,216,237,116,142,138,175,259,115,104,425,454,190,158,128,122,274,31,214,132,229,114,175,130,352,199,204,143,1015,505,193,95,2319,300,215,324,185,132,1582,1178,246,384,187,2267,122,105,141,111,248,319,675,171,104,3530,381,142,116,10,370,846,424,1622,29,111,28,546,261,137,206,125,118,106,122,159,34,402,467,61,155,296,186,625,188,2330,3115,140,168,191,473,101,204,404,113,114,164,812,122,298,121,291,185,127,466,25,331,41,212,121,192,2727,3199,983,255,709,138,99,151,587,412,2982,418,215,127,6372,554,420,161,268,223,136,129,264,1175,511,148,589,266,442,4736,258,535,233,164,202,121,231,41,211,281,1034,219,530,121,153,126,135,149,163,1032,118,111,899,439,248,26,124,159,203,841,13,112,112,119,150,146,528,343,311,2331,104,106,423,152,128,68,129,138,707,120,352,150,160,290,121,584,495,113,113,220,441,538,1319,373,486,647,1616,537,560,370,149,265,119,293,270,115,4199,379,388,161,238,117,238,216,140,139,145,175,6339,252,113,125,264,1195,34,286,198,156,1299,351,219,3070,109,226,272,166,121,102,602,159,226,169,64,6312,316,385,196,245,2354,653,286,1164,134,306,166,549,37,413,56,179,122,117,147,202,253,769,4394,286,1604,463,141,583,103,131,471,218,122,529,73,139,119,170,175,2486,1074,149,2697,118,228,123,338,1228,275,844,775,385,106,177,197,120,153,2233,247,105,82,345,146,574,190,278,366,134,538,449,127,141,152,693,233,961,191,119,12,112,408,315,187,862,207,130,165,153,143,187,1897,1186,406,200,111,423,503,194,1376,122,276,244,445,123,319,4974,260,111,144,176,315,111,226,73,431,160,35,122,126,529,141,124,228,131,167,1049,211,797,201,275,171,285,445,242,182,1628,154,580,196,435,156,129,357,106,99,25,152,112,623,112,109,113,136,119,102,120,277,192,374,296,121,120,118,119,114,171,128,95,117,437,151,147,455,166,409,194,894,500,487,643,135,317,196,500,313,141,195,466,369,84,161,105,117,149,1269,307,123,411,100,136,123,198,194,113,122,3369,223,1175,2756,614,234,2814,166,139,240,361,124,392,154,213,636,100,115,1169,100,154,256,226,164,136,120,4245,85,107,2890,166,143,125,194,136,108,418,147,530,158,47,205,199,509,36,181,134,308,137,169,105,157,1179,124,476,111,129,283,246,212,275,144,206,110,123,133,141,1296,810,210,595,140,117,122,227,7,184,118,5071,189,155,414,1649,155,1828,183,267,174,113,95,132,285,225,114,465,355,144,235,311,202,234,1237,130,759,133,52,359,170,151,296,416,240,181,174,128,180,251,447,367,123,117,108,153,129,124,128,538,374,195,216,198,233,117,132,109,207,178,171,180,575,352,146,258,217,542,323,1144,163,122,1511,67,117,297,147,191,631,150,187,110,740,101,479,103,197,216,148,173,157,121,357,161,105,550,240,703,4149,262,194,255,162,123,156,165,126,183,106,281,113,187,1386,447,164,1265,113,175,106,478,138,1748,2983,274,22,99,104,105,151,235,173,120,170,182,114,227,117,949,570,204,139,143,140,1764,149,142,353,896,130,247,374,148,222,405,202,118,746,290,89,207,253,157,336,285,145,122,189,356,146,418,1434,374,200,293,221,317,844,402,37,153,191,381,18,223,122,105,140,338,705,290,476,820,108,127,144,261,135,23,366,125,213,118,214,1049,245,885,921,124,2770,17,89,104,164,154,120,348,316,66,245,47,180,115,134,3078,121,143,158,107,371,348,200,132,476,209,3573,736,323,5605,215,345,134,509,156,132,268,1305,3439,135,127,582,272,188,258,326,214,232,233,7079,323,239,289,316,112,98,476,80,137,169,151,134,163,232,923,264,202,109,255,9,327,88,109,120,100,124,126,799,87,296,190,110,817,134,105,263,127,199,448,246,97,131,533,114,1332,299,176,107,261,122,263,173,188,91,112,497,274,412,416,152,363,817,42,546,118,157,330,109,162,248,121,102,1061,244,229,115,188,213,209,937,494,164,234,108,575,11,152,230,286,116,308,200,457,214,170,2117,109,182,178,256,183,514,121,538,84,132,247,218,149,169,599,352,246,1209,138,1052,144,551,182,117,114,230,104,163,524,780,272,2291,396,352,190,457,126,643,460,164,915,176,116,619,132,309,118,26,220,143,215,859,809,116,234,383,137,594,51,102,177,114,271,143,248,176,121,130,257,378,140,212,133,1694,125,1000,339,502,328,151,102,379,1399,111,3812,146,119,640,1487,96,119,2745,125,449,157,111,116,127,1600,133,123,333,130,153,17,244,218,970,845,326,280,231,120,388,234,811,254,118,271,1950,120,9,171,118,303,159,795,264,896,97,86,155,105,122,370,136,246,104,6889,1337,121,38,120,188,191,238,308,149,39,139,684,207,4921,526,169,171,110,2558,2090,338,497,164,62,188,114,222,877,218,564,284,133,111,110,118,66,123,235,600,144,137,209,424,437,125,208,201,118,142,122,206,218,137,113,105,143,1666,401,710,108,196,549,1731,409,194,118,112,354,114,129,1436,225,222,362,418,146,133,373,2274,169,119,151,170,517,139,112,206,21,621,701,635,107,2468,118,143,529,3439,6147,254,2556,558,198,109,853,315,440,401,755,57,1834,142,175,1284,10,458,207,120,163,171,256,207,125,250,205,341,313,145,173,143,157,167,142,336,235,139,664,109,2265,1799,126,1699,131,162,445,112,1094,684,129,282,129,467,468,291,168,17,1505,107,3595,314,346,97,4078,22,187,124,382,243,192,230,642,137,158,146,175,474,115,133,121,702,86,171,137,224,283,395,274,191,1514,3740,5121,169,541,1957,2039,1839,644,719,334,197,615,237,274,137,316,207,46,240,92,124,168,145,164,31,17,102,700,98,125,1474,140,129,102,149,1171,621,216,394,101,259,924,339,114,837,432,160,254,145,549,145,151,114,486,756,229,255,334,138,1792,448,1104,97,295,509,159,119],\"y\":{\"__ndarray__\":\"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\",\"dtype\":\"float64\",\"shape\":[1517]}}},\"id\":\"de736438-811d-4fed-a51f-0de15fc30d75\",\"type\":\"ColumnDataSource\"},{\"attributes\":{},\"id\":\"c7ff8a50-eb12-4227-9ef1-73383b420ff4\",\"type\":\"BasicTicker\"}],\"root_ids\":[\"08a23d7d-b0eb-47a5-991b-e33c7e691985\"]},\"title\":\"Bokeh Application\",\"version\":\"0.12.5\"}};\n",
       "            var render_items = [{\"docid\":\"c36a72f7-22ba-4659-a20e-cb7dd7d279e1\",\"elementid\":\"03bd823b-615e-4be5-a1fd-78875b24cd68\",\"modelid\":\"08a23d7d-b0eb-47a5-991b-e33c7e691985\"}];\n",
       "            \n",
       "            Bokeh.embed.embed_items(docs_json, render_items);\n",
       "          };\n",
       "          if (document.readyState != \"loading\") fn();\n",
       "          else document.addEventListener(\"DOMContentLoaded\", fn);\n",
       "        })();\n",
       "      },\n",
       "      function(Bokeh) {\n",
       "      }\n",
       "    ];\n",
       "  \n",
       "    function run_inline_js() {\n",
       "      \n",
       "      if ((window.Bokeh !== undefined) || (force === true)) {\n",
       "        for (var i = 0; i < inline_js.length; i++) {\n",
       "          inline_js[i](window.Bokeh);\n",
       "        }if (force === true) {\n",
       "          display_loaded();\n",
       "        }} else if (Date.now() < window._bokeh_timeout) {\n",
       "        setTimeout(run_inline_js, 100);\n",
       "      } else if (!window._bokeh_failed_load) {\n",
       "        console.log(\"Bokeh: BokehJS failed to load within specified timeout.\");\n",
       "        window._bokeh_failed_load = true;\n",
       "      } else if (force !== true) {\n",
       "        var cell = $(document.getElementById(\"03bd823b-615e-4be5-a1fd-78875b24cd68\")).parents('.cell').data().cell;\n",
       "        cell.output_area.append_execute_result(NB_LOAD_WARNING)\n",
       "      }\n",
       "  \n",
       "    }\n",
       "  \n",
       "    if (window._bokeh_is_loading === 0) {\n",
       "      console.log(\"Bokeh: BokehJS loaded, going straight to plotting\");\n",
       "      run_inline_js();\n",
       "    } else {\n",
       "      load_libs(js_urls, function() {\n",
       "        console.log(\"Bokeh: BokehJS plotting callback run at\", now());\n",
       "        run_inline_js();\n",
       "      });\n",
       "    }\n",
       "  }(this));\n",
       "</script>"
      ]
     },
     "metadata": {},
     "output_type": "display_data"
    }
   ],
   "source": [
    "output_notebook()\n",
    "p = figure(width=1000, height=500)\n",
    "p=corr('length_review','sentiment_review','navy')\n",
    "p=corr('length_review','sentiment_summary','red')\n",
    "show(p)"
   ]
  },
  {
   "cell_type": "code",
   "execution_count": 71,
   "metadata": {
    "scrolled": false
   },
   "outputs": [
    {
     "data": {
      "image/png": "[encoded data removed]",
      "text/plain": [
       "<matplotlib.figure.Figure at 0x10da472e8>"
      ]
     },
     "metadata": {},
     "output_type": "display_data"
    }
   ],
   "source": [
    "plt.figure(figsize=(20,5))\n",
    "plt.subplot(1,3,1)\n",
    "w= np.ones_like(df.sentiment_review)/float(len(df.sentiment_review))\n",
    "plt.hist(df.sentiment_review,weights=w)\n",
    "plt.title('sentiment review')\n",
    "plt.grid()\n",
    "plt.subplot(1,3,2)\n",
    "w= np.ones_like(df.overall)/float(len(df.overall))\n",
    "plt.hist(df.overall,weights=w)\n",
    "plt.title('overall score')\n",
    "plt.grid()\n",
    "plt.subplot(1,3,3)\n",
    "w= np.ones_like(df.sentiment_summary)/float(len(df.sentiment_summary))\n",
    "plt.hist(df.sentiment_summary,weights=w)\n",
    "plt.title('sentiment review')\n",
    "plt.grid()"
   ]
  },
  {
   "cell_type": "code",
   "execution_count": null,
   "metadata": {},
   "outputs": [],
   "source": []
  },
  {
   "cell_type": "code",
   "execution_count": 92,
   "metadata": {},
   "outputs": [],
   "source": [
    "score=df.groupby('overall').mean()"
   ]
  },
  {
   "cell_type": "code",
   "execution_count": 93,
   "metadata": {
    "scrolled": false
   },
   "outputs": [
    {
     "data": {
      "text/plain": [
       "Text(0.5,1,'length of the review')"
      ]
     },
     "execution_count": 93,
     "metadata": {},
     "output_type": "execute_result"
    },
    {
     "data": {
      "image/png": "[encoded data removed]",
      "text/plain": [
       "<matplotlib.figure.Figure at 0x1186bb5c0>"
      ]
     },
     "metadata": {},
     "output_type": "display_data"
    }
   ],
   "source": [
    "plt.figure(figsize=(15,15))\n",
    "plt.subplot(2,2,1)\n",
    "score['sentiment_review'].plot.bar()\n",
    "plt.axhline(y=0, xmin=0, xmax=1, hold=None)\n",
    "plt.title('sentiment of the review')\n",
    "plt.subplot(2,2,2)\n",
    "score['sentiment_summary'].plot.bar()\n",
    "plt.axhline(y=0, xmin=0, xmax=1, hold=None)\n",
    "plt.title('sentiment of the summary')\n",
    "plt.subplot(2,2,3)\n",
    "score['helpfulness'].plot.bar()\n",
    "plt.axhline(y=0, xmin=0, xmax=1, hold=None)\n",
    "plt.title('helpfulness of the review')\n",
    "plt.subplot(2,2,4)\n",
    "score['length_review'].plot.bar()\n",
    "plt.axhline(y=0, xmin=0, xmax=1, hold=None)\n",
    "plt.title('length of the review')"
   ]
  },
  {
   "cell_type": "code",
   "execution_count": 94,
   "metadata": {},
   "outputs": [
    {
     "data": {
      "text/plain": [
       "Text(0.5,1,'price of the product')"
      ]
     },
     "execution_count": 94,
     "metadata": {},
     "output_type": "execute_result"
    },
    {
     "data": {
      "image/png": "[encoded data removed]",
      "text/plain": [
       "<matplotlib.figure.Figure at 0x1561fe518>"
      ]
     },
     "metadata": {},
     "output_type": "display_data"
    }
   ],
   "source": [
    "score['price'].plot.bar()\n",
    "plt.axhline(y=0, xmin=0, xmax=1, hold=None)\n",
    "plt.title('price of the product')"
   ]
  },
  {
   "cell_type": "code",
   "execution_count": null,
   "metadata": {
    "collapsed": true
   },
   "outputs": [],
   "source": []
  },
  {
   "cell_type": "code",
   "execution_count": null,
   "metadata": {
    "collapsed": true
   },
   "outputs": [],
   "source": []
  }
 ],
 "metadata": {
  "kernelspec": {
   "display_name": "Python 3",
   "language": "python",
   "name": "python3"
  },
  "language_info": {
   "codemirror_mode": {
    "name": "ipython",
    "version": 3
   },
   "file_extension": ".py",
   "mimetype": "text/x-python",
   "name": "python",
   "nbconvert_exporter": "python",
   "pygments_lexer": "ipython3",
   "version": "3.6.1"
  }
 },
 "nbformat": 4,
 "nbformat_minor": 2
}
