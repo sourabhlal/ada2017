{
 "cells": [
  {
   "cell_type": "markdown",
   "metadata": {},
   "source": [
    "# Homework 02"
   ]
  },
  {
   "cell_type": "markdown",
   "metadata": {},
   "source": [
    "Importing all the required libraries to complete the assignment"
   ]
  },
  {
   "cell_type": "code",
   "execution_count": 2,
   "metadata": {
    "collapsed": true
   },
   "outputs": [],
   "source": [
    "# Import libraries\n",
    "import pandas as pd\n",
    "import numpy as np\n",
    "import requests\n",
    "from bs4 import BeautifulSoup"
   ]
  },
  {
   "cell_type": "markdown",
   "metadata": {},
   "source": [
    "### Task 1:\n",
    "Obtain the 200 top-ranking universities in www.topuniversities.com ([ranking 2018](https://www.topuniversities.com/university-rankings/world-university-rankings/2018)).\n",
    "\n",
    "In particular, extract the following fields for each university: name, rank, country and region, number of faculty members (international and total) and number of students (international and total).\n",
    "\n",
    "Store the resulting dataset in a pandas DataFrame and answer the following questions:\n",
    "- Which are the best universities in term of: (a) ratio between faculty members and students, (b) ratio of international students?\n",
    "- Answer the previous question aggregating the data by (c) country and (d) region."
   ]
  },
  {
   "cell_type": "markdown",
   "metadata": {},
   "source": [
    "In order to extract this information, we first examined the webpage using Postman Interceptor. We discovered that the data is not found in the html, rather it is imported from a [json file](https://www.topuniversities.com/sites/default/files/qs-rankings-data/357051.txt?_=1508627223168) requested from the server.\n",
    "\n",
    "So we make a request for this same file, and import the data from the json to a dataframe.\n",
    "\n",
    "Since the data is sorted, we trim the dataframe to have only the top 200 results. Thus we have the Name, Rank, Country and Region for each of these universities. We drop the columns we do not require.\n",
    "\n",
    "In order to get the remaining data, we keep the url column for now."
   ]
  },
  {
   "cell_type": "code",
   "execution_count": 101,
   "metadata": {},
   "outputs": [
    {
     "data": {
      "text/html": [
       "<div>\n",
       "<style>\n",
       "    .dataframe thead tr:only-child th {\n",
       "        text-align: right;\n",
       "    }\n",
       "\n",
       "    .dataframe thead th {\n",
       "        text-align: left;\n",
       "    }\n",
       "\n",
       "    .dataframe tbody tr th {\n",
       "        vertical-align: top;\n",
       "    }\n",
       "</style>\n",
       "<table border=\"1\" class=\"dataframe\">\n",
       "  <thead>\n",
       "    <tr style=\"text-align: right;\">\n",
       "      <th></th>\n",
       "      <th>country</th>\n",
       "      <th>rank_display</th>\n",
       "      <th>region</th>\n",
       "      <th>title</th>\n",
       "      <th>url</th>\n",
       "    </tr>\n",
       "  </thead>\n",
       "  <tbody>\n",
       "    <tr>\n",
       "      <th>0</th>\n",
       "      <td>United States</td>\n",
       "      <td>1</td>\n",
       "      <td>North America</td>\n",
       "      <td>Massachusetts Institute of Technology (MIT)</td>\n",
       "      <td>/universities/massachusetts-institute-technolo...</td>\n",
       "    </tr>\n",
       "    <tr>\n",
       "      <th>1</th>\n",
       "      <td>United States</td>\n",
       "      <td>2</td>\n",
       "      <td>North America</td>\n",
       "      <td>Stanford University</td>\n",
       "      <td>/universities/stanford-university</td>\n",
       "    </tr>\n",
       "    <tr>\n",
       "      <th>2</th>\n",
       "      <td>United States</td>\n",
       "      <td>3</td>\n",
       "      <td>North America</td>\n",
       "      <td>Harvard University</td>\n",
       "      <td>/universities/harvard-university</td>\n",
       "    </tr>\n",
       "    <tr>\n",
       "      <th>3</th>\n",
       "      <td>United States</td>\n",
       "      <td>4</td>\n",
       "      <td>North America</td>\n",
       "      <td>California Institute of Technology (Caltech)</td>\n",
       "      <td>/universities/california-institute-technology-...</td>\n",
       "    </tr>\n",
       "    <tr>\n",
       "      <th>4</th>\n",
       "      <td>United Kingdom</td>\n",
       "      <td>5</td>\n",
       "      <td>Europe</td>\n",
       "      <td>University of Cambridge</td>\n",
       "      <td>/universities/university-cambridge</td>\n",
       "    </tr>\n",
       "  </tbody>\n",
       "</table>\n",
       "</div>"
      ],
      "text/plain": [
       "          country rank_display         region  \\\n",
       "0   United States            1  North America   \n",
       "1   United States            2  North America   \n",
       "2   United States            3  North America   \n",
       "3   United States            4  North America   \n",
       "4  United Kingdom            5         Europe   \n",
       "\n",
       "                                          title  \\\n",
       "0   Massachusetts Institute of Technology (MIT)   \n",
       "1                           Stanford University   \n",
       "2                            Harvard University   \n",
       "3  California Institute of Technology (Caltech)   \n",
       "4                       University of Cambridge   \n",
       "\n",
       "                                                 url  \n",
       "0  /universities/massachusetts-institute-technolo...  \n",
       "1                  /universities/stanford-university  \n",
       "2                   /universities/harvard-university  \n",
       "3  /universities/california-institute-technology-...  \n",
       "4                 /universities/university-cambridge  "
      ]
     },
     "execution_count": 101,
     "metadata": {},
     "output_type": "execute_result"
    }
   ],
   "source": [
    "#import topuni data\n",
    "topuni_url = 'https://www.topuniversities.com/sites/default/files/qs-rankings-data/357051.txt?_=1508627223168'\n",
    "request = requests.get(topuni_url)\n",
    "topuni_data = request.json()['data']\n",
    "\n",
    "#add data to dataframe\n",
    "topuni_df = pd.io.json.json_normalize(topuni_data)\n",
    "\n",
    "#trim data frame to top 200 universities\n",
    "topuni_df = topuni_df.head(200)\n",
    "\n",
    "#drop columns that we don't need\n",
    "topuni_df = topuni_df.drop([\"cc\", \"core_id\",\"logo\",\"guide\",\"nid\",\"score\",\"stars\"],axis=1)\n",
    "\n",
    "topuni_df.head()"
   ]
  },
  {
   "cell_type": "markdown",
   "metadata": {},
   "source": [
    "Now we defined the `get_university_data()` function. This function takes the university url, and returns the data on student numbers (total and international) and faculty numbers (total and international).\n",
    "\n",
    "To do so it uses the BeautifulSoup library."
   ]
  },
  {
   "cell_type": "code",
   "execution_count": 102,
   "metadata": {},
   "outputs": [
    {
     "data": {
      "text/plain": [
       "(15878, 3611, 4285, 2042)"
      ]
     },
     "execution_count": 102,
     "metadata": {},
     "output_type": "execute_result"
    }
   ],
   "source": [
    "#cleans the result, and returns an int.\n",
    "def result2int(result):\n",
    "    return int(result.replace('\\n','').replace(' ','').replace(',',''))\n",
    "\n",
    "#searches the soup for the class we are looking for, and once found returns the relevant data. If not found, returns NaN.\n",
    "def search_uni_soup(soup, class_name):\n",
    "    try:\n",
    "        search_lv1 = soup.find('div',class_=class_name)\n",
    "        search_lv2 = search_lv1.find('div',class_='number').text\n",
    "        return result2int(search_lv2)\n",
    "    except:\n",
    "        return np.nan\n",
    "\n",
    "def get_university_data(uni_url):\n",
    "    req = requests.get('https://www.topuniversities.com'+uni_url)\n",
    "    page_body = req.text\n",
    "    soup = BeautifulSoup(page_body, 'html.parser')\n",
    "    total_student = search_uni_soup(soup, 'total student')\n",
    "    inter_student = search_uni_soup(soup, 'total inter')\n",
    "    total_faculty = search_uni_soup(soup, 'total faculty')\n",
    "    inter_faculty = search_uni_soup(soup, 'inter faculty')\n",
    "    return total_student, inter_student, total_faculty, inter_faculty\n",
    "\n",
    "#testing to see if get_university function is working\n",
    "get_university_data('/universities/stanford-university')"
   ]
  },
  {
   "cell_type": "markdown",
   "metadata": {},
   "source": [
    "Next we decided to go through the results to see if we were having any errors. The code crashed on New York University, so we went back to the function and handled numbers not found as NaN. After this we parsed through all the results and saw that New York University and Indian Institute of Science Bangalore were the only 2 rows that had NaNs. We will have to handle these special cases."
   ]
  },
  {
   "cell_type": "code",
   "execution_count": 103,
   "metadata": {
    "scrolled": true
   },
   "outputs": [
    {
     "name": "stdout",
     "output_type": "stream",
     "text": [
      "(11067, 3717, 2982, 1679) /universities/massachusetts-institute-technology-mit\n",
      "(15878, 3611, 4285, 2042) /universities/stanford-university\n",
      "(22429, 5266, 4350, 1311) /universities/harvard-university\n",
      "(2255, 647, 953, 350) /universities/california-institute-technology-caltech\n",
      "(18770, 6699, 5490, 2278) /universities/university-cambridge\n",
      "(19720, 7353, 6750, 2964) /universities/university-oxford\n",
      "(31080, 14854, 6345, 2554) /universities/ucl-university-college-london\n",
      "(16090, 8746, 3930, 2071) /universities/imperial-college-london\n",
      "(13557, 3379, 2449, 635) /universities/university-chicago\n",
      "(19815, 7563, 2477, 1886) /universities/eth-zurich-swiss-federal-institute-technology\n",
      "(25738, 7251, 4338, 2993) /universities/nanyang-technological-university-singapore-ntu\n",
      "(10343, 5896, 1695, 1300) /universities/ecole-polytechnique-f%C3%A9d%C3%A9rale-de-lausanne-epfl\n",
      "(8069, 1793, 1007, 246) /universities/princeton-university\n",
      "(21904, 5411, 2718, 970) /universities/cornell-university\n",
      "(32728, 8917, 5106, 3086) /universities/national-university-singapore-nus\n",
      "(12402, 2469, 4940, 1708) /universities/yale-university\n",
      "(16146, 4105, 4462, 1061) /universities/johns-hopkins-university\n",
      "(25045, 8105, 6189, 913) /universities/columbia-university\n",
      "(20639, 4250, 5499, 1383) /universities/university-pennsylvania\n",
      "(14442, 5551, 1600, 927) /universities/australian-national-university\n",
      "(43147, 7527, 6809, 1920) /universities/university-michigan\n",
      "(15320, 2864, 2938, 226) /universities/duke-university\n",
      "(28040, 10551, 4075, 1553) /universities/university-edinburgh\n",
      "(23780, 9451, 3650, 1513) /universities/kings-college-london\n",
      "(36300, 4072, 5506, 932) /universities/tsinghua-university\n",
      "(20214, 8230, 3012, 2085) /universities/university-hong-kong\n",
      "(36703, 6086, 3321, 1395) /universities/university-california-berkeley-ucb\n",
      "(27279, 2639, 4514, 254) /universities/university-tokyo\n",
      "(18675, 3422, 4231, 1141) /universities/northwestern-university\n",
      "(10375, 2921, 1150, 835) /universities/hong-kong-university-science-technology\n",
      "(72207, 21910, 9581, 3905) /universities/university-toronto\n",
      "(28837, 9540, 3646, 1220) /universities/mcgill-university\n",
      "(40114, 6887, 2859, 662) /universities/university-california-los-angeles-ucla\n",
      "(36670, 13514, 4910, 1653) /universities/university-manchester\n",
      "(9760, 6748, 1088, 687) /universities/london-school-economics-political-science-lse\n",
      "(22974, 1990, 4060, 293) /universities/kyoto-university\n",
      "(28064, 2331, 3930, 433) /universities/seoul-national-university\n",
      "(42136, 7090, 5185, 1038) /universities/peking-university\n",
      "(32237, 6644, 3694, 870) /universities/university-california-san-diego-ucsd\n",
      "(29135, 4680, 4037, 1178) /universities/fudan-university\n",
      "(9826, 584, 1250, 147) /universities/kaist-korea-advanced-institute-science-technology\n",
      "(42182, 18030, 3311, 1477) /universities/university-melbourne\n",
      "(1907, 374, 178, 75) /universities/ecole-normale-sup%C3%A9rieure-paris\n",
      "(20630, 5099, 2870, 942) /universities/university-bristol\n",
      "(39784, 14292, 2924, 1612) /universities/university-new-south-wales-unsw-sydney\n",
      "(18037, 4824, 2208, 1074) /universities/chinese-university-hong-kong-cuhk\n",
      "(37497, 10420, 3158, 1870) /universities/university-queensland\n",
      "(13356, 6385, 1342, 425) /universities/carnegie-mellon-university\n",
      "(9240, 3273, 1349, 1027) /universities/city-university-hong-kong\n",
      "(46678, 17030, 3360, 1829) /universities/university-sydney\n",
      "(50350, 11388, 4648, 1635) /universities/university-british-columbia\n",
      "(nan, nan, nan, nan) /universities/new-york-university-nyu\n",
      "(9251, 1825, 1303, 379) /universities/brown-university\n",
      "(16527, 4634, 1669, 701) /universities/delft-university-technology\n",
      "(38985, 4920, 5722, 1151) /universities/university-wisconsin-madison\n",
      "(9832, 1071, 1563, 191) /universities/tokyo-institute-technology\n",
      "(19855, 7703, 2093, 890) /universities/university-warwick\n",
      "(25967, 3785, 2600, 707) /universities/university-amsterdam\n",
      "(3126, 924, 649, 259) /universities/ecole-polytechnique\n",
      "(57433, 20578, 3204, 1679) /universities/monash-university\n",
      "(56973, 8373, 2484, 550) /universities/university-washington\n",
      "(38931, 2858, 3544, 887) /universities/shanghai-jiao-tong-university\n",
      "(22760, 2106, 2814, 296) /universities/osaka-university\n",
      "(38726, 6181, 5850, 1174) /universities/technical-university-munich\n",
      "(23815, 8149, 2775, 956) /universities/university-glasgow\n",
      "(35055, 5084, 3274, 674) /universities/ludwig-maximilians-universit%C3%A4t-m%C3%BCnchen\n",
      "(47995, 4744, 2833, 108) /universities/university-texas-austin\n",
      "(28852, 5298, 3908, 756) /universities/ruprecht-karls-universit%C3%A4t-heidelberg\n",
      "(42427, 9483, 2554, 259) /universities/university-illinois-urbana-champaign\n",
      "(21082, 4761, 1133, 75) /universities/georgia-institute-technology\n",
      "(3117, 126, 664, 113) /universities/pohang-university-science-technology-postech\n",
      "(45538, 6926, 2515, 784) /universities/ku-leuven\n",
      "(32119, 3683, 7483, 2336) /universities/university-copenhagen\n",
      "(26065, 5036, 4997, 2617) /universities/university-zurich\n",
      "(122301, 27109, 16421, 3165) /universities/universidad-de-buenos-aires-uba\n",
      "(17827, 1604, 3411, 264) /universities/tohoku-university\n",
      "(32195, 3152, 2807, 220) /universities/national-taiwan-university-ntu\n",
      "(16745, 4690, 1539, 586) /universities/durham-university\n",
      "(27786, 6408, 3031, 1002) /universities/lund-university\n",
      "(25373, 1934, 4083, 524) /universities/university-north-carolina-chapel-hill\n",
      "(25662, 7041, 3157, 379) /universities/boston-university\n",
      "(29641, 8568, 2047, 645) /universities/university-auckland\n",
      "(25430, 8745, 3065, 938) /universities/university-sheffield\n",
      "(28660, 7795, 2962, 1028) /universities/university-birmingham\n",
      "(29165, 7993, 3360, 1135) /universities/university-nottingham\n",
      "(43156, 6874, 5911, 1696) /universities/ohio-state-university\n",
      "(40869, 4625, 4507, 1913) /universities/zhejiang-university\n",
      "(14961, 4311, 1249, 544) /universities/trinity-college-dublin-university-dublin\n",
      "(6610, 1847, 969, 316) /universities/rice-university\n",
      "(25892, 3638, 3745, 339) /universities/korea-university\n",
      "(31765, 8203, 3561, 1294) /universities/university-alberta\n",
      "(8800, 4030, 1140, 485) /universities/university-st-andrews\n",
      "(18531, 4575, 1420, 809) /universities/university-western-australia\n",
      "(45612, 7081, 3509, 211) /universities/pennsylvania-state-university\n",
      "(30233, 5098, 6709, 373) /universities/lomonosov-moscow-state-university\n",
      "(20972, 5251, 2447, 1275) /universities/hong-kong-polytechnic-university\n",
      "(16032, 548, 1992, 155) /universities/university-science-technology-china\n",
      "(15844, 6104, 1752, 1029) /universities/university-geneva\n",
      "(12658, 1937, 1500, 494) /universities/kth-royal-institute-technology\n",
      "(13474, 2706, 2699, 784) /universities/washington-university-st-louis\n",
      "(29645, 7534, 3025, 870) /universities/university-leeds\n",
      "(23775, 7789, 2820, 1017) /universities/university-southampton\n",
      "(22419, 1234, 2645, 535) /universities/university-helsinki\n",
      "(7636, 1275, 801, 322) /universities/eindhoven-university-technology\n",
      "(38143, 8787, 3247, 1334) /universities/purdue-university\n",
      "(25903, 3379, 3621, 290) /universities/yonsei-university\n",
      "(26081, 4809, 1827, 410) /universities/kit-karlsruhe-institute-technology\n",
      "(23921, 2818, 3556, 324) /universities/sungkyunkwan-university-skku\n",
      "(31754, 2771, 3067, 653) /universities/utrecht-university\n",
      "(26513, 3488, 2324, 581) /universities/leiden-university\n",
      "(21240, 8114, 1729, 633) /universities/university-adelaide\n",
      "(25371, 5198, 2567, 584) /universities/uppsala-university\n",
      "(27549, 10780, 3351, 1137) /universities/university-groningen\n",
      "(17902, 3476, 2755, 655) /universities/universiti-malaya-um\n",
      "(32495, 2960, 2449, 617) /universities/nanjing-university\n",
      "(15838, 1547, 2665, 206) /universities/nagoya-university\n",
      "(8878, 2098, 2117, 966) /universities/technical-university-denmark\n",
      "(34244, 4529, 3843, 549) /universities/university-california-davis\n",
      "(26226, 3762, 2316, 602) /universities/aarhus-university\n",
      "(33198, 4805, 1966, 407) /universities/humboldt-universit%C3%A4t-zu-berlin\n",
      "(65711, 2086, 5582, 279) /universities/universidade-de-s%C3%A3o-paulo\n",
      "(141939, 2173, 15073, 949) /universities/universidad-nacional-aut%C3%B3noma-de-m%C3%A9xico-unam\n",
      "(17552, 1347, 2605, 210) /universities/hokkaido-university\n",
      "(12695, 3613, 2277, 323) /universities/wageningen-university\n",
      "(32912, 5735, 1375, 305) /universities/freie-universitaet-berlin\n",
      "(35968, 3766, 2520, 482) /universities/ghent-university\n"
     ]
    },
    {
     "name": "stdout",
     "output_type": "stream",
     "text": [
      "(16135, 6806, 1885, 801) /universities/queen-mary-university-london\n",
      "(18660, 1787, 2858, 246) /universities/kyushu-university\n",
      "(35504, 4683, 3920, 473) /universities/university-maryland-college-park\n",
      "(39112, 9688, 2961, 1037) /universities/universite-de-montreal\n",
      "(24305, 4213, 2273, 253) /universities/universit%C3%A9-pierre-et-marie-curie-upmc\n",
      "(38749, 9170, 3124, 551) /universities/university-southern-california\n",
      "(9257, 1465, 1077, 336) /universities/chalmers-university-technology\n",
      "(23149, 2128, 1449, 267) /universities/university-california-santa-barbara-ucsb\n",
      "(12300, 4464, 1245, 435) /universities/lancaster-university\n",
      "(15999, 3364, 1833, 636) /universities/university-york\n",
      "(24565, 6090, 2755, 705) /universities/cardiff-university\n",
      "(27003, 991, 2260, 198) /universities/pontificia-universidad-cat%C3%B3lica-de-chile-uc\n",
      "(12147, 1831, 1257, 370) /universities/aalto-university\n",
      "(23702, 3548, 3231, 1170) /universities/mcmaster-university\n",
      "(44517, 8556, 3176, 449) /universities/rwth-aachen-university\n",
      "(26393, 2937, 4982, 572) /universities/university-pittsburgh\n",
      "(24304, 3667, 2509, 711) /universities/university-oslo\n",
      "(22176, 4494, 2562, 377) /universities/technische-universit%C3%A4t-berlin-tu-berlin\n",
      "(16531, 1034, 2249, 454) /universities/hebrew-university-jerusalem\n",
      "(13435, 3337, 2173, 1031) /universities/university-lausanne\n",
      "(23273, 5229, 2011, 458) /universities/erasmus-university-rotterdam\n",
      "(12852, 2154, 2560, 484) /universities/emory-university\n",
      "(12852, 3441, 1057, 684) /universities/university-basel\n",
      "(44951, 7427, 2884, 653) /universities/michigan-state-university\n",
      "(18532, 3871, 1266, 759) /universities/university-otago\n",
      "(35541, 8962, 1689, 473) /universities/university-waterloo\n",
      "(24277, 4468, 1219, 406) /universities/universit%C3%A9-catholique-de-louvain-ucl\n",
      "(45967, 14468, 3411, 1400) /universities/university-vienna\n",
      "(23348, 3397, 3085, 364) /universities/hanyang-university\n",
      "(46002, 6134, 3863, 108) /universities/universitat-de-barcelona\n",
      "(2020, 221, 382, 91) /universities/%C3%A9cole-normale-sup%C3%A9rieure-de-lyon\n",
      "(12005, 4246, 1310, 508) /universities/university-aberdeen\n",
      "(20749, 5504, 1756, 597) /universities/university-exeter\n",
      "(14370, 4213, 1165, 440) /universities/university-bath\n",
      "(21673, 5717, 2428, 835) /universities/newcastle-university\n",
      "(13890, 1187, 1020, 119) /universities/national-tsing-hua-university\n",
      "(59742, 6542, 4919, 195) /universities/university-minnesota\n",
      "(10671, 767, 1513, 484) /universities/university-bergen\n",
      "(32151, 8538, 1926, 377) /universities/university-california-irvine\n",
      "(27366, 3860, 3844, 796) /universities/eberhard-karls-universit%C3%A4t-t%C3%BCbingen\n",
      "(10758, 1618, 1172, 661) /universities/university-bern\n",
      "(19833, 3876, 1604, 627) /universities/university-college-dublin\n",
      "(6224, 945, 939, 27) /universities/dartmouth-college\n",
      "(36277, 5593, 1500, 231) /universities/politecnico-di-milano\n",
      "(23214, 3897, 1966, 413) /universities/albert-ludwigs-universitaet-freiburg\n",
      "(7477, 80, 466, 4) /universities/indian-institute-technology-delhi-iitd\n",
      "(6040, 989, 1062, 665) /universities/king-fahd-university-petroleum-minerals\n",
      "(22065, 7502, 2390, 717) /universities/university-liverpool\n",
      "(21560, 1899, 2509, 487) /universities/university-virginia\n",
      "(24207, 7769, 1328, 546) /universities/university-technology-sydney\n",
      "(3877, 1132, 529, 137) /universities/centralesup%C3%A9lec\n",
      "(45485, 4597, 5419, 504) /universities/university-florida\n",
      "(9402, 93, 876, 19) /universities/indian-institute-technology-bombay-iitb\n",
      "(9332, 2235, 910, 299) /universities/university-twente\n",
      "(30402, 3736, 3678, 641) /universities/university-g%C3%B6ttingen\n",
      "(9284, 1853, 1792, 515) /universities/vrije-universiteit-brussel-vub\n",
      "(26572, 966, 1968, 109) /universities/universidade-estadual-de-campinas-unicamp\n",
      "(30219, 2679, 3685, 566) /universities/university-colorado-boulder\n",
      "(17479, 5199, 706, 172) /universities/vienna-university-technology\n",
      "(9636, 2805, 2569, 488) /universities/university-rochester\n",
      "(26511, 2976, 2738, 181) /universities/universidad-aut%C3%B3noma-de-madrid\n",
      "(63399, 4195, 2990, 153) /universities/alma-mater-studiorum-university-bologna\n",
      "(13330, 4077, 1280, 422) /universities/university-reading\n",
      "(4071, 47, 423, nan) /universities/indian-institute-science-iisc-bangalore\n",
      "(19593, 3325, 1733, 379) /universities/university-cape-town\n",
      "(532, 48, 86, 1) /universities/scuola-normale-superiore-di-pisa\n",
      "(789, 135, 119, 1) /universities/scuola-superiore-santanna-pisa-di-studi-universitari-e-di-perfezionamento\n",
      "(33500, 2178, 3905, 261) /universities/keio-university-cems-mim\n",
      "(28281, 2636, 2154, 646) /universities/stockholm-university\n",
      "(31986, 3848, 2187, 230) /universities/universitat-aut%C3%B2noma-de-barcelona\n",
      "(60294, 4900, 3446, 206) /universities/texas-am-university\n",
      "(13376, 1412, 1822, 821) /universities/instituto-tecnol%C3%B3gico-y-de-estudios-superiores-de-monterrey\n",
      "(16385, 8234, 1277, 502) /universities/maastricht-university\n",
      "(38848, 2134, 2256, 127) /universities/universidad-de-chile\n"
     ]
    }
   ],
   "source": [
    "#add uni data to the data frame\n",
    "for index, url in enumerate(topuni_df['url']):\n",
    "    print(get_university_data(url), url)\n",
    "\n",
    "#results show error on New York University and Indian Institute of Science Bangalore. Need to handle these NaNs."
   ]
  },
  {
   "cell_type": "markdown",
   "metadata": {},
   "source": [
    "Now that we know our functions are working we add the new columns to our dataframe."
   ]
  },
  {
   "cell_type": "code",
   "execution_count": 104,
   "metadata": {
    "collapsed": true
   },
   "outputs": [],
   "source": [
    "#adding columns for total students and international students\n",
    "topuni_df[\"Total Students\"] = topuni_df['url'].map(lambda x : get_university_data(x)[0])\n",
    "topuni_df[\"International Students\"] = topuni_df['url'].map(lambda x : get_university_data(x)[1])"
   ]
  },
  {
   "cell_type": "code",
   "execution_count": 105,
   "metadata": {
    "collapsed": true
   },
   "outputs": [],
   "source": [
    "#adding columns for total faculty and international faculty\n",
    "topuni_df[\"Total Faculty\"] = topuni_df['url'].map(lambda x : get_university_data(x)[2])\n",
    "topuni_df[\"International Faculty\"] = topuni_df['url'].map(lambda x : get_university_data(x)[3])"
   ]
  },
  {
   "cell_type": "markdown",
   "metadata": {},
   "source": [
    "We can now drop the url column"
   ]
  },
  {
   "cell_type": "code",
   "execution_count": 106,
   "metadata": {},
   "outputs": [
    {
     "data": {
      "text/html": [
       "<div>\n",
       "<style>\n",
       "    .dataframe thead tr:only-child th {\n",
       "        text-align: right;\n",
       "    }\n",
       "\n",
       "    .dataframe thead th {\n",
       "        text-align: left;\n",
       "    }\n",
       "\n",
       "    .dataframe tbody tr th {\n",
       "        vertical-align: top;\n",
       "    }\n",
       "</style>\n",
       "<table border=\"1\" class=\"dataframe\">\n",
       "  <thead>\n",
       "    <tr style=\"text-align: right;\">\n",
       "      <th></th>\n",
       "      <th>country</th>\n",
       "      <th>rank_display</th>\n",
       "      <th>region</th>\n",
       "      <th>title</th>\n",
       "      <th>Total Students</th>\n",
       "      <th>International Students</th>\n",
       "      <th>Total Faculty</th>\n",
       "      <th>International Faculty</th>\n",
       "    </tr>\n",
       "  </thead>\n",
       "  <tbody>\n",
       "    <tr>\n",
       "      <th>0</th>\n",
       "      <td>United States</td>\n",
       "      <td>1</td>\n",
       "      <td>North America</td>\n",
       "      <td>Massachusetts Institute of Technology (MIT)</td>\n",
       "      <td>11067.0</td>\n",
       "      <td>3717.0</td>\n",
       "      <td>2982.0</td>\n",
       "      <td>1679.0</td>\n",
       "    </tr>\n",
       "    <tr>\n",
       "      <th>1</th>\n",
       "      <td>United States</td>\n",
       "      <td>2</td>\n",
       "      <td>North America</td>\n",
       "      <td>Stanford University</td>\n",
       "      <td>15878.0</td>\n",
       "      <td>3611.0</td>\n",
       "      <td>4285.0</td>\n",
       "      <td>2042.0</td>\n",
       "    </tr>\n",
       "    <tr>\n",
       "      <th>2</th>\n",
       "      <td>United States</td>\n",
       "      <td>3</td>\n",
       "      <td>North America</td>\n",
       "      <td>Harvard University</td>\n",
       "      <td>22429.0</td>\n",
       "      <td>5266.0</td>\n",
       "      <td>4350.0</td>\n",
       "      <td>1311.0</td>\n",
       "    </tr>\n",
       "    <tr>\n",
       "      <th>3</th>\n",
       "      <td>United States</td>\n",
       "      <td>4</td>\n",
       "      <td>North America</td>\n",
       "      <td>California Institute of Technology (Caltech)</td>\n",
       "      <td>2255.0</td>\n",
       "      <td>647.0</td>\n",
       "      <td>953.0</td>\n",
       "      <td>350.0</td>\n",
       "    </tr>\n",
       "    <tr>\n",
       "      <th>4</th>\n",
       "      <td>United Kingdom</td>\n",
       "      <td>5</td>\n",
       "      <td>Europe</td>\n",
       "      <td>University of Cambridge</td>\n",
       "      <td>18770.0</td>\n",
       "      <td>6699.0</td>\n",
       "      <td>5490.0</td>\n",
       "      <td>2278.0</td>\n",
       "    </tr>\n",
       "  </tbody>\n",
       "</table>\n",
       "</div>"
      ],
      "text/plain": [
       "          country rank_display         region  \\\n",
       "0   United States            1  North America   \n",
       "1   United States            2  North America   \n",
       "2   United States            3  North America   \n",
       "3   United States            4  North America   \n",
       "4  United Kingdom            5         Europe   \n",
       "\n",
       "                                          title  Total Students  \\\n",
       "0   Massachusetts Institute of Technology (MIT)         11067.0   \n",
       "1                           Stanford University         15878.0   \n",
       "2                            Harvard University         22429.0   \n",
       "3  California Institute of Technology (Caltech)          2255.0   \n",
       "4                       University of Cambridge         18770.0   \n",
       "\n",
       "   International Students  Total Faculty  International Faculty  \n",
       "0                  3717.0         2982.0                 1679.0  \n",
       "1                  3611.0         4285.0                 2042.0  \n",
       "2                  5266.0         4350.0                 1311.0  \n",
       "3                   647.0          953.0                  350.0  \n",
       "4                  6699.0         5490.0                 2278.0  "
      ]
     },
     "execution_count": 106,
     "metadata": {},
     "output_type": "execute_result"
    }
   ],
   "source": [
    "#drop columns that we don't need\n",
    "topuni_df = topuni_df.drop([\"url\"],axis=1)\n",
    "topuni_df.head()"
   ]
  },
  {
   "cell_type": "markdown",
   "metadata": {},
   "source": [
    "Now that we have our data we can solve the questions.\n",
    "#### a) Which are the best universities in terms of the ratio between faculty and staff?\n",
    "To answer this question we will add a new column which computes this ratio, and sort our dataframe by this value. We assume that the higher the ratio, the better the university is. (1 faculty : 5 students is better than 1 faculty : 10 students)"
   ]
  },
  {
   "cell_type": "code",
   "execution_count": 107,
   "metadata": {},
   "outputs": [
    {
     "data": {
      "text/html": [
       "<div>\n",
       "<style>\n",
       "    .dataframe thead tr:only-child th {\n",
       "        text-align: right;\n",
       "    }\n",
       "\n",
       "    .dataframe thead th {\n",
       "        text-align: left;\n",
       "    }\n",
       "\n",
       "    .dataframe tbody tr th {\n",
       "        vertical-align: top;\n",
       "    }\n",
       "</style>\n",
       "<table border=\"1\" class=\"dataframe\">\n",
       "  <thead>\n",
       "    <tr style=\"text-align: right;\">\n",
       "      <th></th>\n",
       "      <th>country</th>\n",
       "      <th>rank_display</th>\n",
       "      <th>region</th>\n",
       "      <th>title</th>\n",
       "      <th>Total Students</th>\n",
       "      <th>International Students</th>\n",
       "      <th>Total Faculty</th>\n",
       "      <th>International Faculty</th>\n",
       "      <th>Faculty/Student ratio</th>\n",
       "    </tr>\n",
       "  </thead>\n",
       "  <tbody>\n",
       "    <tr>\n",
       "      <th>3</th>\n",
       "      <td>United States</td>\n",
       "      <td>4</td>\n",
       "      <td>North America</td>\n",
       "      <td>California Institute of Technology (Caltech)</td>\n",
       "      <td>2255.0</td>\n",
       "      <td>647.0</td>\n",
       "      <td>953.0</td>\n",
       "      <td>350.0</td>\n",
       "      <td>0.422616</td>\n",
       "    </tr>\n",
       "    <tr>\n",
       "      <th>15</th>\n",
       "      <td>United States</td>\n",
       "      <td>16</td>\n",
       "      <td>North America</td>\n",
       "      <td>Yale University</td>\n",
       "      <td>12402.0</td>\n",
       "      <td>2469.0</td>\n",
       "      <td>4940.0</td>\n",
       "      <td>1708.0</td>\n",
       "      <td>0.398323</td>\n",
       "    </tr>\n",
       "    <tr>\n",
       "      <th>5</th>\n",
       "      <td>United Kingdom</td>\n",
       "      <td>6</td>\n",
       "      <td>Europe</td>\n",
       "      <td>University of Oxford</td>\n",
       "      <td>19720.0</td>\n",
       "      <td>7353.0</td>\n",
       "      <td>6750.0</td>\n",
       "      <td>2964.0</td>\n",
       "      <td>0.342292</td>\n",
       "    </tr>\n",
       "    <tr>\n",
       "      <th>4</th>\n",
       "      <td>United Kingdom</td>\n",
       "      <td>5</td>\n",
       "      <td>Europe</td>\n",
       "      <td>University of Cambridge</td>\n",
       "      <td>18770.0</td>\n",
       "      <td>6699.0</td>\n",
       "      <td>5490.0</td>\n",
       "      <td>2278.0</td>\n",
       "      <td>0.292488</td>\n",
       "    </tr>\n",
       "    <tr>\n",
       "      <th>16</th>\n",
       "      <td>United States</td>\n",
       "      <td>17</td>\n",
       "      <td>North America</td>\n",
       "      <td>Johns Hopkins University</td>\n",
       "      <td>16146.0</td>\n",
       "      <td>4105.0</td>\n",
       "      <td>4462.0</td>\n",
       "      <td>1061.0</td>\n",
       "      <td>0.276353</td>\n",
       "    </tr>\n",
       "  </tbody>\n",
       "</table>\n",
       "</div>"
      ],
      "text/plain": [
       "           country rank_display         region  \\\n",
       "3    United States            4  North America   \n",
       "15   United States           16  North America   \n",
       "5   United Kingdom            6         Europe   \n",
       "4   United Kingdom            5         Europe   \n",
       "16   United States           17  North America   \n",
       "\n",
       "                                           title  Total Students  \\\n",
       "3   California Institute of Technology (Caltech)          2255.0   \n",
       "15                               Yale University         12402.0   \n",
       "5                           University of Oxford         19720.0   \n",
       "4                        University of Cambridge         18770.0   \n",
       "16                      Johns Hopkins University         16146.0   \n",
       "\n",
       "    International Students  Total Faculty  International Faculty  \\\n",
       "3                    647.0          953.0                  350.0   \n",
       "15                  2469.0         4940.0                 1708.0   \n",
       "5                   7353.0         6750.0                 2964.0   \n",
       "4                   6699.0         5490.0                 2278.0   \n",
       "16                  4105.0         4462.0                 1061.0   \n",
       "\n",
       "    Faculty/Student ratio  \n",
       "3                0.422616  \n",
       "15               0.398323  \n",
       "5                0.342292  \n",
       "4                0.292488  \n",
       "16               0.276353  "
      ]
     },
     "execution_count": 107,
     "metadata": {},
     "output_type": "execute_result"
    }
   ],
   "source": [
    "topuni_df[\"Faculty/Student ratio\"] = topuni_df['Total Faculty']/topuni_df['Total Students']\n",
    "topuni_df.sort_values(\"Faculty/Student ratio\",ascending=False).head()"
   ]
  },
  {
   "cell_type": "markdown",
   "metadata": {},
   "source": [
    "The best university in terms of Faculty:Student ratio is **California Institute of Technology (Caltech)**"
   ]
  },
  {
   "cell_type": "markdown",
   "metadata": {},
   "source": [
    "#### b) Which are the best universities in terms of the ratio of international students\n",
    "To answer this question we will add a new column which computes the ratio between international students and total students, and sort our dataframe by this value. We assume that the higher the ratio, the better the university is. (1 international : 5 total is better than 1 international : 10 total)"
   ]
  },
  {
   "cell_type": "code",
   "execution_count": 108,
   "metadata": {},
   "outputs": [
    {
     "data": {
      "text/html": [
       "<div>\n",
       "<style>\n",
       "    .dataframe thead tr:only-child th {\n",
       "        text-align: right;\n",
       "    }\n",
       "\n",
       "    .dataframe thead th {\n",
       "        text-align: left;\n",
       "    }\n",
       "\n",
       "    .dataframe tbody tr th {\n",
       "        vertical-align: top;\n",
       "    }\n",
       "</style>\n",
       "<table border=\"1\" class=\"dataframe\">\n",
       "  <thead>\n",
       "    <tr style=\"text-align: right;\">\n",
       "      <th></th>\n",
       "      <th>country</th>\n",
       "      <th>rank_display</th>\n",
       "      <th>region</th>\n",
       "      <th>title</th>\n",
       "      <th>Total Students</th>\n",
       "      <th>International Students</th>\n",
       "      <th>Total Faculty</th>\n",
       "      <th>International Faculty</th>\n",
       "      <th>Faculty/Student ratio</th>\n",
       "      <th>Inter/Total student ratio</th>\n",
       "    </tr>\n",
       "  </thead>\n",
       "  <tbody>\n",
       "    <tr>\n",
       "      <th>34</th>\n",
       "      <td>United Kingdom</td>\n",
       "      <td>35</td>\n",
       "      <td>Europe</td>\n",
       "      <td>London School of Economics and Political Scien...</td>\n",
       "      <td>9760.0</td>\n",
       "      <td>6748.0</td>\n",
       "      <td>1088.0</td>\n",
       "      <td>687.0</td>\n",
       "      <td>0.111475</td>\n",
       "      <td>0.691393</td>\n",
       "    </tr>\n",
       "    <tr>\n",
       "      <th>11</th>\n",
       "      <td>Switzerland</td>\n",
       "      <td>12</td>\n",
       "      <td>Europe</td>\n",
       "      <td>Ecole Polytechnique Fédérale de Lausanne (EPFL)</td>\n",
       "      <td>10343.0</td>\n",
       "      <td>5896.0</td>\n",
       "      <td>1695.0</td>\n",
       "      <td>1300.0</td>\n",
       "      <td>0.163879</td>\n",
       "      <td>0.570047</td>\n",
       "    </tr>\n",
       "    <tr>\n",
       "      <th>7</th>\n",
       "      <td>United Kingdom</td>\n",
       "      <td>8</td>\n",
       "      <td>Europe</td>\n",
       "      <td>Imperial College London</td>\n",
       "      <td>16090.0</td>\n",
       "      <td>8746.0</td>\n",
       "      <td>3930.0</td>\n",
       "      <td>2071.0</td>\n",
       "      <td>0.244251</td>\n",
       "      <td>0.543567</td>\n",
       "    </tr>\n",
       "    <tr>\n",
       "      <th>198</th>\n",
       "      <td>Netherlands</td>\n",
       "      <td>200</td>\n",
       "      <td>Europe</td>\n",
       "      <td>Maastricht University</td>\n",
       "      <td>16385.0</td>\n",
       "      <td>8234.0</td>\n",
       "      <td>1277.0</td>\n",
       "      <td>502.0</td>\n",
       "      <td>0.077937</td>\n",
       "      <td>0.502533</td>\n",
       "    </tr>\n",
       "    <tr>\n",
       "      <th>47</th>\n",
       "      <td>United States</td>\n",
       "      <td>=47</td>\n",
       "      <td>North America</td>\n",
       "      <td>Carnegie Mellon University</td>\n",
       "      <td>13356.0</td>\n",
       "      <td>6385.0</td>\n",
       "      <td>1342.0</td>\n",
       "      <td>425.0</td>\n",
       "      <td>0.100479</td>\n",
       "      <td>0.478062</td>\n",
       "    </tr>\n",
       "  </tbody>\n",
       "</table>\n",
       "</div>"
      ],
      "text/plain": [
       "            country rank_display         region  \\\n",
       "34   United Kingdom           35         Europe   \n",
       "11      Switzerland           12         Europe   \n",
       "7    United Kingdom            8         Europe   \n",
       "198     Netherlands          200         Europe   \n",
       "47    United States          =47  North America   \n",
       "\n",
       "                                                 title  Total Students  \\\n",
       "34   London School of Economics and Political Scien...          9760.0   \n",
       "11     Ecole Polytechnique Fédérale de Lausanne (EPFL)         10343.0   \n",
       "7                              Imperial College London         16090.0   \n",
       "198                              Maastricht University         16385.0   \n",
       "47                          Carnegie Mellon University         13356.0   \n",
       "\n",
       "     International Students  Total Faculty  International Faculty  \\\n",
       "34                   6748.0         1088.0                  687.0   \n",
       "11                   5896.0         1695.0                 1300.0   \n",
       "7                    8746.0         3930.0                 2071.0   \n",
       "198                  8234.0         1277.0                  502.0   \n",
       "47                   6385.0         1342.0                  425.0   \n",
       "\n",
       "     Faculty/Student ratio  Inter/Total student ratio  \n",
       "34                0.111475                   0.691393  \n",
       "11                0.163879                   0.570047  \n",
       "7                 0.244251                   0.543567  \n",
       "198               0.077937                   0.502533  \n",
       "47                0.100479                   0.478062  "
      ]
     },
     "execution_count": 108,
     "metadata": {},
     "output_type": "execute_result"
    }
   ],
   "source": [
    "topuni_df[\"Inter/Total student ratio\"] = topuni_df['International Students']/topuni_df['Total Students']\n",
    "topuni_df.sort_values(\"Inter/Total student ratio\",ascending=False).head()"
   ]
  },
  {
   "cell_type": "markdown",
   "metadata": {},
   "source": [
    "The best university in terms of International Student ratio is **London School of Economics and Political Science (LSE)**"
   ]
  },
  {
   "cell_type": "markdown",
   "metadata": {},
   "source": [
    "#### c) Aggregate by country\n",
    "To answer this question we will add aggregate all the values by country, and recalculate the Faculty:Student ratio and International:Total student ratio with the aggregated figures"
   ]
  },
  {
   "cell_type": "code",
   "execution_count": 109,
   "metadata": {
    "collapsed": true
   },
   "outputs": [],
   "source": [
    "topuni_country_df = topuni_df.drop([\"Inter/Total student ratio\", \"Faculty/Student ratio\"],axis=1)\n",
    "topuni_country_df = topuni_country_df.groupby(\"country\",as_index=False).sum()\n",
    "topuni_country_df[\"Faculty/Student ratio\"] = topuni_country_df['Total Faculty']/topuni_country_df['Total Students']\n",
    "topuni_country_df[\"Inter/Total student ratio\"] = topuni_country_df['International Students']/topuni_country_df['Total Students']"
   ]
  },
  {
   "cell_type": "code",
   "execution_count": 110,
   "metadata": {},
   "outputs": [
    {
     "data": {
      "text/html": [
       "<div>\n",
       "<style>\n",
       "    .dataframe thead tr:only-child th {\n",
       "        text-align: right;\n",
       "    }\n",
       "\n",
       "    .dataframe thead th {\n",
       "        text-align: left;\n",
       "    }\n",
       "\n",
       "    .dataframe tbody tr th {\n",
       "        vertical-align: top;\n",
       "    }\n",
       "</style>\n",
       "<table border=\"1\" class=\"dataframe\">\n",
       "  <thead>\n",
       "    <tr style=\"text-align: right;\">\n",
       "      <th></th>\n",
       "      <th>country</th>\n",
       "      <th>Total Students</th>\n",
       "      <th>International Students</th>\n",
       "      <th>Total Faculty</th>\n",
       "      <th>International Faculty</th>\n",
       "      <th>Faculty/Student ratio</th>\n",
       "      <th>Inter/Total student ratio</th>\n",
       "    </tr>\n",
       "  </thead>\n",
       "  <tbody>\n",
       "    <tr>\n",
       "      <th>23</th>\n",
       "      <td>Russia</td>\n",
       "      <td>30233.0</td>\n",
       "      <td>5098.0</td>\n",
       "      <td>6709.0</td>\n",
       "      <td>373.0</td>\n",
       "      <td>0.221910</td>\n",
       "      <td>0.168624</td>\n",
       "    </tr>\n",
       "    <tr>\n",
       "      <th>8</th>\n",
       "      <td>Denmark</td>\n",
       "      <td>67223.0</td>\n",
       "      <td>9543.0</td>\n",
       "      <td>11916.0</td>\n",
       "      <td>3904.0</td>\n",
       "      <td>0.177261</td>\n",
       "      <td>0.141960</td>\n",
       "    </tr>\n",
       "    <tr>\n",
       "      <th>24</th>\n",
       "      <td>Saudi Arabia</td>\n",
       "      <td>6040.0</td>\n",
       "      <td>989.0</td>\n",
       "      <td>1062.0</td>\n",
       "      <td>665.0</td>\n",
       "      <td>0.175828</td>\n",
       "      <td>0.163742</td>\n",
       "    </tr>\n",
       "    <tr>\n",
       "      <th>25</th>\n",
       "      <td>Singapore</td>\n",
       "      <td>58466.0</td>\n",
       "      <td>16168.0</td>\n",
       "      <td>9444.0</td>\n",
       "      <td>6079.0</td>\n",
       "      <td>0.161530</td>\n",
       "      <td>0.276537</td>\n",
       "    </tr>\n",
       "    <tr>\n",
       "      <th>18</th>\n",
       "      <td>Malaysia</td>\n",
       "      <td>17902.0</td>\n",
       "      <td>3476.0</td>\n",
       "      <td>2755.0</td>\n",
       "      <td>655.0</td>\n",
       "      <td>0.153893</td>\n",
       "      <td>0.194168</td>\n",
       "    </tr>\n",
       "  </tbody>\n",
       "</table>\n",
       "</div>"
      ],
      "text/plain": [
       "         country  Total Students  International Students  Total Faculty  \\\n",
       "23        Russia         30233.0                  5098.0         6709.0   \n",
       "8        Denmark         67223.0                  9543.0        11916.0   \n",
       "24  Saudi Arabia          6040.0                   989.0         1062.0   \n",
       "25     Singapore         58466.0                 16168.0         9444.0   \n",
       "18      Malaysia         17902.0                  3476.0         2755.0   \n",
       "\n",
       "    International Faculty  Faculty/Student ratio  Inter/Total student ratio  \n",
       "23                  373.0               0.221910                   0.168624  \n",
       "8                  3904.0               0.177261                   0.141960  \n",
       "24                  665.0               0.175828                   0.163742  \n",
       "25                 6079.0               0.161530                   0.276537  \n",
       "18                  655.0               0.153893                   0.194168  "
      ]
     },
     "execution_count": 110,
     "metadata": {},
     "output_type": "execute_result"
    }
   ],
   "source": [
    "topuni_country_df.sort_values(\"Faculty/Student ratio\",ascending=False).head()"
   ]
  },
  {
   "cell_type": "markdown",
   "metadata": {},
   "source": [
    "The country that is best in terms of Faculty:Student ratio is **Russia**"
   ]
  },
  {
   "cell_type": "code",
   "execution_count": 111,
   "metadata": {},
   "outputs": [
    {
     "data": {
      "text/html": [
       "<div>\n",
       "<style>\n",
       "    .dataframe thead tr:only-child th {\n",
       "        text-align: right;\n",
       "    }\n",
       "\n",
       "    .dataframe thead th {\n",
       "        text-align: left;\n",
       "    }\n",
       "\n",
       "    .dataframe tbody tr th {\n",
       "        vertical-align: top;\n",
       "    }\n",
       "</style>\n",
       "<table border=\"1\" class=\"dataframe\">\n",
       "  <thead>\n",
       "    <tr style=\"text-align: right;\">\n",
       "      <th></th>\n",
       "      <th>country</th>\n",
       "      <th>Total Students</th>\n",
       "      <th>International Students</th>\n",
       "      <th>Total Faculty</th>\n",
       "      <th>International Faculty</th>\n",
       "      <th>Faculty/Student ratio</th>\n",
       "      <th>Inter/Total student ratio</th>\n",
       "    </tr>\n",
       "  </thead>\n",
       "  <tbody>\n",
       "    <tr>\n",
       "      <th>1</th>\n",
       "      <td>Australia</td>\n",
       "      <td>301994.0</td>\n",
       "      <td>106359.0</td>\n",
       "      <td>22034.0</td>\n",
       "      <td>11382.0</td>\n",
       "      <td>0.072962</td>\n",
       "      <td>0.352189</td>\n",
       "    </tr>\n",
       "    <tr>\n",
       "      <th>32</th>\n",
       "      <td>United Kingdom</td>\n",
       "      <td>583621.0</td>\n",
       "      <td>199426.0</td>\n",
       "      <td>79934.0</td>\n",
       "      <td>30216.0</td>\n",
       "      <td>0.136962</td>\n",
       "      <td>0.341705</td>\n",
       "    </tr>\n",
       "    <tr>\n",
       "      <th>12</th>\n",
       "      <td>Hong Kong</td>\n",
       "      <td>78838.0</td>\n",
       "      <td>24499.0</td>\n",
       "      <td>10166.0</td>\n",
       "      <td>6296.0</td>\n",
       "      <td>0.128948</td>\n",
       "      <td>0.310751</td>\n",
       "    </tr>\n",
       "    <tr>\n",
       "      <th>2</th>\n",
       "      <td>Austria</td>\n",
       "      <td>63446.0</td>\n",
       "      <td>19667.0</td>\n",
       "      <td>4117.0</td>\n",
       "      <td>1572.0</td>\n",
       "      <td>0.064890</td>\n",
       "      <td>0.309980</td>\n",
       "    </tr>\n",
       "    <tr>\n",
       "      <th>30</th>\n",
       "      <td>Switzerland</td>\n",
       "      <td>109112.0</td>\n",
       "      <td>32995.0</td>\n",
       "      <td>15323.0</td>\n",
       "      <td>9208.0</td>\n",
       "      <td>0.140434</td>\n",
       "      <td>0.302396</td>\n",
       "    </tr>\n",
       "  </tbody>\n",
       "</table>\n",
       "</div>"
      ],
      "text/plain": [
       "           country  Total Students  International Students  Total Faculty  \\\n",
       "1        Australia        301994.0                106359.0        22034.0   \n",
       "32  United Kingdom        583621.0                199426.0        79934.0   \n",
       "12       Hong Kong         78838.0                 24499.0        10166.0   \n",
       "2          Austria         63446.0                 19667.0         4117.0   \n",
       "30     Switzerland        109112.0                 32995.0        15323.0   \n",
       "\n",
       "    International Faculty  Faculty/Student ratio  Inter/Total student ratio  \n",
       "1                 11382.0               0.072962                   0.352189  \n",
       "32                30216.0               0.136962                   0.341705  \n",
       "12                 6296.0               0.128948                   0.310751  \n",
       "2                  1572.0               0.064890                   0.309980  \n",
       "30                 9208.0               0.140434                   0.302396  "
      ]
     },
     "execution_count": 111,
     "metadata": {},
     "output_type": "execute_result"
    }
   ],
   "source": [
    "topuni_country_df.sort_values(\"Inter/Total student ratio\",ascending=False).head()"
   ]
  },
  {
   "cell_type": "markdown",
   "metadata": {},
   "source": [
    "The country that is best in terms of International Student ratio is **Australia**"
   ]
  },
  {
   "cell_type": "markdown",
   "metadata": {},
   "source": [
    "#### d) Aggregate by region\n",
    "To answer this question we will add aggregate all the values by region, and recalculate the Faculty:Student ratio and International:Total student ratio with the aggregated figures"
   ]
  },
  {
   "cell_type": "code",
   "execution_count": 112,
   "metadata": {
    "collapsed": true
   },
   "outputs": [],
   "source": [
    "topuni_region_df = topuni_df.drop([\"Inter/Total student ratio\", \"Faculty/Student ratio\"],axis=1)\n",
    "topuni_region_df = topuni_region_df.groupby(\"region\",as_index=False).sum()\n",
    "topuni_region_df[\"Faculty/Student ratio\"] = topuni_region_df['Total Faculty']/topuni_region_df['Total Students']\n",
    "topuni_region_df[\"Inter/Total student ratio\"] = topuni_region_df['International Students']/topuni_region_df['Total Students']"
   ]
  },
  {
   "cell_type": "code",
   "execution_count": 113,
   "metadata": {},
   "outputs": [
    {
     "data": {
      "text/html": [
       "<div>\n",
       "<style>\n",
       "    .dataframe thead tr:only-child th {\n",
       "        text-align: right;\n",
       "    }\n",
       "\n",
       "    .dataframe thead th {\n",
       "        text-align: left;\n",
       "    }\n",
       "\n",
       "    .dataframe tbody tr th {\n",
       "        vertical-align: top;\n",
       "    }\n",
       "</style>\n",
       "<table border=\"1\" class=\"dataframe\">\n",
       "  <thead>\n",
       "    <tr style=\"text-align: right;\">\n",
       "      <th></th>\n",
       "      <th>region</th>\n",
       "      <th>Total Students</th>\n",
       "      <th>International Students</th>\n",
       "      <th>Total Faculty</th>\n",
       "      <th>International Faculty</th>\n",
       "      <th>Faculty/Student ratio</th>\n",
       "      <th>Inter/Total student ratio</th>\n",
       "    </tr>\n",
       "  </thead>\n",
       "  <tbody>\n",
       "    <tr>\n",
       "      <th>1</th>\n",
       "      <td>Asia</td>\n",
       "      <td>807003.0</td>\n",
       "      <td>110100.0</td>\n",
       "      <td>106734.0</td>\n",
       "      <td>25462.0</td>\n",
       "      <td>0.132260</td>\n",
       "      <td>0.136431</td>\n",
       "    </tr>\n",
       "    <tr>\n",
       "      <th>4</th>\n",
       "      <td>North America</td>\n",
       "      <td>1546353.0</td>\n",
       "      <td>292116.0</td>\n",
       "      <td>182123.0</td>\n",
       "      <td>43836.0</td>\n",
       "      <td>0.117776</td>\n",
       "      <td>0.188906</td>\n",
       "    </tr>\n",
       "    <tr>\n",
       "      <th>2</th>\n",
       "      <td>Europe</td>\n",
       "      <td>1957251.0</td>\n",
       "      <td>449364.0</td>\n",
       "      <td>218358.0</td>\n",
       "      <td>67598.0</td>\n",
       "      <td>0.111564</td>\n",
       "      <td>0.229589</td>\n",
       "    </tr>\n",
       "    <tr>\n",
       "      <th>3</th>\n",
       "      <td>Latin America</td>\n",
       "      <td>435750.0</td>\n",
       "      <td>36871.0</td>\n",
       "      <td>45382.0</td>\n",
       "      <td>5648.0</td>\n",
       "      <td>0.104147</td>\n",
       "      <td>0.084615</td>\n",
       "    </tr>\n",
       "    <tr>\n",
       "      <th>0</th>\n",
       "      <td>Africa</td>\n",
       "      <td>19593.0</td>\n",
       "      <td>3325.0</td>\n",
       "      <td>1733.0</td>\n",
       "      <td>379.0</td>\n",
       "      <td>0.088450</td>\n",
       "      <td>0.169703</td>\n",
       "    </tr>\n",
       "  </tbody>\n",
       "</table>\n",
       "</div>"
      ],
      "text/plain": [
       "          region  Total Students  International Students  Total Faculty  \\\n",
       "1           Asia        807003.0                110100.0       106734.0   \n",
       "4  North America       1546353.0                292116.0       182123.0   \n",
       "2         Europe       1957251.0                449364.0       218358.0   \n",
       "3  Latin America        435750.0                 36871.0        45382.0   \n",
       "0         Africa         19593.0                  3325.0         1733.0   \n",
       "\n",
       "   International Faculty  Faculty/Student ratio  Inter/Total student ratio  \n",
       "1                25462.0               0.132260                   0.136431  \n",
       "4                43836.0               0.117776                   0.188906  \n",
       "2                67598.0               0.111564                   0.229589  \n",
       "3                 5648.0               0.104147                   0.084615  \n",
       "0                  379.0               0.088450                   0.169703  "
      ]
     },
     "execution_count": 113,
     "metadata": {},
     "output_type": "execute_result"
    }
   ],
   "source": [
    "topuni_region_df.sort_values(\"Faculty/Student ratio\",ascending=False).head()"
   ]
  },
  {
   "cell_type": "markdown",
   "metadata": {},
   "source": [
    "The region that is best in terms of Faculty:Student ratio is **Asia**"
   ]
  },
  {
   "cell_type": "code",
   "execution_count": 114,
   "metadata": {},
   "outputs": [
    {
     "data": {
      "text/html": [
       "<div>\n",
       "<style>\n",
       "    .dataframe thead tr:only-child th {\n",
       "        text-align: right;\n",
       "    }\n",
       "\n",
       "    .dataframe thead th {\n",
       "        text-align: left;\n",
       "    }\n",
       "\n",
       "    .dataframe tbody tr th {\n",
       "        vertical-align: top;\n",
       "    }\n",
       "</style>\n",
       "<table border=\"1\" class=\"dataframe\">\n",
       "  <thead>\n",
       "    <tr style=\"text-align: right;\">\n",
       "      <th></th>\n",
       "      <th>region</th>\n",
       "      <th>Total Students</th>\n",
       "      <th>International Students</th>\n",
       "      <th>Total Faculty</th>\n",
       "      <th>International Faculty</th>\n",
       "      <th>Faculty/Student ratio</th>\n",
       "      <th>Inter/Total student ratio</th>\n",
       "    </tr>\n",
       "  </thead>\n",
       "  <tbody>\n",
       "    <tr>\n",
       "      <th>5</th>\n",
       "      <td>Oceania</td>\n",
       "      <td>350167.0</td>\n",
       "      <td>118798.0</td>\n",
       "      <td>25347.0</td>\n",
       "      <td>12786.0</td>\n",
       "      <td>0.072385</td>\n",
       "      <td>0.339261</td>\n",
       "    </tr>\n",
       "    <tr>\n",
       "      <th>2</th>\n",
       "      <td>Europe</td>\n",
       "      <td>1957251.0</td>\n",
       "      <td>449364.0</td>\n",
       "      <td>218358.0</td>\n",
       "      <td>67598.0</td>\n",
       "      <td>0.111564</td>\n",
       "      <td>0.229589</td>\n",
       "    </tr>\n",
       "    <tr>\n",
       "      <th>4</th>\n",
       "      <td>North America</td>\n",
       "      <td>1546353.0</td>\n",
       "      <td>292116.0</td>\n",
       "      <td>182123.0</td>\n",
       "      <td>43836.0</td>\n",
       "      <td>0.117776</td>\n",
       "      <td>0.188906</td>\n",
       "    </tr>\n",
       "    <tr>\n",
       "      <th>0</th>\n",
       "      <td>Africa</td>\n",
       "      <td>19593.0</td>\n",
       "      <td>3325.0</td>\n",
       "      <td>1733.0</td>\n",
       "      <td>379.0</td>\n",
       "      <td>0.088450</td>\n",
       "      <td>0.169703</td>\n",
       "    </tr>\n",
       "    <tr>\n",
       "      <th>1</th>\n",
       "      <td>Asia</td>\n",
       "      <td>807003.0</td>\n",
       "      <td>110100.0</td>\n",
       "      <td>106734.0</td>\n",
       "      <td>25462.0</td>\n",
       "      <td>0.132260</td>\n",
       "      <td>0.136431</td>\n",
       "    </tr>\n",
       "  </tbody>\n",
       "</table>\n",
       "</div>"
      ],
      "text/plain": [
       "          region  Total Students  International Students  Total Faculty  \\\n",
       "5        Oceania        350167.0                118798.0        25347.0   \n",
       "2         Europe       1957251.0                449364.0       218358.0   \n",
       "4  North America       1546353.0                292116.0       182123.0   \n",
       "0         Africa         19593.0                  3325.0         1733.0   \n",
       "1           Asia        807003.0                110100.0       106734.0   \n",
       "\n",
       "   International Faculty  Faculty/Student ratio  Inter/Total student ratio  \n",
       "5                12786.0               0.072385                   0.339261  \n",
       "2                67598.0               0.111564                   0.229589  \n",
       "4                43836.0               0.117776                   0.188906  \n",
       "0                  379.0               0.088450                   0.169703  \n",
       "1                25462.0               0.132260                   0.136431  "
      ]
     },
     "execution_count": 114,
     "metadata": {},
     "output_type": "execute_result"
    }
   ],
   "source": [
    "topuni_region_df.sort_values(\"Inter/Total student ratio\",ascending=False).head()"
   ]
  },
  {
   "cell_type": "markdown",
   "metadata": {},
   "source": [
    "The region that is best in terms of International Student ratio is **Oceania**"
   ]
  },
  {
   "cell_type": "markdown",
   "metadata": {},
   "source": [
    "We now want to vizualize the data in the dataframes. We have decided to visualize:\n",
    "- Average ranking per region and country\n",
    "- Average ratios per couuntry and region"
   ]
  },
  {
   "cell_type": "code",
   "execution_count": 115,
   "metadata": {},
   "outputs": [
    {
     "data": {
      "image/png": "[encoded data removed]",
      "text/plain": [
       "<matplotlib.figure.Figure at 0x17b697ff668>"
      ]
     },
     "metadata": {},
     "output_type": "display_data"
    }
   ],
   "source": [
    "#importing libaries and setting style\n",
    "import matplotlib.pyplot as plt\n",
    "import seaborn as sns\n",
    "sns.set_style('whitegrid')\n",
    "sns.set_palette('cubehelix',3)\n",
    "\n",
    "#Creating new dataframe only containing relevant data\n",
    "topuni_region_df_plot = topuni_region_df.drop(['Total Students', 'International Students','Total Faculty','International Faculty'], axis=1)\n",
    "topuni_region_df_plot = topuni_region_df_plot.sort_values('Faculty/Student ratio',ascending=False)\n",
    "topuni_region_df_plot = topuni_region_df_plot.set_index('region')\n",
    "\n",
    "\n",
    "#Plotting and adding info\n",
    "topuni_region_df_plot.plot.bar(figsize=(12,6))\n",
    "\n",
    "plt.title('Faculty/student ratio and Internation/total student ratio per region',fontsize=15)\n",
    "plt.ylabel('Ratio')\n",
    "plt.xlabel('Region')\n",
    "plt.show()"
   ]
  },
  {
   "cell_type": "markdown",
   "metadata": {},
   "source": [
    "Here we see a plot where the ratios between both *international/total number of students* and *faculty members/students* are plotted together as an average per region. The plot is sorted after the faculty/student ratio and as we can observe that there doesn't really seem to be any correlation between the two ratios.\n",
    "\n",
    "\n",
    "We will now look at the same type of plot but with an average calculated per country."
   ]
  },
  {
   "cell_type": "code",
   "execution_count": 116,
   "metadata": {},
   "outputs": [
    {
     "data": {
      "image/png": "[encoded data removed]",
      "text/plain": [
       "<matplotlib.figure.Figure at 0x17b63f0d828>"
      ]
     },
     "metadata": {},
     "output_type": "display_data"
    }
   ],
   "source": [
    "#Creating new dataframe with relevant data\n",
    "topuni_country_df_plot = topuni_country_df.drop(['Total Students', 'International Students','Total Faculty','International Faculty'], axis=1)\n",
    "topuni_country_df_plot = topuni_country_df_plot.sort_values('Faculty/Student ratio',ascending=False)\n",
    "topuni_country_df_plot = topuni_country_df_plot.set_index('country') \n",
    "\n",
    "#plotting and adding info\n",
    "topuni_country_df_plot.plot.bar(figsize=(18,9))\n",
    "\n",
    "plt.title('Faculty/student ratio and Internation/total student ratio per country',fontsize=20)\n",
    "plt.ylabel('Ratio')\n",
    "plt.xlabel('Country')\n",
    "plt.show()"
   ]
  },
  {
   "cell_type": "markdown",
   "metadata": {},
   "source": [
    "Here we have a similar plot as the previous one but here with the data aggregated per country."
   ]
  },
  {
   "cell_type": "code",
   "execution_count": 239,
   "metadata": {},
   "outputs": [],
   "source": [
    "#Making the dataframe ready for plotting\n",
    "topuni_df_rank = topuni_df.drop(['title','Total Students','International Students','Total Faculty','International Faculty','Faculty/Student ratio','Inter/Total student ratio'],axis=1)\n",
    "topuni_df_rank['rank_display'] = topuni_df_rank['rank_display'].map(lambda x: x.replace('=',''))\n",
    "topuni_df_rank['rank_display'] = pd.to_numeric(topuni_df_rank['rank_display'])\n",
    "topuni_df_rank = topuni_df_rank.groupby('country',as_index=False).mean()\n",
    "topuni_df_rank = topuni_df_rank.set_index('country')\n",
    "topuni_df_rank = topuni_df_rank.sort_values('rank_display')"
   ]
  },
  {
   "cell_type": "code",
   "execution_count": 238,
   "metadata": {},
   "outputs": [
    {
     "data": {
      "image/png": "[encoded data removed]",
      "text/plain": [
       "<matplotlib.figure.Figure at 0x17b67cf1da0>"
      ]
     },
     "metadata": {},
     "output_type": "display_data"
    }
   ],
   "source": [
    "#Plotting and adding info\n",
    "topuni_df_rank.plot.bar(figsize=(18,9),color='salmon')\n",
    "\n",
    "plt.title('Average ranking',fontsize=15)\n",
    "plt.ylabel('Ranking')\n",
    "plt.xlabel('Country')\n",
    "plt.show()"
   ]
  },
  {
   "cell_type": "markdown",
   "metadata": {},
   "source": [
    "Here we see a plot of the average ranking per country. Note that it is here the coutry with the lowest scare that of course has the best rankings on average."
   ]
  },
  {
   "cell_type": "markdown",
   "metadata": {},
   "source": [
    "### Task 2:\n",
    "Obtain the 200 top-ranking universities in www.timeshighereducation.com ([ranking 2018](http://timeshighereducation.com/world-university-rankings/2018/world-ranking)).\n",
    "\n",
    "In particular, extract the following fields for each university: name, rank, country and region, number of faculty members (international and total) and number of students (international and total).\n",
    "\n",
    "Store the resulting dataset in a pandas DataFrame and answer the following questions:\n",
    "- Which are the best universities in term of: (a) ratio between faculty members and students, (b) ratio of international students?\n",
    "- Answer the previous question aggregating the data by (c) country and (d) region."
   ]
  },
  {
   "cell_type": "markdown",
   "metadata": {},
   "source": [
    "In order to extract this information, we first examined the webpage using Postman Interceptor. We discovered that the data is not found in the html, rather it is imported from a [json file](https://www.timeshighereducation.com/sites/default/files/the_data_rankings/world_university_rankings_2018_limit0_369a9045a203e176392b9fb8f8c1cb2a.json) requested from the server.\n",
    "\n",
    "So we make a request for this same file, and import the data from the json to a dataframe.\n",
    "\n",
    "Since the data is sorted, we trim the dataframe to have only the top 200 results. Thus we have the Name, Rank, Country and Region for each of these universities. We drop the columns we do not require.\n",
    "\n",
    "In order to get the remaining data, we keep the url column for now."
   ]
  },
  {
   "cell_type": "code",
   "execution_count": 181,
   "metadata": {
    "collapsed": true
   },
   "outputs": [],
   "source": [
    "#import timesedu data\n",
    "timesedu_url = 'https://www.timeshighereducation.com/sites/default/files/the_data_rankings/world_university_rankings_2018_limit0_369a9045a203e176392b9fb8f8c1cb2a.json'\n",
    "request = requests.get(timesedu_url)\n",
    "timesedu_data = request.json()['data']\n",
    "\n",
    "#add data to dataframe\n",
    "timesedu_df = pd.io.json.json_normalize(timesedu_data)\n",
    "\n",
    "#trim data frame to top 200 universities\n",
    "timesedu_df = timesedu_df.head(200)\n",
    "\n",
    "#drop columns that we don't need\n",
    "timesedu_df = timesedu_df.drop([\"member_level\",\"nid\",\"url\",\"scores_international_outlook\",\"scores_international_outlook_rank\",\"scores_overall\",\"scores_overall_rank\",\"record_type\",\"scores_research\",\"scores_research_rank\",\"scores_teaching\",\"scores_teaching_rank\",\"stats_female_male_ratio\",\"subjects_offered\",\"scores_citations\",\"scores_citations_rank\",\"scores_industry_income\",\"scores_industry_income_rank\"],axis=1)"
   ]
  },
  {
   "cell_type": "code",
   "execution_count": 182,
   "metadata": {
    "collapsed": true
   },
   "outputs": [],
   "source": [
    "#addRegions\n",
    "mappingDict = {}\n",
    "for row in topuni_df.iterrows():\n",
    "    mappingDict[row[1][0]] = row[1][2]\n",
    "\n",
    "#manually adding missing countries/alternative spellings in dict\n",
    "mappingDict['Luxembourg'] = 'Europe'\n",
    "mappingDict['Russian Federation'] = 'Europe'\n",
    "\n",
    "timesedu_df['Region'] = timesedu_df['location'].map(mappingDict)"
   ]
  },
  {
   "cell_type": "code",
   "execution_count": 183,
   "metadata": {
    "collapsed": true
   },
   "outputs": [],
   "source": [
    "#adding columns for international students\n",
    "timesedu_df[\"Total Students\"] = timesedu_df['stats_number_students'].map(lambda x : x.replace(',',''))\n",
    "timesedu_df[\"Inter/Total student ratio\"] = (timesedu_df['stats_pc_intl_students'].map(lambda x : x.replace('%','')).map(int))/100\n",
    "timesedu_df[\"International Students\"] = ((timesedu_df['Total Students'].map(float))*(timesedu_df['Inter/Total student ratio'].map(float))).map(int)\n",
    "\n",
    "# #adding columns for total faculty and international faculty\n",
    "timesedu_df[\"Total Faculty\"] = (timesedu_df[\"Total Students\"].map(float)/timesedu_df[\"stats_student_staff_ratio\"].map(float)).map(int)\n",
    "timesedu_df[\"International Faculty\"] = float('NaN')\n",
    "timesedu_df[\"Faculty/Student ratio\"] = 1/timesedu_df[\"stats_student_staff_ratio\"].map(float)\n",
    "\n",
    "timesedu_df = timesedu_df.drop([\"stats_number_students\",\"stats_pc_intl_students\",\"stats_student_staff_ratio\"],axis=1)\n",
    "\n"
   ]
  },
  {
   "cell_type": "markdown",
   "metadata": {},
   "source": [
    "We now have all the data from Times Higher Education in a single dataframe. In order to answer question a) through d) using this data, we will exclude a few more rows that are not relevant for those questions. It should be noted that the ranking are already in the dataframe timesedu_df and therefore all we need is to sort the data (and group it for questio c and d)."
   ]
  },
  {
   "cell_type": "markdown",
   "metadata": {},
   "source": [
    "#### a) Which are the best universities in terms of the ratio between faculty members and students?\n",
    "To answer this question we just sort our dataframe by this value. We assume that the higher the ratio, the better the university is. (1 faculty : 5 students is better than 1 faculty : 10 students)"
   ]
  },
  {
   "cell_type": "code",
   "execution_count": 187,
   "metadata": {},
   "outputs": [
    {
     "data": {
      "text/html": [
       "<div>\n",
       "<style>\n",
       "    .dataframe thead tr:only-child th {\n",
       "        text-align: right;\n",
       "    }\n",
       "\n",
       "    .dataframe thead th {\n",
       "        text-align: left;\n",
       "    }\n",
       "\n",
       "    .dataframe tbody tr th {\n",
       "        vertical-align: top;\n",
       "    }\n",
       "</style>\n",
       "<table border=\"1\" class=\"dataframe\">\n",
       "  <thead>\n",
       "    <tr style=\"text-align: right;\">\n",
       "      <th></th>\n",
       "      <th>aliases</th>\n",
       "      <th>location</th>\n",
       "      <th>name</th>\n",
       "      <th>rank</th>\n",
       "      <th>rank_order</th>\n",
       "      <th>Region</th>\n",
       "      <th>Total Students</th>\n",
       "      <th>Inter/Total student ratio</th>\n",
       "      <th>International Students</th>\n",
       "      <th>Total Faculty</th>\n",
       "      <th>International Faculty</th>\n",
       "      <th>Faculty/Student ratio</th>\n",
       "    </tr>\n",
       "  </thead>\n",
       "  <tbody>\n",
       "    <tr>\n",
       "      <th>105</th>\n",
       "      <td>Vanderbilt University</td>\n",
       "      <td>United States</td>\n",
       "      <td>Vanderbilt University</td>\n",
       "      <td>=105</td>\n",
       "      <td>1060</td>\n",
       "      <td>North America</td>\n",
       "      <td>12011</td>\n",
       "      <td>0.13</td>\n",
       "      <td>1561</td>\n",
       "      <td>3639</td>\n",
       "      <td>NaN</td>\n",
       "      <td>0.303030</td>\n",
       "    </tr>\n",
       "    <tr>\n",
       "      <th>109</th>\n",
       "      <td>University of Copenhagen</td>\n",
       "      <td>Denmark</td>\n",
       "      <td>University of Copenhagen</td>\n",
       "      <td>=109</td>\n",
       "      <td>1100</td>\n",
       "      <td>Europe</td>\n",
       "      <td>30395</td>\n",
       "      <td>0.14</td>\n",
       "      <td>4255</td>\n",
       "      <td>7413</td>\n",
       "      <td>NaN</td>\n",
       "      <td>0.243902</td>\n",
       "    </tr>\n",
       "    <tr>\n",
       "      <th>153</th>\n",
       "      <td>University of Rochester</td>\n",
       "      <td>United States</td>\n",
       "      <td>University of Rochester</td>\n",
       "      <td>=153</td>\n",
       "      <td>1540</td>\n",
       "      <td>North America</td>\n",
       "      <td>9636</td>\n",
       "      <td>0.29</td>\n",
       "      <td>2794</td>\n",
       "      <td>2240</td>\n",
       "      <td>NaN</td>\n",
       "      <td>0.232558</td>\n",
       "    </tr>\n",
       "  </tbody>\n",
       "</table>\n",
       "</div>"
      ],
      "text/plain": [
       "                      aliases       location                      name  rank  \\\n",
       "105     Vanderbilt University  United States     Vanderbilt University  =105   \n",
       "109  University of Copenhagen        Denmark  University of Copenhagen  =109   \n",
       "153   University of Rochester  United States   University of Rochester  =153   \n",
       "\n",
       "    rank_order         Region Total Students  Inter/Total student ratio  \\\n",
       "105       1060  North America          12011                       0.13   \n",
       "109       1100         Europe          30395                       0.14   \n",
       "153       1540  North America           9636                       0.29   \n",
       "\n",
       "     International Students  Total Faculty  International Faculty  \\\n",
       "105                    1561           3639                    NaN   \n",
       "109                    4255           7413                    NaN   \n",
       "153                    2794           2240                    NaN   \n",
       "\n",
       "     Faculty/Student ratio  \n",
       "105               0.303030  \n",
       "109               0.243902  \n",
       "153               0.232558  "
      ]
     },
     "execution_count": 187,
     "metadata": {},
     "output_type": "execute_result"
    }
   ],
   "source": [
    "timesedu_df.sort_values('Faculty/Student ratio',ascending=False).head(3)"
   ]
  },
  {
   "cell_type": "markdown",
   "metadata": {},
   "source": [
    "We see that the best university when it comes to faculty/student ratio is Vanderbilt University in USA."
   ]
  },
  {
   "cell_type": "markdown",
   "metadata": {},
   "source": [
    "#### b) Which are the best universities in terms of the ratio of international students\n",
    "To answer this question we will simply sort our dataframe by this value. We assume that the higher the ratio, the better the university is. (1 international : 5 total is better than 1 international : 10 total)"
   ]
  },
  {
   "cell_type": "code",
   "execution_count": 189,
   "metadata": {},
   "outputs": [
    {
     "data": {
      "text/html": [
       "<div>\n",
       "<style>\n",
       "    .dataframe thead tr:only-child th {\n",
       "        text-align: right;\n",
       "    }\n",
       "\n",
       "    .dataframe thead th {\n",
       "        text-align: left;\n",
       "    }\n",
       "\n",
       "    .dataframe tbody tr th {\n",
       "        vertical-align: top;\n",
       "    }\n",
       "</style>\n",
       "<table border=\"1\" class=\"dataframe\">\n",
       "  <thead>\n",
       "    <tr style=\"text-align: right;\">\n",
       "      <th></th>\n",
       "      <th>aliases</th>\n",
       "      <th>location</th>\n",
       "      <th>name</th>\n",
       "      <th>rank</th>\n",
       "      <th>rank_order</th>\n",
       "      <th>Region</th>\n",
       "      <th>Total Students</th>\n",
       "      <th>Inter/Total student ratio</th>\n",
       "      <th>International Students</th>\n",
       "      <th>Total Faculty</th>\n",
       "      <th>International Faculty</th>\n",
       "      <th>Faculty/Student ratio</th>\n",
       "    </tr>\n",
       "  </thead>\n",
       "  <tbody>\n",
       "    <tr>\n",
       "      <th>24</th>\n",
       "      <td>London School of Economics and Political Science</td>\n",
       "      <td>United Kingdom</td>\n",
       "      <td>London School of Economics and Political Science</td>\n",
       "      <td>=25</td>\n",
       "      <td>250</td>\n",
       "      <td>Europe</td>\n",
       "      <td>10065</td>\n",
       "      <td>0.71</td>\n",
       "      <td>7146</td>\n",
       "      <td>825</td>\n",
       "      <td>NaN</td>\n",
       "      <td>0.081967</td>\n",
       "    </tr>\n",
       "    <tr>\n",
       "      <th>178</th>\n",
       "      <td>University of Luxembourg</td>\n",
       "      <td>Luxembourg</td>\n",
       "      <td>University of Luxembourg</td>\n",
       "      <td>=179</td>\n",
       "      <td>1790</td>\n",
       "      <td>Europe</td>\n",
       "      <td>4969</td>\n",
       "      <td>0.57</td>\n",
       "      <td>2832</td>\n",
       "      <td>340</td>\n",
       "      <td>NaN</td>\n",
       "      <td>0.068493</td>\n",
       "    </tr>\n",
       "    <tr>\n",
       "      <th>37</th>\n",
       "      <td>École Polytechnique Fédérale de Lausanne</td>\n",
       "      <td>Switzerland</td>\n",
       "      <td>École Polytechnique Fédérale de Lausanne</td>\n",
       "      <td>=38</td>\n",
       "      <td>380</td>\n",
       "      <td>Europe</td>\n",
       "      <td>9928</td>\n",
       "      <td>0.55</td>\n",
       "      <td>5460</td>\n",
       "      <td>886</td>\n",
       "      <td>NaN</td>\n",
       "      <td>0.089286</td>\n",
       "    </tr>\n",
       "  </tbody>\n",
       "</table>\n",
       "</div>"
      ],
      "text/plain": [
       "                                              aliases        location  \\\n",
       "24   London School of Economics and Political Science  United Kingdom   \n",
       "178                          University of Luxembourg      Luxembourg   \n",
       "37           École Polytechnique Fédérale de Lausanne     Switzerland   \n",
       "\n",
       "                                                 name  rank rank_order  \\\n",
       "24   London School of Economics and Political Science   =25        250   \n",
       "178                          University of Luxembourg  =179       1790   \n",
       "37           École Polytechnique Fédérale de Lausanne   =38        380   \n",
       "\n",
       "     Region Total Students  Inter/Total student ratio  International Students  \\\n",
       "24   Europe          10065                       0.71                    7146   \n",
       "178  Europe           4969                       0.57                    2832   \n",
       "37   Europe           9928                       0.55                    5460   \n",
       "\n",
       "     Total Faculty  International Faculty  Faculty/Student ratio  \n",
       "24             825                    NaN               0.081967  \n",
       "178            340                    NaN               0.068493  \n",
       "37             886                    NaN               0.089286  "
      ]
     },
     "execution_count": 189,
     "metadata": {},
     "output_type": "execute_result"
    }
   ],
   "source": [
    "timesedu_df.sort_values('Inter/Total student ratio',ascending=False).head(3)"
   ]
  },
  {
   "cell_type": "markdown",
   "metadata": {},
   "source": [
    "We observe that London School of Economics and Political Science is the best in order of ration between international and total amount of students."
   ]
  },
  {
   "cell_type": "markdown",
   "metadata": {},
   "source": [
    "#### c) Aggregate by country\n",
    "To answer this question we will aggregate all the values by country and while doing so calculating the mean of all the numeric values."
   ]
  },
  {
   "cell_type": "code",
   "execution_count": 194,
   "metadata": {},
   "outputs": [
    {
     "data": {
      "text/html": [
       "<div>\n",
       "<style>\n",
       "    .dataframe thead tr:only-child th {\n",
       "        text-align: right;\n",
       "    }\n",
       "\n",
       "    .dataframe thead th {\n",
       "        text-align: left;\n",
       "    }\n",
       "\n",
       "    .dataframe tbody tr th {\n",
       "        vertical-align: top;\n",
       "    }\n",
       "</style>\n",
       "<table border=\"1\" class=\"dataframe\">\n",
       "  <thead>\n",
       "    <tr style=\"text-align: right;\">\n",
       "      <th></th>\n",
       "      <th>location</th>\n",
       "      <th>Inter/Total student ratio</th>\n",
       "      <th>International Students</th>\n",
       "      <th>Total Faculty</th>\n",
       "      <th>International Faculty</th>\n",
       "      <th>Faculty/Student ratio</th>\n",
       "    </tr>\n",
       "  </thead>\n",
       "  <tbody>\n",
       "    <tr>\n",
       "      <th>5</th>\n",
       "      <td>Denmark</td>\n",
       "      <td>0.166667</td>\n",
       "      <td>3108.666667</td>\n",
       "      <td>3532.0</td>\n",
       "      <td>NaN</td>\n",
       "      <td>0.160166</td>\n",
       "    </tr>\n",
       "    <tr>\n",
       "      <th>11</th>\n",
       "      <td>Italy</td>\n",
       "      <td>0.105000</td>\n",
       "      <td>66.000000</td>\n",
       "      <td>78.5</td>\n",
       "      <td>NaN</td>\n",
       "      <td>0.138889</td>\n",
       "    </tr>\n",
       "    <tr>\n",
       "      <th>17</th>\n",
       "      <td>Russian Federation</td>\n",
       "      <td>0.220000</td>\n",
       "      <td>6431.000000</td>\n",
       "      <td>4004.0</td>\n",
       "      <td>NaN</td>\n",
       "      <td>0.136986</td>\n",
       "    </tr>\n",
       "  </tbody>\n",
       "</table>\n",
       "</div>"
      ],
      "text/plain": [
       "              location  Inter/Total student ratio  International Students  \\\n",
       "5              Denmark                   0.166667             3108.666667   \n",
       "11               Italy                   0.105000               66.000000   \n",
       "17  Russian Federation                   0.220000             6431.000000   \n",
       "\n",
       "    Total Faculty  International Faculty  Faculty/Student ratio  \n",
       "5          3532.0                    NaN               0.160166  \n",
       "11           78.5                    NaN               0.138889  \n",
       "17         4004.0                    NaN               0.136986  "
      ]
     },
     "execution_count": 194,
     "metadata": {},
     "output_type": "execute_result"
    }
   ],
   "source": [
    "timesedu_df.groupby('location',as_index=False).mean().sort_values('Faculty/Student ratio',ascending=False).head(3)"
   ]
  },
  {
   "cell_type": "code",
   "execution_count": 195,
   "metadata": {
    "scrolled": true
   },
   "outputs": [
    {
     "data": {
      "text/html": [
       "<div>\n",
       "<style>\n",
       "    .dataframe thead tr:only-child th {\n",
       "        text-align: right;\n",
       "    }\n",
       "\n",
       "    .dataframe thead th {\n",
       "        text-align: left;\n",
       "    }\n",
       "\n",
       "    .dataframe tbody tr th {\n",
       "        vertical-align: top;\n",
       "    }\n",
       "</style>\n",
       "<table border=\"1\" class=\"dataframe\">\n",
       "  <thead>\n",
       "    <tr style=\"text-align: right;\">\n",
       "      <th></th>\n",
       "      <th>location</th>\n",
       "      <th>Inter/Total student ratio</th>\n",
       "      <th>International Students</th>\n",
       "      <th>Total Faculty</th>\n",
       "      <th>International Faculty</th>\n",
       "      <th>Faculty/Student ratio</th>\n",
       "    </tr>\n",
       "  </thead>\n",
       "  <tbody>\n",
       "    <tr>\n",
       "      <th>13</th>\n",
       "      <td>Luxembourg</td>\n",
       "      <td>0.570000</td>\n",
       "      <td>2832.000000</td>\n",
       "      <td>340.000000</td>\n",
       "      <td>NaN</td>\n",
       "      <td>0.068493</td>\n",
       "    </tr>\n",
       "    <tr>\n",
       "      <th>25</th>\n",
       "      <td>United Kingdom</td>\n",
       "      <td>0.365484</td>\n",
       "      <td>6872.419355</td>\n",
       "      <td>1433.064516</td>\n",
       "      <td>NaN</td>\n",
       "      <td>0.074252</td>\n",
       "    </tr>\n",
       "    <tr>\n",
       "      <th>9</th>\n",
       "      <td>Hong Kong</td>\n",
       "      <td>0.328000</td>\n",
       "      <td>5031.400000</td>\n",
       "      <td>828.000000</td>\n",
       "      <td>NaN</td>\n",
       "      <td>0.056622</td>\n",
       "    </tr>\n",
       "  </tbody>\n",
       "</table>\n",
       "</div>"
      ],
      "text/plain": [
       "          location  Inter/Total student ratio  International Students  \\\n",
       "13      Luxembourg                   0.570000             2832.000000   \n",
       "25  United Kingdom                   0.365484             6872.419355   \n",
       "9        Hong Kong                   0.328000             5031.400000   \n",
       "\n",
       "    Total Faculty  International Faculty  Faculty/Student ratio  \n",
       "13     340.000000                    NaN               0.068493  \n",
       "25    1433.064516                    NaN               0.074252  \n",
       "9      828.000000                    NaN               0.056622  "
      ]
     },
     "execution_count": 195,
     "metadata": {},
     "output_type": "execute_result"
    }
   ],
   "source": [
    "timesedu_df.groupby('location',as_index=False).mean().sort_values('Inter/Total student ratio',ascending=False).head(3)"
   ]
  },
  {
   "cell_type": "markdown",
   "metadata": {},
   "source": [
    "We see that the country with the best Faculty/Student ratio is __Denmark__ and the country with the best International/total student ration is __Luxembourg__."
   ]
  },
  {
   "cell_type": "markdown",
   "metadata": {},
   "source": [
    "#### d) Aggregate by region\n",
    "To answer this question we will add aggregate all the values by region while calculating the means."
   ]
  },
  {
   "cell_type": "code",
   "execution_count": 197,
   "metadata": {},
   "outputs": [
    {
     "data": {
      "text/html": [
       "<div>\n",
       "<style>\n",
       "    .dataframe thead tr:only-child th {\n",
       "        text-align: right;\n",
       "    }\n",
       "\n",
       "    .dataframe thead th {\n",
       "        text-align: left;\n",
       "    }\n",
       "\n",
       "    .dataframe tbody tr th {\n",
       "        vertical-align: top;\n",
       "    }\n",
       "</style>\n",
       "<table border=\"1\" class=\"dataframe\">\n",
       "  <thead>\n",
       "    <tr style=\"text-align: right;\">\n",
       "      <th></th>\n",
       "      <th>Region</th>\n",
       "      <th>Inter/Total student ratio</th>\n",
       "      <th>International Students</th>\n",
       "      <th>Total Faculty</th>\n",
       "      <th>International Faculty</th>\n",
       "      <th>Faculty/Student ratio</th>\n",
       "    </tr>\n",
       "  </thead>\n",
       "  <tbody>\n",
       "    <tr>\n",
       "      <th>3</th>\n",
       "      <td>North America</td>\n",
       "      <td>0.185588</td>\n",
       "      <td>4944.705882</td>\n",
       "      <td>2434.602941</td>\n",
       "      <td>NaN</td>\n",
       "      <td>0.101655</td>\n",
       "    </tr>\n",
       "    <tr>\n",
       "      <th>0</th>\n",
       "      <td>Africa</td>\n",
       "      <td>0.180000</td>\n",
       "      <td>3739.000000</td>\n",
       "      <td>1775.000000</td>\n",
       "      <td>NaN</td>\n",
       "      <td>0.085470</td>\n",
       "    </tr>\n",
       "    <tr>\n",
       "      <th>1</th>\n",
       "      <td>Asia</td>\n",
       "      <td>0.165238</td>\n",
       "      <td>3753.666667</td>\n",
       "      <td>2029.904762</td>\n",
       "      <td>NaN</td>\n",
       "      <td>0.080345</td>\n",
       "    </tr>\n",
       "  </tbody>\n",
       "</table>\n",
       "</div>"
      ],
      "text/plain": [
       "          Region  Inter/Total student ratio  International Students  \\\n",
       "3  North America                   0.185588             4944.705882   \n",
       "0         Africa                   0.180000             3739.000000   \n",
       "1           Asia                   0.165238             3753.666667   \n",
       "\n",
       "   Total Faculty  International Faculty  Faculty/Student ratio  \n",
       "3    2434.602941                    NaN               0.101655  \n",
       "0    1775.000000                    NaN               0.085470  \n",
       "1    2029.904762                    NaN               0.080345  "
      ]
     },
     "execution_count": 197,
     "metadata": {},
     "output_type": "execute_result"
    }
   ],
   "source": [
    "timesedu_df.groupby('Region',as_index=False).mean().sort_values('Faculty/Student ratio',ascending=False).head(3)"
   ]
  },
  {
   "cell_type": "code",
   "execution_count": 198,
   "metadata": {},
   "outputs": [
    {
     "data": {
      "text/html": [
       "<div>\n",
       "<style>\n",
       "    .dataframe thead tr:only-child th {\n",
       "        text-align: right;\n",
       "    }\n",
       "\n",
       "    .dataframe thead th {\n",
       "        text-align: left;\n",
       "    }\n",
       "\n",
       "    .dataframe tbody tr th {\n",
       "        vertical-align: top;\n",
       "    }\n",
       "</style>\n",
       "<table border=\"1\" class=\"dataframe\">\n",
       "  <thead>\n",
       "    <tr style=\"text-align: right;\">\n",
       "      <th></th>\n",
       "      <th>Region</th>\n",
       "      <th>Inter/Total student ratio</th>\n",
       "      <th>International Students</th>\n",
       "      <th>Total Faculty</th>\n",
       "      <th>International Faculty</th>\n",
       "      <th>Faculty/Student ratio</th>\n",
       "    </tr>\n",
       "  </thead>\n",
       "  <tbody>\n",
       "    <tr>\n",
       "      <th>4</th>\n",
       "      <td>Oceania</td>\n",
       "      <td>0.305556</td>\n",
       "      <td>10289.666667</td>\n",
       "      <td>1283.444444</td>\n",
       "      <td>NaN</td>\n",
       "      <td>0.039895</td>\n",
       "    </tr>\n",
       "    <tr>\n",
       "      <th>2</th>\n",
       "      <td>Europe</td>\n",
       "      <td>0.244653</td>\n",
       "      <td>4767.623762</td>\n",
       "      <td>1255.603960</td>\n",
       "      <td>NaN</td>\n",
       "      <td>0.065952</td>\n",
       "    </tr>\n",
       "    <tr>\n",
       "      <th>3</th>\n",
       "      <td>North America</td>\n",
       "      <td>0.185588</td>\n",
       "      <td>4944.705882</td>\n",
       "      <td>2434.602941</td>\n",
       "      <td>NaN</td>\n",
       "      <td>0.101655</td>\n",
       "    </tr>\n",
       "  </tbody>\n",
       "</table>\n",
       "</div>"
      ],
      "text/plain": [
       "          Region  Inter/Total student ratio  International Students  \\\n",
       "4        Oceania                   0.305556            10289.666667   \n",
       "2         Europe                   0.244653             4767.623762   \n",
       "3  North America                   0.185588             4944.705882   \n",
       "\n",
       "   Total Faculty  International Faculty  Faculty/Student ratio  \n",
       "4    1283.444444                    NaN               0.039895  \n",
       "2    1255.603960                    NaN               0.065952  \n",
       "3    2434.602941                    NaN               0.101655  "
      ]
     },
     "execution_count": 198,
     "metadata": {},
     "output_type": "execute_result"
    }
   ],
   "source": [
    "timesedu_df.groupby('Region',as_index=False).mean().sort_values('Inter/Total student ratio',ascending=False).head(3)"
   ]
  },
  {
   "cell_type": "markdown",
   "metadata": {},
   "source": [
    "We see that the regions who perform best is: __North America__ with respect to Faculty/Student ratio and __Oceania__ with respect to International/Total student ratio."
   ]
  },
  {
   "cell_type": "markdown",
   "metadata": {},
   "source": [
    "We will now do some visualizations of the data from Times Higher Education, so that we visually can interpret the differences between the two datasources.\n",
    "\n",
    "We start of by creating a dataframe that only contains the ratios and is aggregated by region."
   ]
  },
  {
   "cell_type": "code",
   "execution_count": 162,
   "metadata": {},
   "outputs": [
    {
     "data": {
      "image/png": "[encoded data removed]",
      "text/plain": [
       "<matplotlib.figure.Figure at 0x17b67465550>"
      ]
     },
     "metadata": {},
     "output_type": "display_data"
    }
   ],
   "source": [
    "#Creating new dataframe only containing relevant data\n",
    "timesedu_region_df_plot = timesedu_df.drop(['aliases','location','name','rank','rank_order','Total Students','International Students','Total Faculty','International Faculty'], axis=1)\n",
    "timesedu_region_df_plot = timesedu_region_df_plot.groupby('Region',as_index=False).mean()\n",
    "timesedu_region_df_plot = timesedu_region_df_plot.sort_values('Faculty/Student ratio',ascending=False)\n",
    "timesedu_region_df_plot = timesedu_region_df_plot[['Region','Faculty/Student ratio','Inter/Total student ratio']]\n",
    "timesedu_region_df_plot = timesedu_region_df_plot.set_index('Region')\n",
    "\n",
    "\n",
    "#Plotting and adding info\n",
    "timesedu_region_df_plot.plot.bar(figsize=(12,6))\n",
    "\n",
    "plt.title('Faculty/student ratio and Internation/total student ratio per region',fontsize=15)\n",
    "plt.ylabel('Ratio')\n",
    "plt.xlabel('Region')\n",
    "plt.show()"
   ]
  },
  {
   "cell_type": "code",
   "execution_count": 174,
   "metadata": {
    "scrolled": false
   },
   "outputs": [
    {
     "data": {
      "image/png": "[encoded data removed]",
      "text/plain": [
       "<matplotlib.figure.Figure at 0x17b6a7257f0>"
      ]
     },
     "metadata": {},
     "output_type": "display_data"
    }
   ],
   "source": [
    "#Creating new dataframe only containing relevant data\n",
    "timesedu_country_df_plot = timesedu_df.drop(['aliases','Region','name','rank','rank_order','Total Students','International Students','Total Faculty','International Faculty'], axis=1)\n",
    "timesedu_country_df_plot = timesedu_country_df_plot.groupby('location',as_index=False).mean()\n",
    "timesedu_country_df_plot = timesedu_country_df_plot.sort_values('Faculty/Student ratio',ascending=False)\n",
    "timesedu_country_df_plot = timesedu_country_df_plot[['location','Faculty/Student ratio','Inter/Total student ratio']]\n",
    "timesedu_country_df_plot = timesedu_country_df_plot.set_index('location')\n",
    "\n",
    "\n",
    "#Plotting and adding info\n",
    "timesedu_country_df_plot.plot.bar(figsize=(12,6))\n",
    "\n",
    "plt.title('Faculty/student ratio and Internation/total student ratio per region',fontsize=15)\n",
    "plt.ylabel('Ratio')\n",
    "plt.xlabel('Country')\n",
    "plt.show()"
   ]
  },
  {
   "cell_type": "code",
   "execution_count": null,
   "metadata": {
    "collapsed": true
   },
   "outputs": [],
   "source": [
    "### Task 3 :\n",
    "In this section , we will merge the two dataframes into one using the names of the universities as a link between them.\n",
    "However, some of these names are different in each dataframes;\n",
    "for example the EPFL is represented as *Ecole Polytechnique Fédérale de Lausanne (EPFL)* in the the Top Universities ranking and *École Polytechnique Fédérale de Lausanne* in the Times Education ranking.\n",
    "\n",
    "In this case, the `merge` operation wouldn't work unless we simplify the name strings and remove the elements that might create a difference between the two lists.\n",
    "Here is a list of operations we perform on both the 'aliases' column in Top Universities ranking and the 'title' in the  Times Education ranking to make them closer : \n",
    "- We turn them into lowercase\n",
    "- Using Regular Expressions, we delete the acronyms in parenthesis\n",
    "- we replace all non- alphanumerical characters (for example - , _ ,...) with a simple whitespace\n",
    "- we remove the accents that are present in the french names, replacing 'é' and 'è' by e.\n",
    "\n"
   ]
  },
  {
   "cell_type": "code",
   "execution_count": null,
   "metadata": {
    "collapsed": true
   },
   "outputs": [],
   "source": [
    "import re\n",
    "  # treating the universities titles from Top Universites :\n",
    "#create an empty list and save the \"treated\" name strings in it \n",
    "new_name2=[]\n",
    "for name in topuni_df.title:\n",
    "    words=name.lower()\n",
    "    words=re.sub(\"(\\s+\\(\\w+\\))\",'', words)\n",
    "    words=re.sub(\"(the+\\s)\",'', words)\n",
    "    words = re.sub('\\W+',' ',words)\n",
    "    words = re.sub('é|è','e',words)\n",
    "    new_name2.append(words)\n",
    "#add the list as a column to the Top University dataframe\n",
    "topuni_df['name_for_merge']=new_name2\n",
    " \n",
    "\n",
    "  # treating the universities titles from Times Education :\n",
    "#create an empty list and save the \"treated\" name strings in it \n",
    "new_name3=[]\n",
    "for nam in timesedu_df.name:\n",
    "    words=nam.lower()\n",
    "    words=re.sub(\"(\\s+\\(\\w+\\))\",'', words)\n",
    "    words=re.sub(\"(the+\\s)\",'', words)\n",
    "    words = re.sub('\\W+',' ',words)\n",
    "    words = re.sub('é|è','e',words)\n",
    "    new_name3.append(words)\n",
    "#add the list as a column to the Times Education dataframe\n",
    "timesedu_df['name_for_merge']=new_name3"
   ]
  },
  {
   "cell_type": "code",
   "execution_count": 1,
   "metadata": {},
   "outputs": [
    {
     "ename": "SyntaxError",
     "evalue": "invalid syntax (<ipython-input-1-c83c2a6cc08f>, line 1)",
     "output_type": "error",
     "traceback": [
      "\u001b[0;36m  File \u001b[0;32m\"<ipython-input-1-c83c2a6cc08f>\"\u001b[0;36m, line \u001b[0;32m1\u001b[0m\n\u001b[0;31m    Having performed these operations, we save the new names in a new column in each dataframe called `name_for_merge`.\u001b[0m\n\u001b[0m                   ^\u001b[0m\n\u001b[0;31mSyntaxError\u001b[0m\u001b[0;31m:\u001b[0m invalid syntax\n"
     ]
    }
   ],
   "source": [
    "Having performed these operations, we save the new names in a new column in each dataframe called `name_for_merge`.\n",
    "We now perform an *outer* merge based on these new names."
   ]
  },
  {
   "cell_type": "code",
   "execution_count": null,
   "metadata": {
    "collapsed": true
   },
   "outputs": [],
   "source": [
    "#merging the two dataframes\n",
    "test3=pd.merge(topuni_df,timesedu_df,on='name_for_merge',how='outer')\n",
    "test3"
   ]
  },
  {
   "cell_type": "code",
   "execution_count": null,
   "metadata": {
    "collapsed": true
   },
   "outputs": [],
   "source": [
    "The resulting dataframe is composed of 141 universities and 23 variables. It means that there are 59 universities that were not matched correctly during the merge.\n",
    "This can be due either to\n",
    "the fact that some universities are present in only one of the rankings or\n",
    "the fact that they are not represented in the same way in both, even after the simplications performed above.\n",
    "In the first case,the universities will be removed, in the second, the matching has to be done manually. We view these universities here."
   ]
  },
  {
   "cell_type": "code",
   "execution_count": null,
   "metadata": {
    "collapsed": true
   },
   "outputs": [],
   "source": [
    "#names of the universities from the Top University ranking \n",
    "#that are not matched to universities from the Times Education Ranking\n",
    "a=pd.Series(test3[test3.title.isnull()]['name_for_merge'].values)\n",
    "a.name='Top Universities Ranking'\n",
    "print(a.shape)\n",
    "\n",
    "#names of the universities from the Times Education Ranking \n",
    "#that are not matched to universities from the Top University ranking\n",
    "b=pd.Series(test3[test3.aliases.isnull()]['name_for_merge'].values)\n",
    "b.name='Times Education Ranking'\n",
    "print(b.shape)\n",
    "pd.concat([a,b],axis=1).head(10)"
   ]
  },
  {
   "cell_type": "code",
   "execution_count": null,
   "metadata": {
    "collapsed": true
   },
   "outputs": [],
   "source": [
    "In order to "
   ]
  },
  {
   "cell_type": "code",
   "execution_count": null,
   "metadata": {
    "collapsed": true
   },
   "outputs": [],
   "source": [
    "#create a dataFrame containing the unmatched names from Top Universities\n",
    "a=pd.DataFrame(test3[test3.title.isnull()]['name_for_merge'])\n",
    "#print(a.shape)\n",
    "#add a new column to each name where we will store the corresponding index #\n",
    "a['correspond']=0\n",
    "#Create a dataFrame containing the unmatched names from Times Education\n",
    "match_list=pd.DataFrame(test3[test3.name.isnull()]['name_for_merge'])\n",
    "#print(match_list.shape)\n",
    "\n",
    "#we split each unmatched name in Top University it into a list of words and store them in 'check'\n",
    "j=258\n",
    "print(a.name_for_merge[j])\n",
    "check=a.name_for_merge[j].split()\n",
    "\n",
    "score=[]\n",
    "# for each unmatched name in Times Education, we count how many words of 'check' it contains \n",
    "for i in match_list.name_for_merge:\n",
    "    k=0\n",
    "    for word in check:\n",
    "        if i.find(word)>0:\n",
    "            k=k+1\n",
    "    score.append(k)\n",
    "#We store the number of the commun words in a new column 'score'\n",
    "#Then we view the names with the largest scores. \n",
    "#If the university is represented by a similar name in the other ranking,\n",
    "#this name should be on the top of this list and we can extract its index\n",
    "\n",
    "match_list['score']=score\n",
    "    \n",
    "match_list.sort_values('score',ascending=False).head(10)"
   ]
  },
  {
   "cell_type": "code",
   "execution_count": null,
   "metadata": {
    "collapsed": true
   },
   "outputs": [],
   "source": [
    "#We copy the content of the second ranking at the correct index\n",
    "m=181\n",
    "test3.iloc[m,12:]=test3.iloc[j,12:]\n",
    "test3.iloc[m]"
   ]
  },
  {
   "cell_type": "code",
   "execution_count": null,
   "metadata": {
    "collapsed": true
   },
   "outputs": [],
   "source": [
    "#We reorder the dataframe and drop the universities left unmatched\n",
    "final=test3.iloc[:,[3,12,1,15,0,2,4,18,6,21,8,23,5,20,10,19,7,22]]\n",
    "final=final.dropna(thresh=13)"
   ]
  },
  {
   "cell_type": "code",
   "execution_count": 2,
   "metadata": {},
   "outputs": [
    {
     "ename": "NameError",
     "evalue": "name 'final' is not defined",
     "output_type": "error",
     "traceback": [
      "\u001b[0;31m---------------------------------------------------------------------------\u001b[0m",
      "\u001b[0;31mNameError\u001b[0m                                 Traceback (most recent call last)",
      "\u001b[0;32m<ipython-input-2-c73f57a771f9>\u001b[0m in \u001b[0;36m<module>\u001b[0;34m()\u001b[0m\n\u001b[0;32m----> 1\u001b[0;31m \u001b[0mfinal\u001b[0m\u001b[0;34m\u001b[0m\u001b[0m\n\u001b[0m",
      "\u001b[0;31mNameError\u001b[0m: name 'final' is not defined"
     ]
    }
   ],
   "source": [
    "final"
   ]
  },
  {
   "cell_type": "code",
   "execution_count": null,
   "metadata": {
    "collapsed": true
   },
   "outputs": [],
   "source": [
    "#we save the resulting dataframe into a .csv file so that for the rest of the assignment we use this dataframe as reference\n",
    "final.to_csv(\"final.csv\")\n"
   ]
  },
  {
   "cell_type": "code",
   "execution_count": 3,
   "metadata": {},
   "outputs": [
    {
     "name": "stdout",
     "output_type": "stream",
     "text": [
      "Object `members` not found.\n"
     ]
    }
   ],
   "source": [
    "### Task 4 \n",
    "Find useful insights in the data by performing an exploratory analysis. Can you find a strong correlation between any pair of variables in the dataset you just created? Example: when a university is strong in its international dimension, can you observe a consistency both for students and faculty members?"
   ]
  },
  {
   "cell_type": "code",
   "execution_count": null,
   "metadata": {
    "collapsed": true
   },
   "outputs": [],
   "source": [
    "Find useful insights in the data by performing an exploratory analysis. Can you find a strong correlation between any pair of variables in the dataset you just created? Example: when a university is strong in its international dimension, can you observe a consistency both for students and faculty members"
   ]
  },
  {
   "cell_type": "code",
   "execution_count": null,
   "metadata": {
    "collapsed": true
   },
   "outputs": [],
   "source": [
    "test4 = pd.read_csv(\"final.csv\")"
   ]
  },
  {
   "cell_type": "code",
   "execution_count": null,
   "metadata": {
    "collapsed": true
   },
   "outputs": [],
   "source": [
    "Joining the two dataframes enables us to compare the rankings of the universities and the factors that helped determine it.\n",
    "\n",
    "We notice that the 6 first universities are the same in both rankings, all from USA or the UK.\n",
    "For other universities, the ranks are  often close,although in some cases it varies significantly ( \n",
    "Nanyang Technological University, Singapore (NTU) who is $11^{th}$ in *Top Universities* and $52^{nd}$ in *Times Education*.)\n",
    "\n",
    "These differences are due to the fact that the ranking scores are computed differently in each dataframe.\n",
    "The scores are computed as a combination of various indicators such as the number of students,the size of the faculty ,the international presence, but also faculty reputation and number of citations which are not available in our dataframe.\n",
    "In this section we will only deal with the indicators available in the merged dataframe and try to  determine their role in the score of the universities in each ranking.\n"
   ]
  },
  {
   "cell_type": "code",
   "execution_count": null,
   "metadata": {
    "collapsed": true
   },
   "outputs": [],
   "source": []
  },
  {
   "cell_type": "code",
   "execution_count": null,
   "metadata": {
    "collapsed": true
   },
   "outputs": [],
   "source": []
  }
 ],
 "metadata": {
  "kernelspec": {
   "display_name": "Python 3",
   "language": "python",
   "name": "python3"
  },
  "language_info": {
   "codemirror_mode": {
    "name": "ipython",
    "version": 3
   },
   "file_extension": ".py",
   "mimetype": "text/x-python",
   "name": "python",
   "nbconvert_exporter": "python",
   "pygments_lexer": "ipython3",
   "version": "3.6.1"
  }
 },
 "nbformat": 4,
 "nbformat_minor": 2
}
