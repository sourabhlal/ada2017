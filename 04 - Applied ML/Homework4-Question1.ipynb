{
 "cells": [
  {
   "cell_type": "code",
   "execution_count": 1,
   "metadata": {
    "collapsed": true
   },
   "outputs": [],
   "source": [
    "import pandas as pd\n",
    "import numpy as np\n",
    "import matplotlib.pyplot as plt\n",
    "from sklearn.linear_model import LinearRegression, LogisticRegression\n",
    "from sklearn.preprocessing import OneHotEncoder\n",
    "from pandas.tools.plotting import scatter_matrix\n",
    "from sklearn.model_selection import cross_val_predict\n",
    "from sklearn.model_selection import cross_val_score\n",
    "from pprint import pprint\n",
    "import seaborn as sns\n",
    "%matplotlib inline"
   ]
  },
  {
   "cell_type": "markdown",
   "metadata": {},
   "source": [
    "# Question 1: Propensity score matching"
   ]
  },
  {
   "cell_type": "markdown",
   "metadata": {
    "collapsed": true
   },
   "source": [
    "\n",
    "In this exercise, you will apply [propensity score matching](http://www.stewartschultz.com/statistics/books/Design%20of%20observational%20studies.pdf), which we discussed in lecture 5 (\"Observational studies\"), in order to draw conclusions from an observational study.\n",
    "\n",
    "We will work with a by-now classic dataset from Robert LaLonde's study \"[Evaluating the Econometric Evaluations of Training Programs](http://people.hbs.edu/nashraf/LaLonde_1986.pdf)\" (1986).\n",
    "The study investigated the effect of a job training program (\"National Supported Work Demonstration\") on the real earnings of an individual, a couple of years after completion of the program.\n",
    "Your task is to determine the effectiveness of the \"treatment\" represented by the job training program.\n",
    "\n",
    "#### Dataset description\n",
    "\n",
    "- `treat`: 1 if the subject participated in the job training program, 0 otherwise\n",
    "- `age`: the subject's age\n",
    "- `educ`: years of education\n",
    "- `race`: categorical variable with three possible values: Black, Hispanic, or White\n",
    "- `married`: 1 if the subject was married at the time of the training program, 0 otherwise\n",
    "- `nodegree`: 1 if the subject has earned no school degree, 0 otherwise\n",
    "- `re74`: real earnings in 1974 (pre-treatment)\n",
    "- `re75`: real earnings in 1975 (pre-treatment)\n",
    "- `re78`: real earnings in 1978 (outcome)\n",
    "\n",
    "If you want to brush up your knowledge on propensity scores and observational studies, we highly recommend Rosenbaum's excellent book on the [\"Design of Observational Studies\"](http://www.stewartschultz.com/statistics/books/Design%20of%20observational%20studies.pdf). Even just reading the first chapter (18 pages) will help you a lot."
   ]
  },
  {
   "cell_type": "markdown",
   "metadata": {},
   "source": [
    "#### 1. A naive analysis\n",
    "\n",
    "Compare the distribution of the outcome variable (`re78`) between the two groups, using plots and numbers.\n",
    "To summarize and compare the distributions, you may use the techniques we discussed in lectures 4 (\"Read the stats carefully\") and 6 (\"Data visualization\").\n",
    "\n",
    "What might a naive \"researcher\" conclude from this superficial analysis?\n",
    "\n",
    "#### Answer : \n",
    "\n",
    "We start by loading the data and viewing the first few observations. The data consists in 614 observations, for which we have 11 variables.\n",
    "We proceed to dividing the data into two dataframes :\n",
    "- **data_treat** : containing the 185 individuals who followed the training.\n",
    "- **data_control** : containing the 429 individuals who didn't follow the training.\n",
    "\n",
    "We note that *training* and *treatment* are used indifferently to describe the job training program (\"National Supported Work Demonstration\") that we are investigating."
   ]
  },
  {
   "cell_type": "code",
   "execution_count": 24,
   "metadata": {},
   "outputs": [
    {
     "data": {
      "text/html": [
       "<div>\n",
       "<style>\n",
       "    .dataframe thead tr:only-child th {\n",
       "        text-align: right;\n",
       "    }\n",
       "\n",
       "    .dataframe thead th {\n",
       "        text-align: left;\n",
       "    }\n",
       "\n",
       "    .dataframe tbody tr th {\n",
       "        vertical-align: top;\n",
       "    }\n",
       "</style>\n",
       "<table border=\"1\" class=\"dataframe\">\n",
       "  <thead>\n",
       "    <tr style=\"text-align: right;\">\n",
       "      <th></th>\n",
       "      <th>id</th>\n",
       "      <th>treat</th>\n",
       "      <th>age</th>\n",
       "      <th>educ</th>\n",
       "      <th>black</th>\n",
       "      <th>hispan</th>\n",
       "      <th>married</th>\n",
       "      <th>nodegree</th>\n",
       "      <th>re74</th>\n",
       "      <th>re75</th>\n",
       "      <th>re78</th>\n",
       "    </tr>\n",
       "  </thead>\n",
       "  <tbody>\n",
       "    <tr>\n",
       "      <th>0</th>\n",
       "      <td>NSW1</td>\n",
       "      <td>1</td>\n",
       "      <td>37</td>\n",
       "      <td>11</td>\n",
       "      <td>1</td>\n",
       "      <td>0</td>\n",
       "      <td>1</td>\n",
       "      <td>1</td>\n",
       "      <td>0.0</td>\n",
       "      <td>0.0</td>\n",
       "      <td>9930.0460</td>\n",
       "    </tr>\n",
       "    <tr>\n",
       "      <th>1</th>\n",
       "      <td>NSW2</td>\n",
       "      <td>1</td>\n",
       "      <td>22</td>\n",
       "      <td>9</td>\n",
       "      <td>0</td>\n",
       "      <td>1</td>\n",
       "      <td>0</td>\n",
       "      <td>1</td>\n",
       "      <td>0.0</td>\n",
       "      <td>0.0</td>\n",
       "      <td>3595.8940</td>\n",
       "    </tr>\n",
       "    <tr>\n",
       "      <th>2</th>\n",
       "      <td>NSW3</td>\n",
       "      <td>1</td>\n",
       "      <td>30</td>\n",
       "      <td>12</td>\n",
       "      <td>1</td>\n",
       "      <td>0</td>\n",
       "      <td>0</td>\n",
       "      <td>0</td>\n",
       "      <td>0.0</td>\n",
       "      <td>0.0</td>\n",
       "      <td>24909.4500</td>\n",
       "    </tr>\n",
       "    <tr>\n",
       "      <th>3</th>\n",
       "      <td>NSW4</td>\n",
       "      <td>1</td>\n",
       "      <td>27</td>\n",
       "      <td>11</td>\n",
       "      <td>1</td>\n",
       "      <td>0</td>\n",
       "      <td>0</td>\n",
       "      <td>1</td>\n",
       "      <td>0.0</td>\n",
       "      <td>0.0</td>\n",
       "      <td>7506.1460</td>\n",
       "    </tr>\n",
       "    <tr>\n",
       "      <th>4</th>\n",
       "      <td>NSW5</td>\n",
       "      <td>1</td>\n",
       "      <td>33</td>\n",
       "      <td>8</td>\n",
       "      <td>1</td>\n",
       "      <td>0</td>\n",
       "      <td>0</td>\n",
       "      <td>1</td>\n",
       "      <td>0.0</td>\n",
       "      <td>0.0</td>\n",
       "      <td>289.7899</td>\n",
       "    </tr>\n",
       "  </tbody>\n",
       "</table>\n",
       "</div>"
      ],
      "text/plain": [
       "     id  treat  age  educ  black  hispan  married  nodegree  re74  re75  \\\n",
       "0  NSW1      1   37    11      1       0        1         1   0.0   0.0   \n",
       "1  NSW2      1   22     9      0       1        0         1   0.0   0.0   \n",
       "2  NSW3      1   30    12      1       0        0         0   0.0   0.0   \n",
       "3  NSW4      1   27    11      1       0        0         1   0.0   0.0   \n",
       "4  NSW5      1   33     8      1       0        0         1   0.0   0.0   \n",
       "\n",
       "         re78  \n",
       "0   9930.0460  \n",
       "1   3595.8940  \n",
       "2  24909.4500  \n",
       "3   7506.1460  \n",
       "4    289.7899  "
      ]
     },
     "execution_count": 24,
     "metadata": {},
     "output_type": "execute_result"
    }
   ],
   "source": [
    "#load the data\n",
    "data = pd.read_csv(\"lalonde.csv\")\n",
    "data.head()\n",
    "#data.shape"
   ]
  },
  {
   "cell_type": "code",
   "execution_count": 25,
   "metadata": {},
   "outputs": [
    {
     "name": "stdout",
     "output_type": "stream",
     "text": [
      "(185, 11)\n",
      "(429, 11)\n"
     ]
    }
   ],
   "source": [
    "data_treat = data[data.treat==1]\n",
    "data_control=data[data.treat==0]\n",
    "print(data_treat.shape)\n",
    "print(data_control.shape)"
   ]
  },
  {
   "cell_type": "markdown",
   "metadata": {},
   "source": [
    "A fast and easy way to check wether the treatment had any effect on the real earnings of those who followed it, is to compute the distribution of the outcome variable (re78) and compare it between both groups.\n",
    "Boxplots are used here to view these distributions."
   ]
  },
  {
   "cell_type": "code",
   "execution_count": 10,
   "metadata": {},
   "outputs": [
    {
     "data": {
      "text/plain": [
       "([<matplotlib.axis.XTick at 0x11543cc88>,\n",
       "  <matplotlib.axis.XTick at 0x1154e15f8>],\n",
       " <a list of 2 Text xticklabel objects>)"
      ]
     },
     "execution_count": 10,
     "metadata": {},
     "output_type": "execute_result"
    },
    {
     "data": {
      "image/png": "[encoded data removed]",
      "text/plain": [
       "<matplotlib.figure.Figure at 0x1150b1278>"
      ]
     },
     "metadata": {},
     "output_type": "display_data"
    }
   ],
   "source": [
    "#create a figure and 1x3 subplots \n",
    "plt.figure(figsize=(15,10))\n",
    "plt.boxplot([data_control.re78,data_treat.re78],0, 'rD')\n",
    "plt.ylabel('Real earning')\n",
    "plt.xlabel('Group')    \n",
    "plt.title('Real earnings distributions for the year 1978')\n",
    "plt.xticks([1,2],['control','treatment'])"
   ]
  },
  {
   "cell_type": "markdown",
   "metadata": {},
   "source": [
    "The difference between the distributions of the 2 groups is not as striking that one would expect. \n",
    "To confirm the results or this graph, we create a table containing the numerical values of these statistics."
   ]
  },
  {
   "cell_type": "code",
   "execution_count": 16,
   "metadata": {},
   "outputs": [
    {
     "data": {
      "text/html": [
       "<div>\n",
       "<style>\n",
       "    .dataframe thead tr:only-child th {\n",
       "        text-align: right;\n",
       "    }\n",
       "\n",
       "    .dataframe thead th {\n",
       "        text-align: left;\n",
       "    }\n",
       "\n",
       "    .dataframe tbody tr th {\n",
       "        vertical-align: top;\n",
       "    }\n",
       "</style>\n",
       "<table border=\"1\" class=\"dataframe\">\n",
       "  <thead>\n",
       "    <tr style=\"text-align: right;\">\n",
       "      <th></th>\n",
       "      <th>control</th>\n",
       "      <th>treatment</th>\n",
       "    </tr>\n",
       "  </thead>\n",
       "  <tbody>\n",
       "    <tr>\n",
       "      <th>count</th>\n",
       "      <td>429.000000</td>\n",
       "      <td>185.000000</td>\n",
       "    </tr>\n",
       "    <tr>\n",
       "      <th>mean</th>\n",
       "      <td>6984.169742</td>\n",
       "      <td>6349.143530</td>\n",
       "    </tr>\n",
       "    <tr>\n",
       "      <th>std</th>\n",
       "      <td>7294.161791</td>\n",
       "      <td>7867.402218</td>\n",
       "    </tr>\n",
       "    <tr>\n",
       "      <th>min</th>\n",
       "      <td>0.000000</td>\n",
       "      <td>0.000000</td>\n",
       "    </tr>\n",
       "    <tr>\n",
       "      <th>25%</th>\n",
       "      <td>220.181300</td>\n",
       "      <td>485.229800</td>\n",
       "    </tr>\n",
       "    <tr>\n",
       "      <th>50%</th>\n",
       "      <td>4975.505000</td>\n",
       "      <td>4232.309000</td>\n",
       "    </tr>\n",
       "    <tr>\n",
       "      <th>75%</th>\n",
       "      <td>11688.820000</td>\n",
       "      <td>9642.999000</td>\n",
       "    </tr>\n",
       "    <tr>\n",
       "      <th>max</th>\n",
       "      <td>25564.670000</td>\n",
       "      <td>60307.930000</td>\n",
       "    </tr>\n",
       "  </tbody>\n",
       "</table>\n",
       "</div>"
      ],
      "text/plain": [
       "            control     treatment\n",
       "count    429.000000    185.000000\n",
       "mean    6984.169742   6349.143530\n",
       "std     7294.161791   7867.402218\n",
       "min        0.000000      0.000000\n",
       "25%      220.181300    485.229800\n",
       "50%     4975.505000   4232.309000\n",
       "75%    11688.820000   9642.999000\n",
       "max    25564.670000  60307.930000"
      ]
     },
     "execution_count": 16,
     "metadata": {},
     "output_type": "execute_result"
    }
   ],
   "source": [
    "descrip = pd.DataFrame(data_control.re78.describe())\n",
    "descrip.columns=['control']\n",
    "descrip['treatment']=pd.DataFrame(data_treat.re78.describe())\n",
    "descrip"
   ]
  },
  {
   "cell_type": "markdown",
   "metadata": {},
   "source": [
    "In the table above, we see that both the median and the mean are actually higher in the control group. Although the treatment group has some big outliers (which we can see on the boxplot) the control group has a larger 75% quantile which means it has more people in this group having larger salaries.\n",
    "We also notice that the treatment group has null real earnings, which means that some of the trained people ended up unemployed anyway.\n",
    "In the light of this superficial analysis, one might conclude that the training didn't work, or even decreased people chances at a better salary."
   ]
  },
  {
   "cell_type": "raw",
   "metadata": {},
   "source": [
    "#plt.figure(figsize=(16, 16))\n",
    "#Bins = 20#%linspace(0,10000,2000)\n",
    "#plt.title('histogram of the salaries through the years')\n",
    "#plt.subplot(321)\n",
    "data_control.re74.hist(bins=Bins,color='blue')\n",
    "plt.title('count for year 1974- control group')\n",
    "plt.xlabel('salary')\n",
    "plt.subplot(322)\n",
    "data_treat.re74.hist(bins=Bins,color='red')\n",
    "plt.title('count for year 1974 - treatment group')\n",
    "plt.xlabel('salary')\n",
    "\n",
    "plt.subplot(323)\n",
    "data_control.re75.hist(bins=Bins,color='blue')\n",
    "plt.title('count for year 1975- control group')\n",
    "plt.xlabel('salary')\n",
    "plt.subplot(324)\n",
    "data_treat.re75.hist(bins=Bins,color='red')\n",
    "plt.title('count for year 1975 - treatment group')\n",
    "plt.xlabel('salary')\n",
    "\n",
    "plt.subplot(325)\n",
    "data_control.re78.hist(bins=Bins,color='blue')\n",
    "plt.title('count for year 1978- control group')\n",
    "plt.xlabel('salary')\n",
    "plt.subplot(326)\n",
    "data_treat.re78.hist(bins=Bins,color='red')\n",
    "plt.title('count for year 1978 - treatment group')\n",
    "plt.xlabel('salary')"
   ]
  },
  {
   "cell_type": "raw",
   "metadata": {},
   "source": [
    "Means = pd.DataFrame([data_treat['re74'].mean(),data_treat['re75'].mean(),data_treat['re78'].mean()])\n",
    "Means.index=['1974','1975','1978']\n",
    "Means.columns=['mean_treatment']\n",
    "Means['mean_control']=[data_control['re74'].mean(),data_control['re75'].mean(),data_control['re78'].mean()]\n",
    "\n",
    "Means['non-zero salaries_treatment']=[len(data_treat.re74[data_treat.re74!=0]),len(data_treat.re75[data_treat.re75!=0]),len(data_treat.re78[data_treat.re78!=0])]\n",
    "Means['non-zero salaries_treatment']=100*Means['non-zero salaries_treatment']/len(data_treat)\n",
    "\n",
    "Means['non-zero salaries_control']=[len(data_control.re74[data_control.re74!=0]),len(data_control.re75[data_control.re75!=0]),len(data_control.re78[data_control.re78!=0])]\n",
    "Means['non-zero salaries_control']=100*Means['non-zero salaries_control']/len(data_control)\n",
    "\n",
    "Means['non-zero mean_treatment']=[data_treat.re74[data_treat.re74!=0].mean(),data_treat.re75[data_treat.re75!=0].mean(),data_treat.re78[data_treat.re78!=0].mean()]\n",
    "Means['non-zero mean_control']=[data_control.re74[data_control.re74!=0].mean(),data_control.re75[data_control.re75!=0].mean(),data_control.re78[data_control.re78!=0].mean()]\n",
    "\n",
    "Means"
   ]
  },
  {
   "cell_type": "markdown",
   "metadata": {},
   "source": [
    "#### 2. A closer look at the data\n",
    "\n",
    "You're not naive, of course (and even if you are, you've learned certain things in ADA), so you aren't content with a superficial analysis such as the above.\n",
    "You're aware of the dangers of observational studies, so you take a closer look at the data before jumping to conclusions.\n",
    "\n",
    "For each feature in the dataset, compare its distribution in the treated group with its distribution in the control group, using plots and numbers.\n",
    "As above, you may use the techniques we discussed in class for summarizing and comparing the distributions.\n",
    "\n",
    "What do you observe?\n",
    "Describe what your observations mean for the conclusions drawn by the naive \"researcher\" from his superficial analysis.\n",
    "\n",
    "#### Answer :\n",
    "\n",
    "We will now perform a thorough analysis of the problem. Indeed, since this data is collected from an observational study, the assignment process into treatment or control groups might not have been completely random. In order to check this, we will study the distributions of the rest of the variables and try to detect any differences between the two groups."
   ]
  },
  {
   "cell_type": "code",
   "execution_count": 26,
   "metadata": {
    "scrolled": false
   },
   "outputs": [
    {
     "data": {
      "image/png": "[encoded data removed]",
      "text/plain": [
       "<matplotlib.figure.Figure at 0x116434390>"
      ]
     },
     "metadata": {},
     "output_type": "display_data"
    }
   ],
   "source": [
    "plt.figure(figsize=(20,20))\n",
    "\n",
    "plt.subplot(221)\n",
    "plt.boxplot([data_control.re74,data_treat.re74],0, 'rD')\n",
    "plt.ylabel('Real Earning')\n",
    "plt.xlabel('Group')    \n",
    "plt.title('Real Earning distributions for the year 1974')\n",
    "plt.xticks([1,2],['control','treatment'])\n",
    "\n",
    "plt.subplot(222)\n",
    "plt.boxplot([data_control.re75,data_treat.re75],0, 'rD')\n",
    "plt.ylabel('Real Earning')\n",
    "plt.xlabel('Group')    \n",
    "plt.title('Real Earning distributions for the year 1975')\n",
    "plt.xticks([1,2],['control','treatment'])\n",
    "\n",
    "#boxplot for age and education\n",
    "plt.subplot(223)\n",
    "plt.boxplot([data_control.age,data_treat.age], 0, 'bD')    \n",
    "plt.title('Age distribution')\n",
    "plt.ylabel('age')\n",
    "plt.xlabel('Group')    \n",
    "plt.xticks([1,2],['control','treatment'])\n",
    "\n",
    "plt.subplot(224)\n",
    "plt.boxplot([data_control.educ,data_treat.educ], 0, 'gD')    \n",
    "plt.title('Education distribution')\n",
    "plt.ylabel('years of education')\n",
    "plt.xlabel('Group')    \n",
    "plt.xticks([1,2],['control','treatment'])\n",
    "plt.show()"
   ]
  },
  {
   "cell_type": "markdown",
   "metadata": {
    "collapsed": true
   },
   "source": [
    "We start with boxplots of the real earnings for the years preceeding the treatment.\n",
    "From the boxplots above, we can clearly see that the medians in the treatment groups are equal to zero, which means that half the groups is unemployed at the beginning of the treatment. The control group however shows a positive median, as well as  larger 75% quantiles. Although the treatment group shows some extreme outliers, it seems that overall, the people who are involved tend to have lower initial salaries.\n",
    "This might be interpreted as discriminating factor between the groups: since they didn't start at the same level of income, they cannot be fairly compared after the treatment.\n",
    "\n",
    "The boxplots of age and education confirm that the groups are not balanced. Although the distributions are not too different (i.e we cannot say that one group is younger than the other or more educated), the fact that the control group is larger (429), makes it cover a broader range of age and education values. \n",
    "\n",
    "Finally, we compute the proportion of each categorical variable in the groups."
   ]
  },
  {
   "cell_type": "code",
   "execution_count": 63,
   "metadata": {},
   "outputs": [
    {
     "data": {
      "text/html": [
       "<div>\n",
       "<style>\n",
       "    .dataframe thead tr:only-child th {\n",
       "        text-align: right;\n",
       "    }\n",
       "\n",
       "    .dataframe thead th {\n",
       "        text-align: left;\n",
       "    }\n",
       "\n",
       "    .dataframe tbody tr th {\n",
       "        vertical-align: top;\n",
       "    }\n",
       "</style>\n",
       "<table border=\"1\" class=\"dataframe\">\n",
       "  <thead>\n",
       "    <tr style=\"text-align: right;\">\n",
       "      <th></th>\n",
       "      <th>black</th>\n",
       "      <th>hispan</th>\n",
       "      <th>married</th>\n",
       "      <th>nodegree</th>\n",
       "    </tr>\n",
       "  </thead>\n",
       "  <tbody>\n",
       "    <tr>\n",
       "      <th>control</th>\n",
       "      <td>20.279720</td>\n",
       "      <td>14.219114</td>\n",
       "      <td>51.282051</td>\n",
       "      <td>59.673660</td>\n",
       "    </tr>\n",
       "    <tr>\n",
       "      <th>treatment</th>\n",
       "      <td>84.324324</td>\n",
       "      <td>5.945946</td>\n",
       "      <td>18.918919</td>\n",
       "      <td>70.810811</td>\n",
       "    </tr>\n",
       "  </tbody>\n",
       "</table>\n",
       "</div>"
      ],
      "text/plain": [
       "               black     hispan    married   nodegree\n",
       "control    20.279720  14.219114  51.282051  59.673660\n",
       "treatment  84.324324   5.945946  18.918919  70.810811"
      ]
     },
     "execution_count": 63,
     "metadata": {},
     "output_type": "execute_result"
    }
   ],
   "source": [
    "#ratios \n",
    "#compute the number of black /hispanic/married/nodegree person in each group\n",
    "control_ratio=data_control.iloc[:,4:8].sum()\n",
    "treat_ratio=data_treat.iloc[:,4:8].sum()\n",
    "\n",
    "# divide it by the total size of the group \n",
    "ratio=pd.DataFrame([100*control_ratio/len(data_control),100*treat_ratio/len(data_treat)])\n",
    "ratio.index=['control','treatment']\n",
    "ratio"
   ]
  },
  {
   "cell_type": "markdown",
   "metadata": {
    "scrolled": false
   },
   "source": [
    "The ratios are not the equal for both groups, the most striking difference can be seen in the proportion of black people (20% of the control group and 80% of the treatment group ).\n",
    "This confirms that the control and treatment groups do not represent the same population and thus the effect of the treatment cannot be judged accurately when compared to this control group."
   ]
  },
  {
   "cell_type": "raw",
   "metadata": {},
   "source": [
    "#histogram for age and education\n",
    "plt.figure(figsize=(18, 10))\n",
    "plt.subplot(221)\n",
    "data_control.age.hist(bins=[10,15,20,25,30,35,40,45,50,55,60], color='blue')    \n",
    "plt.title('age distribution for the control group')\n",
    "plt.subplot(223)\n",
    "data_control.educ.hist(bins=[0,2,4,6,8,10,12,14,16,18,20], color='blue')    \n",
    "plt.title('Education distribution for the control group')\n",
    "plt.subplot(222)\n",
    "data_treat.age.hist(bins=[10,15,20,25,30,35,40,45,50,55,60], color='red')      \n",
    "plt.title('age distribution for the treatment group')\n",
    "plt.subplot(224)\n",
    "data_treat.educ.hist(bins=[0,2,4,6,8,10,12,14,16,18,20], color='red')    \n",
    "plt.title('Education distribution for the treatment group')\n",
    "\n",
    "plt.show()"
   ]
  },
  {
   "cell_type": "code",
   "execution_count": null,
   "metadata": {
    "collapsed": true
   },
   "outputs": [],
   "source": []
  },
  {
   "cell_type": "markdown",
   "metadata": {},
   "source": [
    "#### 3. A propensity score model\n",
    "\n",
    "Use logistic regression to estimate propensity scores for all points in the dataset.\n",
    "You may use `sklearn` to fit the logistic regression model and apply it to each data point to obtain propensity scores:\n",
    "\n",
    "```python\n",
    "from sklearn import linear_model\n",
    "logistic = linear_model.LogisticRegression()\n",
    "```\n",
    "\n",
    "Recall that the propensity score of a data point represents its probability of receiving the treatment, based on its pre-treatment features (in this case, age, education, pre-treatment income, etc.).\n",
    "To brush up on propensity scores, you may read chapter 3.3 of the above-cited book by Rosenbaum or [this article](https://drive.google.com/file/d/0B4jctQY-uqhzTlpBaTBJRTJFVFE/view).\n",
    "\n",
    "Note: you do not need a train/test split here. Train and apply the model on the entire dataset. If you're wondering why this is the right thing to do in this situation, recall that the propensity score model is not used in order to make predictions about unseen data. Its sole purpose is to balance the dataset across treatment groups.\n",
    "(See p. 74 of Rosenbaum's book for an explanation why slight overfitting is even good for propensity scores.\n",
    "If you want even more information, read [this article](https://drive.google.com/file/d/0B4jctQY-uqhzTlpBaTBJRTJFVFE/view).)\n",
    "\n",
    "#### Answer : \n",
    "In this section, we will compute the propensity scores via logistic regression in order to estimate the probability for each person of receiving the treatment given their known characteristics."
   ]
  },
  {
   "cell_type": "code",
   "execution_count": 27,
   "metadata": {
    "collapsed": true
   },
   "outputs": [],
   "source": [
    "from sklearn import linear_model\n",
    "logistic = linear_model.LogisticRegression()"
   ]
  },
  {
   "cell_type": "code",
   "execution_count": 28,
   "metadata": {},
   "outputs": [
    {
     "data": {
      "text/plain": [
       "LogisticRegression(C=1.0, class_weight=None, dual=False, fit_intercept=True,\n",
       "          intercept_scaling=1, max_iter=100, multi_class='ovr', n_jobs=1,\n",
       "          penalty='l2', random_state=None, solver='liblinear', tol=0.0001,\n",
       "          verbose=0, warm_start=False)"
      ]
     },
     "execution_count": 28,
     "metadata": {},
     "output_type": "execute_result"
    }
   ],
   "source": [
    "covariates =data[['age', 'educ', 'black', 'hispan', 'married', 'nodegree','re74','re75']]\n",
    "X= covariates\n",
    "Z= data.treat\n",
    "logistic.fit(X,Z)"
   ]
  },
  {
   "cell_type": "code",
   "execution_count": 52,
   "metadata": {
    "scrolled": true
   },
   "outputs": [],
   "source": [
    "#logistic.coef_"
   ]
  },
  {
   "cell_type": "code",
   "execution_count": 30,
   "metadata": {},
   "outputs": [
    {
     "data": {
      "text/plain": [
       "array([[ 0.55664958,  0.44335042],\n",
       "       [ 0.85534047,  0.14465953],\n",
       "       [ 0.27764537,  0.72235463],\n",
       "       ..., \n",
       "       [ 0.87687096,  0.12312904],\n",
       "       [ 0.44954003,  0.55045997],\n",
       "       [ 0.84497047,  0.15502953]])"
      ]
     },
     "execution_count": 30,
     "metadata": {},
     "output_type": "execute_result"
    }
   ],
   "source": [
    "propensity = logistic.predict_proba(X)\n",
    "propensity"
   ]
  },
  {
   "cell_type": "code",
   "execution_count": 31,
   "metadata": {},
   "outputs": [],
   "source": [
    "#precision = cross_val_score(logistic, X, Z, cv=10, scoring=\"precision\")\n",
    "#recall = cross_val_score(logistic, X, Z, cv=10, scoring=\"recall\")\n",
    "\n",
    "#print(\"Precision: %0.2f (+/- %0.2f)\" % (precision.mean(), precision.std() * 2))\n",
    "#print(\"Recall: %0.2f (+/- %0.2f)\" % (recall.mean(), recall.std() * 2))"
   ]
  },
  {
   "cell_type": "code",
   "execution_count": 32,
   "metadata": {
    "collapsed": true
   },
   "outputs": [],
   "source": [
    "prop=pd.DataFrame(propensity)\n",
    "prop.columns=['prob_control' ,'prob_treat']\n",
    "data=pd.concat([data,prop],axis=1)"
   ]
  },
  {
   "cell_type": "markdown",
   "metadata": {},
   "source": [
    "#### 4. Balancing the dataset via matching\n",
    "\n",
    "Use the propensity scores to match each data point from the treated group with exactly one data point from the control group, while ensuring that each data point from the control group is matched with at most one data point from the treated group.\n",
    "(Hint: you may explore the `networkx` package in Python for predefined matching functions.)\n",
    "\n",
    "Your matching should maximize the similarity between matched subjects, as captured by their propensity scores.\n",
    "In other words, the sum (over all matched pairs) of absolute propensity-score differences between the two matched subjects should be minimized.\n",
    "\n",
    "After matching, you have as many treated as you have control subjects.\n",
    "Compare the outcomes (`re78`) between the two groups (treated and control).\n",
    "\n",
    "Also, compare again the feature-value distributions between the two groups, as you've done in part 2 above, but now only for the matched subjects.\n",
    "What do you observe?\n",
    "Are you closer to being able to draw valid conclusions now than you were before?\n",
    "#### Answer:\n",
    "\n"
   ]
  },
  {
   "cell_type": "code",
   "execution_count": null,
   "metadata": {
    "collapsed": true
   },
   "outputs": [],
   "source": []
  },
  {
   "cell_type": "markdown",
   "metadata": {
    "collapsed": true
   },
   "source": [
    "In order to perfom the matching, we must first translate our data into a bipartite graph C $\\cup$ T, where each node is an observation from the data, C the subset of control observations, T the subset of treatment observations.\n",
    "We assign to each nodes a list of attributes that will help construct the edges.\n",
    "\n",
    "sincethe graph is bipartite, the edges only exist between nodes of different subsets.\n",
    "\n",
    "Our matching aims at linking together  couples of control and treatment observations which have close propensity scores.\n",
    "\n",
    "For this purpose, we assign to each edge a weight defined as the absolute difference between the propensities of its nodes.\n",
    "We then apply a maximum weighted matching to our graph "
   ]
  },
  {
   "cell_type": "code",
   "execution_count": 35,
   "metadata": {},
   "outputs": [
    {
     "data": {
      "text/plain": [
       "(0, {'idf': 'NSW1', 'prop': 0.44335042297442523, 'treat': 1})"
      ]
     },
     "execution_count": 35,
     "metadata": {},
     "output_type": "execute_result"
    }
   ],
   "source": [
    "#create  a bipartite graph from the data \n",
    "#for each node we add attributes about its propensity, and wether it is in the treatment group or not \n",
    "import networkx as nx\n",
    "G = nx.Graph()\n",
    "for k in range(len(data)):\n",
    "        G.add_node(k, idf=data.id[k],prop= data.prob_treat[k],treat=data.treat[k])\n",
    "# view an example         \n",
    "G.nodes(1)[0]"
   ]
  },
  {
   "cell_type": "code",
   "execution_count": 55,
   "metadata": {
    "collapsed": true
   },
   "outputs": [],
   "source": [
    "#adding the edges \n",
    "for i in G.nodes():\n",
    "    for j in G.nodes():\n",
    "        #the edges  go from all treatment nodes to all control nodes \n",
    "        if ((G.nodes(1)[i][1]['treat']==1) & (G.nodes(1)[j][1]['treat']==0)):\n",
    "            # we assign  -the absolute value of the propensity difference in order to apply max. weight matching later\n",
    "            W=-abs(G.nodes(1)[i][1]['prop']-G.nodes(1)[j][1]['prop'])\n",
    "            G.add_edge(i, j, weight=W )"
   ]
  },
  {
   "cell_type": "code",
   "execution_count": 56,
   "metadata": {},
   "outputs": [
    {
     "name": "stdout",
     "output_type": "stream",
     "text": [
      "number of nodes in the graph: 614\n",
      "number of edges in the graph: 79365\n",
      "the graph is bipartite\n"
     ]
    }
   ],
   "source": [
    "# We could draw the graph but the outcome is not readable\n",
    "#nx.draw(G, with_labels=True, font_weight='bold')\n",
    "print ('number of nodes in the graph: '+str(G.number_of_nodes()))\n",
    "print('number of edges in the graph: '+str(G.number_of_edges()))\n",
    "#We check if the graph is bipartite: \n",
    "if (nx.is_bipartite(G)):\n",
    "    print( 'the graph is bipartite')"
   ]
  },
  {
   "cell_type": "code",
   "execution_count": null,
   "metadata": {},
   "outputs": [],
   "source": []
  },
  {
   "cell_type": "code",
   "execution_count": 57,
   "metadata": {
    "collapsed": true
   },
   "outputs": [],
   "source": [
    "#We do the matching using the maximum weight matching\n",
    "matching=nx.max_weight_matching(G,True)"
   ]
  },
  {
   "cell_type": "code",
   "execution_count": null,
   "metadata": {
    "collapsed": true
   },
   "outputs": [],
   "source": []
  },
  {
   "cell_type": "code",
   "execution_count": 58,
   "metadata": {},
   "outputs": [],
   "source": [
    "#the subsets created by the matching\n",
    "T=data[data.treat==1]\n",
    "C=pd.DataFrame([])\n",
    "for k in range(0,185):\n",
    "    C=pd.concat([C,data[data.index==matching[k]]])\n"
   ]
  },
  {
   "cell_type": "code",
   "execution_count": 59,
   "metadata": {},
   "outputs": [
    {
     "data": {
      "text/html": [
       "<div>\n",
       "<style>\n",
       "    .dataframe thead tr:only-child th {\n",
       "        text-align: right;\n",
       "    }\n",
       "\n",
       "    .dataframe thead th {\n",
       "        text-align: left;\n",
       "    }\n",
       "\n",
       "    .dataframe tbody tr th {\n",
       "        vertical-align: top;\n",
       "    }\n",
       "</style>\n",
       "<table border=\"1\" class=\"dataframe\">\n",
       "  <thead>\n",
       "    <tr style=\"text-align: right;\">\n",
       "      <th></th>\n",
       "      <th>treat</th>\n",
       "      <th>age</th>\n",
       "      <th>educ</th>\n",
       "      <th>black</th>\n",
       "      <th>hispan</th>\n",
       "      <th>married</th>\n",
       "      <th>nodegree</th>\n",
       "      <th>re74</th>\n",
       "      <th>re75</th>\n",
       "      <th>re78</th>\n",
       "      <th>prob_control</th>\n",
       "      <th>prob_treat</th>\n",
       "    </tr>\n",
       "  </thead>\n",
       "  <tbody>\n",
       "    <tr>\n",
       "      <th>count</th>\n",
       "      <td>185.0</td>\n",
       "      <td>185.000000</td>\n",
       "      <td>185.000000</td>\n",
       "      <td>185.000000</td>\n",
       "      <td>185.000000</td>\n",
       "      <td>185.000000</td>\n",
       "      <td>185.000000</td>\n",
       "      <td>185.000000</td>\n",
       "      <td>185.000000</td>\n",
       "      <td>185.000000</td>\n",
       "      <td>185.000000</td>\n",
       "      <td>185.000000</td>\n",
       "    </tr>\n",
       "    <tr>\n",
       "      <th>mean</th>\n",
       "      <td>1.0</td>\n",
       "      <td>25.816216</td>\n",
       "      <td>10.345946</td>\n",
       "      <td>0.843243</td>\n",
       "      <td>0.059459</td>\n",
       "      <td>0.189189</td>\n",
       "      <td>0.708108</td>\n",
       "      <td>2095.573689</td>\n",
       "      <td>1532.055314</td>\n",
       "      <td>6349.143530</td>\n",
       "      <td>0.438131</td>\n",
       "      <td>0.561869</td>\n",
       "    </tr>\n",
       "    <tr>\n",
       "      <th>std</th>\n",
       "      <td>0.0</td>\n",
       "      <td>7.155019</td>\n",
       "      <td>2.010650</td>\n",
       "      <td>0.364558</td>\n",
       "      <td>0.237124</td>\n",
       "      <td>0.392722</td>\n",
       "      <td>0.455867</td>\n",
       "      <td>4886.620353</td>\n",
       "      <td>3219.250870</td>\n",
       "      <td>7867.402218</td>\n",
       "      <td>0.211763</td>\n",
       "      <td>0.211763</td>\n",
       "    </tr>\n",
       "    <tr>\n",
       "      <th>min</th>\n",
       "      <td>1.0</td>\n",
       "      <td>17.000000</td>\n",
       "      <td>4.000000</td>\n",
       "      <td>0.000000</td>\n",
       "      <td>0.000000</td>\n",
       "      <td>0.000000</td>\n",
       "      <td>0.000000</td>\n",
       "      <td>0.000000</td>\n",
       "      <td>0.000000</td>\n",
       "      <td>0.000000</td>\n",
       "      <td>0.244085</td>\n",
       "      <td>0.040171</td>\n",
       "    </tr>\n",
       "    <tr>\n",
       "      <th>25%</th>\n",
       "      <td>1.0</td>\n",
       "      <td>20.000000</td>\n",
       "      <td>9.000000</td>\n",
       "      <td>1.000000</td>\n",
       "      <td>0.000000</td>\n",
       "      <td>0.000000</td>\n",
       "      <td>0.000000</td>\n",
       "      <td>0.000000</td>\n",
       "      <td>0.000000</td>\n",
       "      <td>485.229800</td>\n",
       "      <td>0.293196</td>\n",
       "      <td>0.475299</td>\n",
       "    </tr>\n",
       "    <tr>\n",
       "      <th>50%</th>\n",
       "      <td>1.0</td>\n",
       "      <td>25.000000</td>\n",
       "      <td>11.000000</td>\n",
       "      <td>1.000000</td>\n",
       "      <td>0.000000</td>\n",
       "      <td>0.000000</td>\n",
       "      <td>1.000000</td>\n",
       "      <td>0.000000</td>\n",
       "      <td>0.000000</td>\n",
       "      <td>4232.309000</td>\n",
       "      <td>0.330664</td>\n",
       "      <td>0.669336</td>\n",
       "    </tr>\n",
       "    <tr>\n",
       "      <th>75%</th>\n",
       "      <td>1.0</td>\n",
       "      <td>29.000000</td>\n",
       "      <td>12.000000</td>\n",
       "      <td>1.000000</td>\n",
       "      <td>0.000000</td>\n",
       "      <td>0.000000</td>\n",
       "      <td>1.000000</td>\n",
       "      <td>1291.468000</td>\n",
       "      <td>1817.284000</td>\n",
       "      <td>9642.999000</td>\n",
       "      <td>0.524701</td>\n",
       "      <td>0.706804</td>\n",
       "    </tr>\n",
       "    <tr>\n",
       "      <th>max</th>\n",
       "      <td>1.0</td>\n",
       "      <td>48.000000</td>\n",
       "      <td>16.000000</td>\n",
       "      <td>1.000000</td>\n",
       "      <td>1.000000</td>\n",
       "      <td>1.000000</td>\n",
       "      <td>1.000000</td>\n",
       "      <td>35040.070000</td>\n",
       "      <td>25142.240000</td>\n",
       "      <td>60307.930000</td>\n",
       "      <td>0.959829</td>\n",
       "      <td>0.755915</td>\n",
       "    </tr>\n",
       "  </tbody>\n",
       "</table>\n",
       "</div>"
      ],
      "text/plain": [
       "       treat         age        educ       black      hispan     married  \\\n",
       "count  185.0  185.000000  185.000000  185.000000  185.000000  185.000000   \n",
       "mean     1.0   25.816216   10.345946    0.843243    0.059459    0.189189   \n",
       "std      0.0    7.155019    2.010650    0.364558    0.237124    0.392722   \n",
       "min      1.0   17.000000    4.000000    0.000000    0.000000    0.000000   \n",
       "25%      1.0   20.000000    9.000000    1.000000    0.000000    0.000000   \n",
       "50%      1.0   25.000000   11.000000    1.000000    0.000000    0.000000   \n",
       "75%      1.0   29.000000   12.000000    1.000000    0.000000    0.000000   \n",
       "max      1.0   48.000000   16.000000    1.000000    1.000000    1.000000   \n",
       "\n",
       "         nodegree          re74          re75          re78  prob_control  \\\n",
       "count  185.000000    185.000000    185.000000    185.000000    185.000000   \n",
       "mean     0.708108   2095.573689   1532.055314   6349.143530      0.438131   \n",
       "std      0.455867   4886.620353   3219.250870   7867.402218      0.211763   \n",
       "min      0.000000      0.000000      0.000000      0.000000      0.244085   \n",
       "25%      0.000000      0.000000      0.000000    485.229800      0.293196   \n",
       "50%      1.000000      0.000000      0.000000   4232.309000      0.330664   \n",
       "75%      1.000000   1291.468000   1817.284000   9642.999000      0.524701   \n",
       "max      1.000000  35040.070000  25142.240000  60307.930000      0.959829   \n",
       "\n",
       "       prob_treat  \n",
       "count  185.000000  \n",
       "mean     0.561869  \n",
       "std      0.211763  \n",
       "min      0.040171  \n",
       "25%      0.475299  \n",
       "50%      0.669336  \n",
       "75%      0.706804  \n",
       "max      0.755915  "
      ]
     },
     "execution_count": 59,
     "metadata": {},
     "output_type": "execute_result"
    }
   ],
   "source": [
    "T.describe()"
   ]
  },
  {
   "cell_type": "code",
   "execution_count": 60,
   "metadata": {},
   "outputs": [
    {
     "data": {
      "text/html": [
       "<div>\n",
       "<style>\n",
       "    .dataframe thead tr:only-child th {\n",
       "        text-align: right;\n",
       "    }\n",
       "\n",
       "    .dataframe thead th {\n",
       "        text-align: left;\n",
       "    }\n",
       "\n",
       "    .dataframe tbody tr th {\n",
       "        vertical-align: top;\n",
       "    }\n",
       "</style>\n",
       "<table border=\"1\" class=\"dataframe\">\n",
       "  <thead>\n",
       "    <tr style=\"text-align: right;\">\n",
       "      <th></th>\n",
       "      <th>treat</th>\n",
       "      <th>age</th>\n",
       "      <th>educ</th>\n",
       "      <th>black</th>\n",
       "      <th>hispan</th>\n",
       "      <th>married</th>\n",
       "      <th>nodegree</th>\n",
       "      <th>re74</th>\n",
       "      <th>re75</th>\n",
       "      <th>re78</th>\n",
       "      <th>prob_control</th>\n",
       "      <th>prob_treat</th>\n",
       "    </tr>\n",
       "  </thead>\n",
       "  <tbody>\n",
       "    <tr>\n",
       "      <th>count</th>\n",
       "      <td>185.0</td>\n",
       "      <td>185.000000</td>\n",
       "      <td>185.000000</td>\n",
       "      <td>185.00000</td>\n",
       "      <td>185.000000</td>\n",
       "      <td>185.000000</td>\n",
       "      <td>185.000000</td>\n",
       "      <td>185.000000</td>\n",
       "      <td>185.000000</td>\n",
       "      <td>185.000000</td>\n",
       "      <td>185.000000</td>\n",
       "      <td>185.000000</td>\n",
       "    </tr>\n",
       "    <tr>\n",
       "      <th>mean</th>\n",
       "      <td>0.0</td>\n",
       "      <td>23.713514</td>\n",
       "      <td>10.162162</td>\n",
       "      <td>0.47027</td>\n",
       "      <td>0.118919</td>\n",
       "      <td>0.167568</td>\n",
       "      <td>0.627027</td>\n",
       "      <td>2095.885961</td>\n",
       "      <td>1615.306428</td>\n",
       "      <td>5312.474907</td>\n",
       "      <td>0.628934</td>\n",
       "      <td>0.371066</td>\n",
       "    </tr>\n",
       "    <tr>\n",
       "      <th>std</th>\n",
       "      <td>0.0</td>\n",
       "      <td>9.644726</td>\n",
       "      <td>2.861984</td>\n",
       "      <td>0.50047</td>\n",
       "      <td>0.324571</td>\n",
       "      <td>0.374495</td>\n",
       "      <td>0.484907</td>\n",
       "      <td>4029.201886</td>\n",
       "      <td>2674.747685</td>\n",
       "      <td>5842.884861</td>\n",
       "      <td>0.252452</td>\n",
       "      <td>0.252452</td>\n",
       "    </tr>\n",
       "    <tr>\n",
       "      <th>min</th>\n",
       "      <td>0.0</td>\n",
       "      <td>16.000000</td>\n",
       "      <td>0.000000</td>\n",
       "      <td>0.00000</td>\n",
       "      <td>0.000000</td>\n",
       "      <td>0.000000</td>\n",
       "      <td>0.000000</td>\n",
       "      <td>0.000000</td>\n",
       "      <td>0.000000</td>\n",
       "      <td>0.000000</td>\n",
       "      <td>0.221902</td>\n",
       "      <td>0.040057</td>\n",
       "    </tr>\n",
       "    <tr>\n",
       "      <th>25%</th>\n",
       "      <td>0.0</td>\n",
       "      <td>17.000000</td>\n",
       "      <td>9.000000</td>\n",
       "      <td>0.00000</td>\n",
       "      <td>0.000000</td>\n",
       "      <td>0.000000</td>\n",
       "      <td>0.000000</td>\n",
       "      <td>0.000000</td>\n",
       "      <td>0.000000</td>\n",
       "      <td>0.000000</td>\n",
       "      <td>0.321448</td>\n",
       "      <td>0.155030</td>\n",
       "    </tr>\n",
       "    <tr>\n",
       "      <th>50%</th>\n",
       "      <td>0.0</td>\n",
       "      <td>19.000000</td>\n",
       "      <td>10.000000</td>\n",
       "      <td>0.00000</td>\n",
       "      <td>0.000000</td>\n",
       "      <td>0.000000</td>\n",
       "      <td>1.000000</td>\n",
       "      <td>289.971500</td>\n",
       "      <td>451.161300</td>\n",
       "      <td>3392.860000</td>\n",
       "      <td>0.816256</td>\n",
       "      <td>0.183744</td>\n",
       "    </tr>\n",
       "    <tr>\n",
       "      <th>75%</th>\n",
       "      <td>0.0</td>\n",
       "      <td>26.000000</td>\n",
       "      <td>12.000000</td>\n",
       "      <td>1.00000</td>\n",
       "      <td>0.000000</td>\n",
       "      <td>0.000000</td>\n",
       "      <td>1.000000</td>\n",
       "      <td>2068.986000</td>\n",
       "      <td>1890.581000</td>\n",
       "      <td>7933.914000</td>\n",
       "      <td>0.844970</td>\n",
       "      <td>0.678552</td>\n",
       "    </tr>\n",
       "    <tr>\n",
       "      <th>max</th>\n",
       "      <td>0.0</td>\n",
       "      <td>55.000000</td>\n",
       "      <td>18.000000</td>\n",
       "      <td>1.00000</td>\n",
       "      <td>1.000000</td>\n",
       "      <td>1.000000</td>\n",
       "      <td>1.000000</td>\n",
       "      <td>21918.320000</td>\n",
       "      <td>13776.530000</td>\n",
       "      <td>20243.380000</td>\n",
       "      <td>0.959943</td>\n",
       "      <td>0.778098</td>\n",
       "    </tr>\n",
       "  </tbody>\n",
       "</table>\n",
       "</div>"
      ],
      "text/plain": [
       "       treat         age        educ      black      hispan     married  \\\n",
       "count  185.0  185.000000  185.000000  185.00000  185.000000  185.000000   \n",
       "mean     0.0   23.713514   10.162162    0.47027    0.118919    0.167568   \n",
       "std      0.0    9.644726    2.861984    0.50047    0.324571    0.374495   \n",
       "min      0.0   16.000000    0.000000    0.00000    0.000000    0.000000   \n",
       "25%      0.0   17.000000    9.000000    0.00000    0.000000    0.000000   \n",
       "50%      0.0   19.000000   10.000000    0.00000    0.000000    0.000000   \n",
       "75%      0.0   26.000000   12.000000    1.00000    0.000000    0.000000   \n",
       "max      0.0   55.000000   18.000000    1.00000    1.000000    1.000000   \n",
       "\n",
       "         nodegree          re74          re75          re78  prob_control  \\\n",
       "count  185.000000    185.000000    185.000000    185.000000    185.000000   \n",
       "mean     0.627027   2095.885961   1615.306428   5312.474907      0.628934   \n",
       "std      0.484907   4029.201886   2674.747685   5842.884861      0.252452   \n",
       "min      0.000000      0.000000      0.000000      0.000000      0.221902   \n",
       "25%      0.000000      0.000000      0.000000      0.000000      0.321448   \n",
       "50%      1.000000    289.971500    451.161300   3392.860000      0.816256   \n",
       "75%      1.000000   2068.986000   1890.581000   7933.914000      0.844970   \n",
       "max      1.000000  21918.320000  13776.530000  20243.380000      0.959943   \n",
       "\n",
       "       prob_treat  \n",
       "count  185.000000  \n",
       "mean     0.371066  \n",
       "std      0.252452  \n",
       "min      0.040057  \n",
       "25%      0.155030  \n",
       "50%      0.183744  \n",
       "75%      0.678552  \n",
       "max      0.778098  "
      ]
     },
     "execution_count": 60,
     "metadata": {},
     "output_type": "execute_result"
    }
   ],
   "source": [
    "C.describe()"
   ]
  },
  {
   "cell_type": "code",
   "execution_count": 61,
   "metadata": {},
   "outputs": [
    {
     "data": {
      "image/png": "[encoded data removed]",
      "text/plain": [
       "<matplotlib.figure.Figure at 0x11a1445c0>"
      ]
     },
     "metadata": {},
     "output_type": "display_data"
    }
   ],
   "source": [
    "plt.figure(figsize=(20,20))\n",
    "\n",
    "plt.subplot(221)\n",
    "plt.boxplot([C.re74,T.re74],0, 'rD')\n",
    "plt.ylabel('Real Earning')\n",
    "plt.xlabel('Group')    \n",
    "plt.title('Real Earning distributions for the year 1974')\n",
    "plt.xticks([1,2],['control','treatment'])\n",
    "\n",
    "plt.subplot(222)\n",
    "plt.boxplot([C.re75,T.re75],0, 'rD')\n",
    "plt.ylabel('Real Earning')\n",
    "plt.xlabel('Group')    \n",
    "plt.title('Real Earning distributions for the year 1975')\n",
    "plt.xticks([1,2],['control','treatment'])\n",
    "\n",
    "#boxplot for age and education\n",
    "plt.subplot(223)\n",
    "plt.boxplot([C.age,T.age], 0, 'bD')    \n",
    "plt.title('Age distribution')\n",
    "plt.ylabel('age')\n",
    "plt.xlabel('Group')    \n",
    "plt.xticks([1,2],['control','treatment'])\n",
    "\n",
    "plt.subplot(224)\n",
    "plt.boxplot([C.educ,T.educ], 0, 'gD')    \n",
    "plt.title('Education distribution')\n",
    "plt.ylabel('years of education')\n",
    "plt.xlabel('Group')    \n",
    "plt.xticks([1,2],['control','treatment'])\n",
    "plt.show()"
   ]
  },
  {
   "cell_type": "code",
   "execution_count": 62,
   "metadata": {
    "scrolled": true
   },
   "outputs": [
    {
     "data": {
      "text/html": [
       "<div>\n",
       "<style>\n",
       "    .dataframe thead tr:only-child th {\n",
       "        text-align: right;\n",
       "    }\n",
       "\n",
       "    .dataframe thead th {\n",
       "        text-align: left;\n",
       "    }\n",
       "\n",
       "    .dataframe tbody tr th {\n",
       "        vertical-align: top;\n",
       "    }\n",
       "</style>\n",
       "<table border=\"1\" class=\"dataframe\">\n",
       "  <thead>\n",
       "    <tr style=\"text-align: right;\">\n",
       "      <th></th>\n",
       "      <th>black</th>\n",
       "      <th>hispan</th>\n",
       "      <th>married</th>\n",
       "      <th>nodegree</th>\n",
       "    </tr>\n",
       "  </thead>\n",
       "  <tbody>\n",
       "    <tr>\n",
       "      <th>control</th>\n",
       "      <td>47.027027</td>\n",
       "      <td>11.891892</td>\n",
       "      <td>16.756757</td>\n",
       "      <td>62.702703</td>\n",
       "    </tr>\n",
       "    <tr>\n",
       "      <th>treatment</th>\n",
       "      <td>84.324324</td>\n",
       "      <td>5.945946</td>\n",
       "      <td>18.918919</td>\n",
       "      <td>70.810811</td>\n",
       "    </tr>\n",
       "  </tbody>\n",
       "</table>\n",
       "</div>"
      ],
      "text/plain": [
       "               black     hispan    married   nodegree\n",
       "control    47.027027  11.891892  16.756757  62.702703\n",
       "treatment  84.324324   5.945946  18.918919  70.810811"
      ]
     },
     "execution_count": 62,
     "metadata": {},
     "output_type": "execute_result"
    }
   ],
   "source": [
    "\n",
    "\n",
    "#ratios \n",
    "#compute the number of black /hispanic/married/nodegree person in each group\n",
    "C_ratio=C.iloc[:,4:8].sum()\n",
    "T_ratio=T.iloc[:,4:8].sum()\n",
    "\n",
    "# divide it by the total size of the group \n",
    "ratio=pd.DataFrame([100*C_ratio/len(C),100*T_ratio/len(T)])\n",
    "ratio.index=['control','treatment']\n",
    "ratio"
   ]
  },
  {
   "cell_type": "code",
   "execution_count": 63,
   "metadata": {},
   "outputs": [
    {
     "data": {
      "text/plain": [
       "([<matplotlib.axis.XTick at 0x11a123dd8>,\n",
       "  <matplotlib.axis.XTick at 0x11a0f4128>],\n",
       " <a list of 2 Text xticklabel objects>)"
      ]
     },
     "execution_count": 63,
     "metadata": {},
     "output_type": "execute_result"
    },
    {
     "data": {
      "image/png": "[encoded data removed]",
      "text/plain": [
       "<matplotlib.figure.Figure at 0x11a0f4ba8>"
      ]
     },
     "metadata": {},
     "output_type": "display_data"
    }
   ],
   "source": [
    "#create a figure and 1x3 subplots \n",
    "plt.figure(figsize=(10,10))\n",
    "plt.boxplot([C.re78,T.re78],0, 'rD')\n",
    "plt.ylabel('Real earning')\n",
    "plt.xlabel('Group')    \n",
    "plt.title('Real earnings distributions for the year 1978')\n",
    "plt.xticks([1,2],['control','treatment'])"
   ]
  },
  {
   "cell_type": "code",
   "execution_count": 78,
   "metadata": {
    "collapsed": true
   },
   "outputs": [],
   "source": [
    "#T_bal= T\n",
    "#C_bal=C\n",
    "#C_bal.index=range(0,185)\n",
    "#difference = C_bal.black - T_bal.black\n",
    "#C_bal=C_bal[difference==0]\n",
    "#T_bal=T_bal[difference==0]\n"
   ]
  },
  {
   "cell_type": "code",
   "execution_count": 87,
   "metadata": {
    "collapsed": true
   },
   "outputs": [],
   "source": [
    "#C_bal.describe()"
   ]
  },
  {
   "cell_type": "code",
   "execution_count": 88,
   "metadata": {
    "collapsed": true
   },
   "outputs": [],
   "source": [
    "#T_bal.describe()"
   ]
  },
  {
   "cell_type": "markdown",
   "metadata": {},
   "source": [
    "#### 5. Balancing the groups further\n",
    "\n",
    "Based on your comparison of feature-value distributions from part 4, are you fully satisfied with your matching?\n",
    "Would you say your dataset is sufficiently balanced?\n",
    "If not, in what ways could the \"balanced\" dataset you have obtained still not allow you to draw valid conclusions?\n",
    "\n",
    "Improve your matching by explicitly making sure that you match only subjects that have the same value for the problematic feature.\n",
    "Argue with numbers and plots that the two groups (treated and control) are now better balanced than after part 4."
   ]
  },
  {
   "cell_type": "code",
   "execution_count": 71,
   "metadata": {},
   "outputs": [
    {
     "data": {
      "text/plain": [
       "(0,\n",
       " {'age': 37,\n",
       "  'black': 1,\n",
       "  'idf': 'NSW1',\n",
       "  'prop': 0.44335042297442523,\n",
       "  'treat': 1})"
      ]
     },
     "execution_count": 71,
     "metadata": {},
     "output_type": "execute_result"
    }
   ],
   "source": [
    "import networkx as nx\n",
    "#we create a new graph , this time adding black as an attribute to the nodes\n",
    "G2 = nx.Graph()\n",
    "for k in range(len(data)):\n",
    "        G2.add_node(k, idf=data.id[k],prop= data.prob_treat[k],treat=data.treat[k],black=data.black[k],age=data.age[k])\n",
    "G2.nodes(1)[0]       "
   ]
  },
  {
   "cell_type": "code",
   "execution_count": 72,
   "metadata": {
    "collapsed": true
   },
   "outputs": [],
   "source": [
    "#we add edges between the nodes,\n",
    "#this time we make sure that \n",
    "for i in G2.nodes():\n",
    "    for j in G2.nodes():\n",
    "        if ((G2.nodes(1)[i][1]['treat']==1) & (G2.nodes(1)[j][1]['treat']==0)&(G2.nodes(1)[j][1]['black']==G2.nodes(1)[i][1]['black'])&(abs(G2.nodes(1)[j][1]['age']-G2.nodes(1)[i][1]['age']))<2):\n",
    "            W=-abs(G2.nodes(1)[i][1]['prop']-G2.nodes(1)[j][1]['prop'])\n",
    "            G2.add_edge(i, j, weight=W )"
   ]
  },
  {
   "cell_type": "code",
   "execution_count": 73,
   "metadata": {},
   "outputs": [
    {
     "name": "stdout",
     "output_type": "stream",
     "text": [
      "number of nodes in the graph: 614\n",
      "number of edges in the graph: 188805\n"
     ]
    }
   ],
   "source": [
    "print ('number of nodes in the graph: '+str(G2.number_of_nodes()))\n",
    "print('number of edges in the graph: '+str(G2.number_of_edges()))\n",
    "#We check if the graph is bipartite: \n",
    "if (nx.is_bipartite(G2)):\n",
    "    print( 'the graph is bipartite')"
   ]
  },
  {
   "cell_type": "code",
   "execution_count": 74,
   "metadata": {
    "collapsed": true
   },
   "outputs": [],
   "source": [
    "# we do the max. weight matching \n",
    "matching=nx.max_weight_matching(G2,True)"
   ]
  },
  {
   "cell_type": "code",
   "execution_count": null,
   "metadata": {
    "collapsed": true
   },
   "outputs": [],
   "source": []
  },
  {
   "cell_type": "code",
   "execution_count": null,
   "metadata": {
    "collapsed": true,
    "scrolled": false
   },
   "outputs": [],
   "source": []
  },
  {
   "cell_type": "code",
   "execution_count": 75,
   "metadata": {
    "collapsed": true
   },
   "outputs": [],
   "source": [
    "#We create the resulting subsets\n",
    "T2=pd.DataFrame([])\n",
    "C2=pd.DataFrame([])\n",
    "for k in range(0,185):\n",
    "    if k in matching:\n",
    "        T2=pd.concat([T2,data[data.index==k]])\n",
    "        C2=pd.concat([C2,data[data.index==matching[k]]])\n"
   ]
  },
  {
   "cell_type": "code",
   "execution_count": 76,
   "metadata": {
    "scrolled": true
   },
   "outputs": [
    {
     "data": {
      "text/html": [
       "<div>\n",
       "<style>\n",
       "    .dataframe thead tr:only-child th {\n",
       "        text-align: right;\n",
       "    }\n",
       "\n",
       "    .dataframe thead th {\n",
       "        text-align: left;\n",
       "    }\n",
       "\n",
       "    .dataframe tbody tr th {\n",
       "        vertical-align: top;\n",
       "    }\n",
       "</style>\n",
       "<table border=\"1\" class=\"dataframe\">\n",
       "  <thead>\n",
       "    <tr style=\"text-align: right;\">\n",
       "      <th></th>\n",
       "      <th>treat</th>\n",
       "      <th>age</th>\n",
       "      <th>educ</th>\n",
       "      <th>black</th>\n",
       "      <th>hispan</th>\n",
       "      <th>married</th>\n",
       "      <th>nodegree</th>\n",
       "      <th>re74</th>\n",
       "      <th>re75</th>\n",
       "      <th>re78</th>\n",
       "      <th>prob_control</th>\n",
       "      <th>prob_treat</th>\n",
       "    </tr>\n",
       "  </thead>\n",
       "  <tbody>\n",
       "    <tr>\n",
       "      <th>count</th>\n",
       "      <td>185.0</td>\n",
       "      <td>185.000000</td>\n",
       "      <td>185.000000</td>\n",
       "      <td>185.000000</td>\n",
       "      <td>185.000000</td>\n",
       "      <td>185.000000</td>\n",
       "      <td>185.000000</td>\n",
       "      <td>185.000000</td>\n",
       "      <td>185.000000</td>\n",
       "      <td>185.000000</td>\n",
       "      <td>185.000000</td>\n",
       "      <td>185.000000</td>\n",
       "    </tr>\n",
       "    <tr>\n",
       "      <th>mean</th>\n",
       "      <td>1.0</td>\n",
       "      <td>25.816216</td>\n",
       "      <td>10.345946</td>\n",
       "      <td>0.843243</td>\n",
       "      <td>0.059459</td>\n",
       "      <td>0.189189</td>\n",
       "      <td>0.708108</td>\n",
       "      <td>2095.573689</td>\n",
       "      <td>1532.055314</td>\n",
       "      <td>6349.143530</td>\n",
       "      <td>0.438131</td>\n",
       "      <td>0.561869</td>\n",
       "    </tr>\n",
       "    <tr>\n",
       "      <th>std</th>\n",
       "      <td>0.0</td>\n",
       "      <td>7.155019</td>\n",
       "      <td>2.010650</td>\n",
       "      <td>0.364558</td>\n",
       "      <td>0.237124</td>\n",
       "      <td>0.392722</td>\n",
       "      <td>0.455867</td>\n",
       "      <td>4886.620353</td>\n",
       "      <td>3219.250870</td>\n",
       "      <td>7867.402218</td>\n",
       "      <td>0.211763</td>\n",
       "      <td>0.211763</td>\n",
       "    </tr>\n",
       "    <tr>\n",
       "      <th>min</th>\n",
       "      <td>1.0</td>\n",
       "      <td>17.000000</td>\n",
       "      <td>4.000000</td>\n",
       "      <td>0.000000</td>\n",
       "      <td>0.000000</td>\n",
       "      <td>0.000000</td>\n",
       "      <td>0.000000</td>\n",
       "      <td>0.000000</td>\n",
       "      <td>0.000000</td>\n",
       "      <td>0.000000</td>\n",
       "      <td>0.244085</td>\n",
       "      <td>0.040171</td>\n",
       "    </tr>\n",
       "    <tr>\n",
       "      <th>25%</th>\n",
       "      <td>1.0</td>\n",
       "      <td>20.000000</td>\n",
       "      <td>9.000000</td>\n",
       "      <td>1.000000</td>\n",
       "      <td>0.000000</td>\n",
       "      <td>0.000000</td>\n",
       "      <td>0.000000</td>\n",
       "      <td>0.000000</td>\n",
       "      <td>0.000000</td>\n",
       "      <td>485.229800</td>\n",
       "      <td>0.293196</td>\n",
       "      <td>0.475299</td>\n",
       "    </tr>\n",
       "    <tr>\n",
       "      <th>50%</th>\n",
       "      <td>1.0</td>\n",
       "      <td>25.000000</td>\n",
       "      <td>11.000000</td>\n",
       "      <td>1.000000</td>\n",
       "      <td>0.000000</td>\n",
       "      <td>0.000000</td>\n",
       "      <td>1.000000</td>\n",
       "      <td>0.000000</td>\n",
       "      <td>0.000000</td>\n",
       "      <td>4232.309000</td>\n",
       "      <td>0.330664</td>\n",
       "      <td>0.669336</td>\n",
       "    </tr>\n",
       "    <tr>\n",
       "      <th>75%</th>\n",
       "      <td>1.0</td>\n",
       "      <td>29.000000</td>\n",
       "      <td>12.000000</td>\n",
       "      <td>1.000000</td>\n",
       "      <td>0.000000</td>\n",
       "      <td>0.000000</td>\n",
       "      <td>1.000000</td>\n",
       "      <td>1291.468000</td>\n",
       "      <td>1817.284000</td>\n",
       "      <td>9642.999000</td>\n",
       "      <td>0.524701</td>\n",
       "      <td>0.706804</td>\n",
       "    </tr>\n",
       "    <tr>\n",
       "      <th>max</th>\n",
       "      <td>1.0</td>\n",
       "      <td>48.000000</td>\n",
       "      <td>16.000000</td>\n",
       "      <td>1.000000</td>\n",
       "      <td>1.000000</td>\n",
       "      <td>1.000000</td>\n",
       "      <td>1.000000</td>\n",
       "      <td>35040.070000</td>\n",
       "      <td>25142.240000</td>\n",
       "      <td>60307.930000</td>\n",
       "      <td>0.959829</td>\n",
       "      <td>0.755915</td>\n",
       "    </tr>\n",
       "  </tbody>\n",
       "</table>\n",
       "</div>"
      ],
      "text/plain": [
       "       treat         age        educ       black      hispan     married  \\\n",
       "count  185.0  185.000000  185.000000  185.000000  185.000000  185.000000   \n",
       "mean     1.0   25.816216   10.345946    0.843243    0.059459    0.189189   \n",
       "std      0.0    7.155019    2.010650    0.364558    0.237124    0.392722   \n",
       "min      1.0   17.000000    4.000000    0.000000    0.000000    0.000000   \n",
       "25%      1.0   20.000000    9.000000    1.000000    0.000000    0.000000   \n",
       "50%      1.0   25.000000   11.000000    1.000000    0.000000    0.000000   \n",
       "75%      1.0   29.000000   12.000000    1.000000    0.000000    0.000000   \n",
       "max      1.0   48.000000   16.000000    1.000000    1.000000    1.000000   \n",
       "\n",
       "         nodegree          re74          re75          re78  prob_control  \\\n",
       "count  185.000000    185.000000    185.000000    185.000000    185.000000   \n",
       "mean     0.708108   2095.573689   1532.055314   6349.143530      0.438131   \n",
       "std      0.455867   4886.620353   3219.250870   7867.402218      0.211763   \n",
       "min      0.000000      0.000000      0.000000      0.000000      0.244085   \n",
       "25%      0.000000      0.000000      0.000000    485.229800      0.293196   \n",
       "50%      1.000000      0.000000      0.000000   4232.309000      0.330664   \n",
       "75%      1.000000   1291.468000   1817.284000   9642.999000      0.524701   \n",
       "max      1.000000  35040.070000  25142.240000  60307.930000      0.959829   \n",
       "\n",
       "       prob_treat  \n",
       "count  185.000000  \n",
       "mean     0.561869  \n",
       "std      0.211763  \n",
       "min      0.040171  \n",
       "25%      0.475299  \n",
       "50%      0.669336  \n",
       "75%      0.706804  \n",
       "max      0.755915  "
      ]
     },
     "execution_count": 76,
     "metadata": {},
     "output_type": "execute_result"
    }
   ],
   "source": [
    "T2.describe()"
   ]
  },
  {
   "cell_type": "code",
   "execution_count": 77,
   "metadata": {
    "scrolled": true
   },
   "outputs": [
    {
     "data": {
      "text/html": [
       "<div>\n",
       "<style>\n",
       "    .dataframe thead tr:only-child th {\n",
       "        text-align: right;\n",
       "    }\n",
       "\n",
       "    .dataframe thead th {\n",
       "        text-align: left;\n",
       "    }\n",
       "\n",
       "    .dataframe tbody tr th {\n",
       "        vertical-align: top;\n",
       "    }\n",
       "</style>\n",
       "<table border=\"1\" class=\"dataframe\">\n",
       "  <thead>\n",
       "    <tr style=\"text-align: right;\">\n",
       "      <th></th>\n",
       "      <th>treat</th>\n",
       "      <th>age</th>\n",
       "      <th>educ</th>\n",
       "      <th>black</th>\n",
       "      <th>hispan</th>\n",
       "      <th>married</th>\n",
       "      <th>nodegree</th>\n",
       "      <th>re74</th>\n",
       "      <th>re75</th>\n",
       "      <th>re78</th>\n",
       "      <th>prob_control</th>\n",
       "      <th>prob_treat</th>\n",
       "    </tr>\n",
       "  </thead>\n",
       "  <tbody>\n",
       "    <tr>\n",
       "      <th>count</th>\n",
       "      <td>185.000000</td>\n",
       "      <td>185.000000</td>\n",
       "      <td>185.000000</td>\n",
       "      <td>185.000000</td>\n",
       "      <td>185.000000</td>\n",
       "      <td>185.000000</td>\n",
       "      <td>185.000000</td>\n",
       "      <td>185.000000</td>\n",
       "      <td>185.000000</td>\n",
       "      <td>185.000000</td>\n",
       "      <td>185.000000</td>\n",
       "      <td>185.000000</td>\n",
       "    </tr>\n",
       "    <tr>\n",
       "      <th>mean</th>\n",
       "      <td>0.562162</td>\n",
       "      <td>25.216216</td>\n",
       "      <td>10.297297</td>\n",
       "      <td>0.837838</td>\n",
       "      <td>0.032432</td>\n",
       "      <td>0.189189</td>\n",
       "      <td>0.697297</td>\n",
       "      <td>1969.406295</td>\n",
       "      <td>1407.572085</td>\n",
       "      <td>5688.019013</td>\n",
       "      <td>0.438025</td>\n",
       "      <td>0.561975</td>\n",
       "    </tr>\n",
       "    <tr>\n",
       "      <th>std</th>\n",
       "      <td>0.497467</td>\n",
       "      <td>8.555875</td>\n",
       "      <td>2.142541</td>\n",
       "      <td>0.369600</td>\n",
       "      <td>0.177626</td>\n",
       "      <td>0.392722</td>\n",
       "      <td>0.460674</td>\n",
       "      <td>3875.322475</td>\n",
       "      <td>2865.524276</td>\n",
       "      <td>7422.129584</td>\n",
       "      <td>0.211604</td>\n",
       "      <td>0.211604</td>\n",
       "    </tr>\n",
       "    <tr>\n",
       "      <th>min</th>\n",
       "      <td>0.000000</td>\n",
       "      <td>16.000000</td>\n",
       "      <td>2.000000</td>\n",
       "      <td>0.000000</td>\n",
       "      <td>0.000000</td>\n",
       "      <td>0.000000</td>\n",
       "      <td>0.000000</td>\n",
       "      <td>0.000000</td>\n",
       "      <td>0.000000</td>\n",
       "      <td>0.000000</td>\n",
       "      <td>0.234957</td>\n",
       "      <td>0.040291</td>\n",
       "    </tr>\n",
       "    <tr>\n",
       "      <th>25%</th>\n",
       "      <td>0.000000</td>\n",
       "      <td>19.000000</td>\n",
       "      <td>9.000000</td>\n",
       "      <td>1.000000</td>\n",
       "      <td>0.000000</td>\n",
       "      <td>0.000000</td>\n",
       "      <td>0.000000</td>\n",
       "      <td>0.000000</td>\n",
       "      <td>0.000000</td>\n",
       "      <td>0.000000</td>\n",
       "      <td>0.293000</td>\n",
       "      <td>0.475299</td>\n",
       "    </tr>\n",
       "    <tr>\n",
       "      <th>50%</th>\n",
       "      <td>1.000000</td>\n",
       "      <td>23.000000</td>\n",
       "      <td>11.000000</td>\n",
       "      <td>1.000000</td>\n",
       "      <td>0.000000</td>\n",
       "      <td>0.000000</td>\n",
       "      <td>1.000000</td>\n",
       "      <td>0.000000</td>\n",
       "      <td>0.000000</td>\n",
       "      <td>3406.160000</td>\n",
       "      <td>0.330664</td>\n",
       "      <td>0.669336</td>\n",
       "    </tr>\n",
       "    <tr>\n",
       "      <th>75%</th>\n",
       "      <td>1.000000</td>\n",
       "      <td>28.000000</td>\n",
       "      <td>12.000000</td>\n",
       "      <td>1.000000</td>\n",
       "      <td>0.000000</td>\n",
       "      <td>0.000000</td>\n",
       "      <td>1.000000</td>\n",
       "      <td>1714.358000</td>\n",
       "      <td>1890.581000</td>\n",
       "      <td>8546.715000</td>\n",
       "      <td>0.524701</td>\n",
       "      <td>0.707000</td>\n",
       "    </tr>\n",
       "    <tr>\n",
       "      <th>max</th>\n",
       "      <td>1.000000</td>\n",
       "      <td>53.000000</td>\n",
       "      <td>16.000000</td>\n",
       "      <td>1.000000</td>\n",
       "      <td>1.000000</td>\n",
       "      <td>1.000000</td>\n",
       "      <td>1.000000</td>\n",
       "      <td>21918.320000</td>\n",
       "      <td>25142.240000</td>\n",
       "      <td>60307.930000</td>\n",
       "      <td>0.959709</td>\n",
       "      <td>0.765043</td>\n",
       "    </tr>\n",
       "  </tbody>\n",
       "</table>\n",
       "</div>"
      ],
      "text/plain": [
       "            treat         age        educ       black      hispan     married  \\\n",
       "count  185.000000  185.000000  185.000000  185.000000  185.000000  185.000000   \n",
       "mean     0.562162   25.216216   10.297297    0.837838    0.032432    0.189189   \n",
       "std      0.497467    8.555875    2.142541    0.369600    0.177626    0.392722   \n",
       "min      0.000000   16.000000    2.000000    0.000000    0.000000    0.000000   \n",
       "25%      0.000000   19.000000    9.000000    1.000000    0.000000    0.000000   \n",
       "50%      1.000000   23.000000   11.000000    1.000000    0.000000    0.000000   \n",
       "75%      1.000000   28.000000   12.000000    1.000000    0.000000    0.000000   \n",
       "max      1.000000   53.000000   16.000000    1.000000    1.000000    1.000000   \n",
       "\n",
       "         nodegree          re74          re75          re78  prob_control  \\\n",
       "count  185.000000    185.000000    185.000000    185.000000    185.000000   \n",
       "mean     0.697297   1969.406295   1407.572085   5688.019013      0.438025   \n",
       "std      0.460674   3875.322475   2865.524276   7422.129584      0.211604   \n",
       "min      0.000000      0.000000      0.000000      0.000000      0.234957   \n",
       "25%      0.000000      0.000000      0.000000      0.000000      0.293000   \n",
       "50%      1.000000      0.000000      0.000000   3406.160000      0.330664   \n",
       "75%      1.000000   1714.358000   1890.581000   8546.715000      0.524701   \n",
       "max      1.000000  21918.320000  25142.240000  60307.930000      0.959709   \n",
       "\n",
       "       prob_treat  \n",
       "count  185.000000  \n",
       "mean     0.561975  \n",
       "std      0.211604  \n",
       "min      0.040291  \n",
       "25%      0.475299  \n",
       "50%      0.669336  \n",
       "75%      0.707000  \n",
       "max      0.765043  "
      ]
     },
     "execution_count": 77,
     "metadata": {},
     "output_type": "execute_result"
    }
   ],
   "source": [
    "C2.describe()"
   ]
  },
  {
   "cell_type": "code",
   "execution_count": null,
   "metadata": {},
   "outputs": [],
   "source": []
  },
  {
   "cell_type": "markdown",
   "metadata": {},
   "source": [
    "#### 6. A less naive analysis\n",
    "\n",
    "Compare the outcomes (`re78`) between treated and control subjects, as you've done in part 1, but now only for the matched dataset you've obtained from part 5.\n",
    "What do you conclude about the effectiveness of the job training program?\n",
    "\n",
    "#### Answer : "
   ]
  },
  {
   "cell_type": "code",
   "execution_count": 78,
   "metadata": {},
   "outputs": [
    {
     "data": {
      "image/png": "[encoded data removed]",
      "text/plain": [
       "<matplotlib.figure.Figure at 0x115b20978>"
      ]
     },
     "metadata": {},
     "output_type": "display_data"
    }
   ],
   "source": [
    "plt.figure(figsize=(20,20))\n",
    "\n",
    "plt.subplot(221)\n",
    "plt.boxplot([C2.re74,T2.re74],0, 'rD')\n",
    "plt.ylabel('Real Earning')\n",
    "plt.xlabel('Group')    \n",
    "plt.title('Real Earning distributions for the year 1974')\n",
    "plt.xticks([1,2],['control','treatment'])\n",
    "\n",
    "plt.subplot(222)\n",
    "plt.boxplot([C2.re75,T2.re75],0, 'rD')\n",
    "plt.ylabel('Real Earning')\n",
    "plt.xlabel('Group')    \n",
    "plt.title('Real Earning distributions for the year 1975')\n",
    "plt.xticks([1,2],['control','treatment'])\n",
    "\n",
    "#boxplot for age and education\n",
    "plt.subplot(223)\n",
    "plt.boxplot([C2.age,T2.age], 0, 'bD')    \n",
    "plt.title('Age distribution')\n",
    "plt.ylabel('age')\n",
    "plt.xlabel('Group')    \n",
    "plt.xticks([1,2],['control','treatment'])\n",
    "\n",
    "plt.subplot(224)\n",
    "plt.boxplot([C2.educ,T2.educ], 0, 'gD')    \n",
    "plt.title('Education distribution')\n",
    "plt.ylabel('years of education')\n",
    "plt.xlabel('Group')    \n",
    "plt.xticks([1,2],['control','treatment'])\n",
    "plt.show()"
   ]
  },
  {
   "cell_type": "code",
   "execution_count": 79,
   "metadata": {},
   "outputs": [
    {
     "data": {
      "text/html": [
       "<div>\n",
       "<style>\n",
       "    .dataframe thead tr:only-child th {\n",
       "        text-align: right;\n",
       "    }\n",
       "\n",
       "    .dataframe thead th {\n",
       "        text-align: left;\n",
       "    }\n",
       "\n",
       "    .dataframe tbody tr th {\n",
       "        vertical-align: top;\n",
       "    }\n",
       "</style>\n",
       "<table border=\"1\" class=\"dataframe\">\n",
       "  <thead>\n",
       "    <tr style=\"text-align: right;\">\n",
       "      <th></th>\n",
       "      <th>black</th>\n",
       "      <th>hispan</th>\n",
       "      <th>married</th>\n",
       "      <th>nodegree</th>\n",
       "    </tr>\n",
       "  </thead>\n",
       "  <tbody>\n",
       "    <tr>\n",
       "      <th>control</th>\n",
       "      <td>83.783784</td>\n",
       "      <td>3.243243</td>\n",
       "      <td>18.918919</td>\n",
       "      <td>69.729730</td>\n",
       "    </tr>\n",
       "    <tr>\n",
       "      <th>treatment</th>\n",
       "      <td>84.324324</td>\n",
       "      <td>5.945946</td>\n",
       "      <td>18.918919</td>\n",
       "      <td>70.810811</td>\n",
       "    </tr>\n",
       "  </tbody>\n",
       "</table>\n",
       "</div>"
      ],
      "text/plain": [
       "               black    hispan    married   nodegree\n",
       "control    83.783784  3.243243  18.918919  69.729730\n",
       "treatment  84.324324  5.945946  18.918919  70.810811"
      ]
     },
     "execution_count": 79,
     "metadata": {},
     "output_type": "execute_result"
    }
   ],
   "source": [
    "#ratios \n",
    "#compute the number of black /hispanic/married/nodegree person in each group\n",
    "C2_ratio=C2.iloc[:,4:8].sum()\n",
    "T2_ratio=T2.iloc[:,4:8].sum()\n",
    "\n",
    "# divide it by the total size of the group \n",
    "ratio=pd.DataFrame([100*C2_ratio/len(C2),100*T2_ratio/len(T2)])\n",
    "ratio.index=['control','treatment']\n",
    "ratio"
   ]
  },
  {
   "cell_type": "code",
   "execution_count": 80,
   "metadata": {},
   "outputs": [
    {
     "data": {
      "text/plain": [
       "([<matplotlib.axis.XTick at 0x116af4438>,\n",
       "  <matplotlib.axis.XTick at 0x119bc0ba8>],\n",
       " <a list of 2 Text xticklabel objects>)"
      ]
     },
     "execution_count": 80,
     "metadata": {},
     "output_type": "execute_result"
    },
    {
     "data": {
      "image/png": "[encoded data removed]",
      "text/plain": [
       "<matplotlib.figure.Figure at 0x115f357f0>"
      ]
     },
     "metadata": {},
     "output_type": "display_data"
    }
   ],
   "source": [
    "#create a figure and 1x3 subplots \n",
    "plt.figure(figsize=(10,10))\n",
    "plt.boxplot([C2.re78,T2.re78],0, 'rD')\n",
    "plt.ylabel('Real earning')\n",
    "plt.xlabel('Group')    \n",
    "plt.title('Real earnings distributions for the year 1978')\n",
    "plt.xticks([1,2],['control','treatment'])"
   ]
  },
  {
   "cell_type": "markdown",
   "metadata": {},
   "source": [
    "# Question 2: Applied ML"
   ]
  },
  {
   "cell_type": "markdown",
   "metadata": {},
   "source": [
    "We are going to build a classifier of news to directly assign them to 20 news categories. Note that the pipeline that you will build in this exercise could be of great help during your project if you plan to work with text!"
   ]
  },
  {
   "cell_type": "markdown",
   "metadata": {},
   "source": [
    "## Part 1"
   ]
  },
  {
   "cell_type": "markdown",
   "metadata": {},
   "source": [
    "- Load the 20newsgroup dataset. It is, again, a classic dataset that can directly be loaded using sklearn ([link](http://scikit-learn.org/stable/datasets/twenty_newsgroups.html)).  \n",
    "[TF-IDF](https://en.wikipedia.org/wiki/Tf%E2%80%93idf), short for term frequencyâ€“inverse document frequency, is of great help when if comes to compute textual features. Indeed, it gives more importance to terms that are more specific to the considered articles (TF) but reduces the importance of terms that are very frequent in the entire corpus (IDF). Compute TF-IDF features for every article using [TfidfVectorizer](http://scikit-learn.org/stable/modules/generated/sklearn.feature_extraction.text.TfidfVectorizer.html). Then, split your dataset into a training, a testing and a validation set (10% for validation and 10% for testing). Each observation should be paired with its corresponding label (the article category)."
   ]
  },
  {
   "cell_type": "markdown",
   "metadata": {},
   "source": [
    "### Solution"
   ]
  },
  {
   "cell_type": "markdown",
   "metadata": {},
   "source": [
    "Import libraries:"
   ]
  },
  {
   "cell_type": "code",
   "execution_count": 2,
   "metadata": {
    "collapsed": true
   },
   "outputs": [],
   "source": [
    "from sklearn.datasets import fetch_20newsgroups\n",
    "from sklearn.feature_extraction.text import TfidfVectorizer"
   ]
  },
  {
   "cell_type": "markdown",
   "metadata": {},
   "source": [
    "We retrieve the articles from the sklearn dataset. We can see the 20 categories that we are going to cluster the articles into. We decided to get the data in a random order so that we do not have to randomize the order later when splitting the data into training, testing and validation datasets."
   ]
  },
  {
   "cell_type": "code",
   "execution_count": 3,
   "metadata": {},
   "outputs": [
    {
     "name": "stderr",
     "output_type": "stream",
     "text": [
      "Downloading dataset from http://people.csail.mit.edu/jrennie/20Newsgroups/20news-bydate.tar.gz (14 MB)\n"
     ]
    },
    {
     "name": "stdout",
     "output_type": "stream",
     "text": [
      "The 20 categories are:\n",
      "['alt.atheism',\n",
      " 'comp.graphics',\n",
      " 'comp.os.ms-windows.misc',\n",
      " 'comp.sys.ibm.pc.hardware',\n",
      " 'comp.sys.mac.hardware',\n",
      " 'comp.windows.x',\n",
      " 'misc.forsale',\n",
      " 'rec.autos',\n",
      " 'rec.motorcycles',\n",
      " 'rec.sport.baseball',\n",
      " 'rec.sport.hockey',\n",
      " 'sci.crypt',\n",
      " 'sci.electronics',\n",
      " 'sci.med',\n",
      " 'sci.space',\n",
      " 'soc.religion.christian',\n",
      " 'talk.politics.guns',\n",
      " 'talk.politics.mideast',\n",
      " 'talk.politics.misc',\n",
      " 'talk.religion.misc']\n"
     ]
    }
   ],
   "source": [
    "#Fetch data. We download the data if it is not saved already.\n",
    "newsgroups20 = fetch_20newsgroups(subset='all', shuffle=True, random_state=42, download_if_missing=True)\n",
    "\n",
    "#20 news categories\n",
    "categories = newsgroups20.target_names\n",
    "\n",
    "#printing it!\n",
    "print (\"The 20 categories are:\")\n",
    "pprint(list(newsgroups20.target_names))\n"
   ]
  },
  {
   "cell_type": "code",
   "execution_count": null,
   "metadata": {
    "collapsed": true
   },
   "outputs": [],
   "source": []
  },
  {
   "cell_type": "code",
   "execution_count": 5,
   "metadata": {},
   "outputs": [
    {
     "name": "stdout",
     "output_type": "stream",
     "text": [
      "  (0, 282387)\t0.0140258057605\n",
      "  (0, 365517)\t0.113522139385\n",
      "  (0, 237867)\t0.11127683307\n",
      "  (0, 450247)\t0.110280777821\n",
      "  (0, 123734)\t0.117802347049\n",
      "  (0, 423435)\t0.430992321225\n",
      "  (0, 268816)\t0.147765943013\n",
      "  (0, 451143)\t0.121668965308\n",
      "  (0, 434140)\t0.0520731444266\n",
      "  (0, 405733)\t0.0896450297201\n",
      "  (0, 197952)\t0.0714324612804\n",
      "  (0, 373078)\t0.0757326847264\n",
      "  (0, 428627)\t0.0729556662549\n",
      "  (0, 417615)\t0.0744050019808\n",
      "  (0, 77954)\t0.083588891865\n",
      "  (0, 431478)\t0.136434968273\n",
      "  (0, 150033)\t0.108705621629\n",
      "  (0, 506414)\t0.0461762191086\n",
      "  (0, 490927)\t0.0306860931226\n",
      "  (0, 173795)\t0.13098527592\n",
      "  (0, 402464)\t0.0926395655756\n",
      "  (0, 160883)\t0.0460336953254\n",
      "  (0, 437567)\t0.0542189115102\n",
      "  (0, 216675)\t0.0854213348028\n",
      "  (0, 137875)\t0.0557677685832\n",
      "  :\t:\n",
      "  (18845, 273981)\t0.102179157679\n",
      "  (18845, 104201)\t0.102179157679\n",
      "  (18845, 94404)\t0.102179157679\n",
      "  (18845, 225732)\t0.102179157679\n",
      "  (18845, 48685)\t0.102179157679\n",
      "  (18845, 31750)\t0.102179157679\n",
      "  (18845, 31749)\t0.102179157679\n",
      "  (18845, 153856)\t0.102179157679\n",
      "  (18845, 154697)\t0.102179157679\n",
      "  (18845, 370920)\t0.102179157679\n",
      "  (18845, 28465)\t0.102179157679\n",
      "  (18845, 494076)\t0.102179157679\n",
      "  (18845, 198667)\t0.102179157679\n",
      "  (18845, 97563)\t0.102179157679\n",
      "  (18845, 450179)\t0.102179157679\n",
      "  (18845, 491272)\t0.102179157679\n",
      "  (18845, 530185)\t0.102179157679\n",
      "  (18845, 490884)\t0.102179157679\n",
      "  (18845, 486379)\t0.102179157679\n",
      "  (18845, 527127)\t0.102179157679\n",
      "  (18845, 420469)\t0.102179157679\n",
      "  (18845, 433719)\t0.102179157679\n",
      "  (18845, 576275)\t0.102179157679\n",
      "  (18845, 530624)\t0.102179157679\n",
      "  (18845, 467806)\t0.102179157679\n"
     ]
    }
   ],
   "source": [
    "#Function to separate the documents into tokens by splitting on spaces and changing all characters to lowercase.\n",
    "tokenize = lambda doc: doc.lower().split(\" \")\n",
    "\n",
    "# We create the sklearn TFIDF vectorizer, and compute the tfidf features of the data.\n",
    "tfidf = TfidfVectorizer(tokenizer=tokenize)\n",
    "tfidf_results = tfidf.fit_transform(newsgroups20.data)\n",
    "\n",
    "print(tfidf_results)"
   ]
  },
  {
   "cell_type": "markdown",
   "metadata": {},
   "source": [
    "Next we separate the data into training, testing and validation data sets. We don't randomize it since we loaded the data in random order earlier."
   ]
  },
  {
   "cell_type": "code",
   "execution_count": 28,
   "metadata": {
    "collapsed": true
   },
   "outputs": [],
   "source": [
    "data_len = len(newsgroups20.data)\n",
    "\n",
    "data_80 = 8 * int(data_len / 10)\n",
    "data_90 = 9 * int(data_len / 10)\n",
    "\n",
    "#80% training data\n",
    "train_tfidf = tfidf_results[:data_80]\n",
    "train_data = newsgroups20['target'][:data_80]\n",
    "\n",
    "#10% testing data\n",
    "test_tfidf = tfidf_results[data_80:data_90]\n",
    "test_data = newsgroups20['target'][data_80:data_90]\n",
    "\n",
    "#10% validation data\n",
    "val_tfidf = tfidf_results[data_90:]\n",
    "val_data = newsgroups20['target'][data_90:]"
   ]
  },
  {
   "cell_type": "markdown",
   "metadata": {},
   "source": [
    "## Part 2"
   ]
  },
  {
   "cell_type": "markdown",
   "metadata": {},
   "source": [
    "- Train a random forest on your training set. Try to fine-tune the parameters of your predictor on your validation set using a simple grid search on the number of estimator \"n_estimators\" and the max depth of the trees \"max_depth\". Then, display a confusion matrix of your classification pipeline. Lastly, once you assessed your model, inspect the `feature_importances_` attribute of your random forest and discuss the obtained results."
   ]
  },
  {
   "cell_type": "markdown",
   "metadata": {},
   "source": [
    "Import libraries:"
   ]
  },
  {
   "cell_type": "code",
   "execution_count": 2,
   "metadata": {
    "collapsed": true
   },
   "outputs": [],
   "source": [
    "from sklearn.ensemble import RandomForestClassifier"
   ]
  },
  {
   "cell_type": "code",
   "execution_count": null,
   "metadata": {
    "collapsed": true
   },
   "outputs": [],
   "source": []
  }
 ],
 "metadata": {
  "kernelspec": {
   "display_name": "Python 3",
   "language": "python",
   "name": "python3"
  },
  "language_info": {
   "codemirror_mode": {
    "name": "ipython",
    "version": 3
   },
   "file_extension": ".py",
   "mimetype": "text/x-python",
   "name": "python",
   "nbconvert_exporter": "python",
   "pygments_lexer": "ipython3",
   "version": "3.6.1"
  }
 },
 "nbformat": 4,
 "nbformat_minor": 2
}
